{
 "cells": [
  {
   "cell_type": "code",
   "execution_count": 1,
   "metadata": {
    "collapsed": false
   },
   "outputs": [],
   "source": [
    "import pandas as pd\n",
    "import numpy as np"
   ]
  },
  {
   "cell_type": "code",
   "execution_count": 2,
   "metadata": {
    "collapsed": false
   },
   "outputs": [],
   "source": [
    "dfrh = pd.read_csv(\"./songs/feats.rh\",header=None )"
   ]
  },
  {
   "cell_type": "code",
   "execution_count": 3,
   "metadata": {
    "collapsed": false
   },
   "outputs": [],
   "source": [
    "dfrp = pd.read_csv(\"./songs/feats.rp\",header=None )"
   ]
  },
  {
   "cell_type": "code",
   "execution_count": 4,
   "metadata": {
    "collapsed": true
   },
   "outputs": [],
   "source": [
    "dfssd = pd.read_csv(\"./songs/feats.ssd\",header=None )"
   ]
  },
  {
   "cell_type": "code",
   "execution_count": 5,
   "metadata": {
    "collapsed": false
   },
   "outputs": [
    {
     "data": {
      "text/plain": [
       "(40, 168)"
      ]
     },
     "execution_count": 5,
     "metadata": {},
     "output_type": "execute_result"
    }
   ],
   "source": [
    "dfssd.as_matrix()[:,1:].shape"
   ]
  },
  {
   "cell_type": "code",
   "execution_count": 6,
   "metadata": {
    "collapsed": false
   },
   "outputs": [],
   "source": [
    "X = np.hstack([np.hstack([dfrh.as_matrix()[:,1:], dfrp.as_matrix()[:,1:]]),dfssd.as_matrix()[:,1:]])"
   ]
  },
  {
   "cell_type": "code",
   "execution_count": 7,
   "metadata": {
    "collapsed": false
   },
   "outputs": [
    {
     "data": {
      "text/plain": [
       "(40, 1668)"
      ]
     },
     "execution_count": 7,
     "metadata": {},
     "output_type": "execute_result"
    }
   ],
   "source": [
    "X.shape"
   ]
  },
  {
   "cell_type": "code",
   "execution_count": 8,
   "metadata": {
    "collapsed": false
   },
   "outputs": [],
   "source": [
    "%matplotlib inline"
   ]
  },
  {
   "cell_type": "code",
   "execution_count": 9,
   "metadata": {
    "collapsed": false
   },
   "outputs": [
    {
     "data": {
      "text/plain": [
       "<matplotlib.axes._subplots.AxesSubplot at 0x10f0768d0>"
      ]
     },
     "execution_count": 9,
     "metadata": {},
     "output_type": "execute_result"
    },
    {
     "data": {
      "image/png": "[encoded data removed]",
      "text/plain": [
       "<matplotlib.figure.Figure at 0x10f066ad0>"
      ]
     },
     "metadata": {},
     "output_type": "display_data"
    }
   ],
   "source": [
    "pd.DataFrame(X[0]).plot()"
   ]
  },
  {
   "cell_type": "code",
   "execution_count": 10,
   "metadata": {
    "collapsed": false
   },
   "outputs": [
    {
     "data": {
      "text/plain": [
       "<matplotlib.axes._subplots.AxesSubplot at 0x10f1cb510>"
      ]
     },
     "execution_count": 10,
     "metadata": {},
     "output_type": "execute_result"
    },
    {
     "data": {
      "image/png": "[encoded data removed]",
      "text/plain": [
       "<matplotlib.figure.Figure at 0x10f1d5090>"
      ]
     },
     "metadata": {},
     "output_type": "display_data"
    }
   ],
   "source": [
    "pd.DataFrame(X[1]).plot()"
   ]
  },
  {
   "cell_type": "code",
   "execution_count": 11,
   "metadata": {
    "collapsed": true
   },
   "outputs": [],
   "source": [
    "from sklearn.decomposition import PCA\n",
    "p = PCA(n_components=10)"
   ]
  },
  {
   "cell_type": "code",
   "execution_count": 12,
   "metadata": {
    "collapsed": false
   },
   "outputs": [],
   "source": [
    "X2 = p.fit_transform(X)"
   ]
  },
  {
   "cell_type": "code",
   "execution_count": 13,
   "metadata": {
    "collapsed": false
   },
   "outputs": [
    {
     "data": {
      "text/plain": [
       "<matplotlib.axes._subplots.AxesSubplot at 0x110f55c90>"
      ]
     },
     "execution_count": 13,
     "metadata": {},
     "output_type": "execute_result"
    },
    {
     "data": {
      "image/png": "[encoded data removed]",
      "text/plain": [
       "<matplotlib.figure.Figure at 0x110f30ed0>"
      ]
     },
     "metadata": {},
     "output_type": "display_data"
    }
   ],
   "source": [
    "pd.DataFrame(X2[4]).plot()"
   ]
  },
  {
   "cell_type": "code",
   "execution_count": 15,
   "metadata": {
    "collapsed": false
   },
   "outputs": [
    {
     "data": {
      "text/plain": [
       "<matplotlib.axes._subplots.AxesSubplot at 0x11228afd0>"
      ]
     },
     "execution_count": 15,
     "metadata": {},
     "output_type": "execute_result"
    },
    {
     "data": {
      "image/png": "[encoded data removed]",
      "text/plain": [
       "<matplotlib.figure.Figure at 0x11228a9d0>"
      ]
     },
     "metadata": {},
     "output_type": "display_data"
    }
   ],
   "source": [
    "pd.DataFrame(X2[17]).plot()"
   ]
  },
  {
   "cell_type": "code",
   "execution_count": 15,
   "metadata": {
    "collapsed": false
   },
   "outputs": [
    {
     "data": {
      "text/plain": [
       "array([ 35.63356064,  23.29059084,  25.54686756,  53.23709554,\n",
       "        31.8190825 ,  31.21965444,  33.37044102,  24.16917994,\n",
       "        33.26018147,  33.37449136,  26.85220618,  28.64726566,\n",
       "        26.59438564,  28.6550603 ,  33.79027763,  38.34077867,\n",
       "        41.62171598,  37.31809219,  32.92867791,  38.63971752,\n",
       "        47.84666895,  21.80638553,  28.37760903,  30.50776707,\n",
       "        29.73710001,  24.6012261 ,  31.70200816,  23.98818214,\n",
       "        29.27648094,  35.0423008 ,  27.10896394,  24.89325677,\n",
       "        50.31363036,  33.44882502,  25.1564648 ,  37.85903666,\n",
       "        29.27726608,  33.69868938,  29.06878889,  32.61830831,\n",
       "        33.32137942,  60.47041852,  36.49425956,  43.03243268,\n",
       "        34.47914439,  32.06082676,  45.97664581,  35.53744927,\n",
       "        39.60817199,  37.23212755,  29.86958354,  30.34777408,\n",
       "        32.05665386,  38.221239  ,  41.33327886,  55.84916826,\n",
       "        35.11996229,  40.88162185,  62.31548039,  33.45561188,\n",
       "        32.49325403,  38.91148686,  29.38380918,  34.38069517,\n",
       "        37.27475599,  34.14429719,  37.43878686,  48.77718863,\n",
       "        39.50892603,  32.13373926,  45.48873772,  43.45653904,\n",
       "        34.75589763,  31.35448235,  34.52080586,  31.48349619,\n",
       "        30.77082954,  25.68310227,  56.50068682,  26.72967186,\n",
       "        29.464616  ,  29.28948891,  20.93587336,  34.54124672,\n",
       "        28.93252492,  24.96841232,  21.73515112,  24.66996283,\n",
       "        23.77300094,  32.68526635,  35.17151986,  39.84697105,\n",
       "        38.26971344,  31.58962126,  36.89626613,  50.39827529,\n",
       "        24.14083408,  22.71922546,  30.99255069,  25.06035862,\n",
       "        20.88702009,  28.06540768,  22.06312427,  26.79248635,\n",
       "        35.02568362,  24.91101738,  25.41760456,  48.00762614,\n",
       "        32.03189048,  25.49964608,  34.53733798,  29.30478292,\n",
       "        32.49378343,  24.64663564,  64.29484833,  28.47649744,\n",
       "        36.95289477,  28.56501844,  28.30013645,  43.87282341,\n",
       "        31.71572103,  35.17713116,  31.02508311,  29.61596344,\n",
       "        22.89996107,  40.68211355,  34.47542652,  36.94336624,\n",
       "        50.90095593,  37.1996171 ,  35.46288689,  59.62856752,\n",
       "        27.04553738,  30.4739172 ,  34.27695581,  29.41807661,\n",
       "        21.90682886,  31.47419749,  31.00396503,  31.70769519,\n",
       "        43.54711533,  38.21749408,  30.10003343,  44.02315465,\n",
       "        35.27122029,  33.32300787,  31.96213404,  28.36238288,\n",
       "        34.15004173,  31.19616329,  59.15481443,  47.80050173,\n",
       "        61.72083335,  53.32014375,  34.84745561,  55.39888245,\n",
       "        45.02589176,  56.27811973,  55.90049956,  58.40686586,\n",
       "        44.09413176,  64.48343767,  69.73992511,  37.3636465 ,\n",
       "        49.01134526,  60.45201732,  43.65897529,  52.68987075,\n",
       "        57.26892023,  53.97451225,  55.08597282,  52.57644983,\n",
       "        58.73147681,  50.33802006,  50.07275415,  41.87027468,\n",
       "        44.566892  ,  50.10963029,  80.27126684,  51.28181923,\n",
       "        51.02289861,  71.26934214,  62.89464575,  50.59241165,\n",
       "        51.27800578,  31.66883076,  25.0744991 ,  23.06529653,\n",
       "        38.59663376,  31.18370179,  28.64037767,  30.52809657,\n",
       "        25.18038068,  28.431296  ,  38.89688257,  37.81356781,\n",
       "        38.92060563,  44.62230498,  34.8158532 ,  38.11413758,\n",
       "        50.70474327,  25.08301992,  22.98435727,  34.99496523,\n",
       "        30.78833043,  26.52693358,  19.86096851,  28.51424149,\n",
       "        19.61125888,  36.059233  ,  30.75240108,  22.94995705,\n",
       "        52.00793448,  37.99405817,  31.69464689,  37.4391281 ,\n",
       "        30.79162381,  33.68225637,  21.80461704,  35.40062106,\n",
       "        31.63884174,  29.67746926,  35.73745596,  28.72382611,\n",
       "        34.88175589,  30.3405788 ,  34.5825241 ,  40.13057227,\n",
       "        36.7754492 ,  46.16488587,  35.58115007,  37.12654476,\n",
       "        43.74235117,  34.78481163,  29.28493964,  33.45897745,\n",
       "        38.29831192,  35.99626701,  28.21414302,  29.97688584,\n",
       "        29.84654822,  29.06886705,  24.41500701,  28.92951672,\n",
       "        28.78377808,  58.58698757,  40.2138903 ,  32.97096147,\n",
       "        45.41283318,  39.01535367,  38.65290656,  32.20089205,\n",
       "        28.87784369,  43.32382538,  33.21538522,  34.99003565,\n",
       "        33.82972876,  23.96407111,  30.78804285,  38.76509577,\n",
       "        35.56268358,  39.68330893,  49.82470815,  34.30057993,\n",
       "        43.15974644,  58.84183917,  25.99499597,  29.83076148,\n",
       "        38.98436871,  33.41255427,  27.4591064 ,  23.0813027 ,\n",
       "        31.22384639,  27.03286622,  42.26736314,  37.16615784,\n",
       "        27.26774047,  50.14667027,  41.19979108,  32.50077424,\n",
       "        28.29219665,  31.28919444,  30.89247896,  27.63579659,\n",
       "        31.4438438 ,  29.45634177,  24.75457711,  26.0807689 ,\n",
       "        22.98068722,  23.39775889,  28.2653393 ,  35.09529364,\n",
       "        38.40537999,  39.17616545,  30.85974898,  30.9151429 ,\n",
       "        47.09188068,  20.01600733,  19.25633566,  26.83991158,\n",
       "        24.2295755 ,  23.88329057,  27.1852409 ,  22.97327935,\n",
       "        25.14506811,  33.46843632,  24.77860026,  21.94700456,\n",
       "        48.89273717,  31.63437256,  23.15651106,  35.06601357,\n",
       "        27.35652446,  30.05015571,  24.58249255,  39.21728358,\n",
       "        26.01409148,  37.12116065,  35.9347342 ,  37.00835089,\n",
       "        34.22335308,  47.3406353 ,  52.81274724,  24.27497208,\n",
       "        36.11349926,  44.0395759 ,  32.62511823,  30.75763955,\n",
       "        36.42342648,  35.90132724,  32.90107017,  33.0536556 ,\n",
       "        39.54148712,  31.40675469,  30.66970914,  22.66281008,\n",
       "        23.18081646,  30.92188131,  63.94775633,  32.81444527,\n",
       "        33.45066612,  52.26582374,  43.38980712,  37.65281948,\n",
       "        32.87362443,  33.23537467,  32.3141052 ,  31.54068997,\n",
       "        30.41794305,  39.2734807 ,  33.00441217,  36.58101758,\n",
       "        45.16397185,  33.64643001,  36.589657  ,  54.11204323,\n",
       "        29.49622168,  31.30050626,  31.27050118,  30.85412951,\n",
       "        27.75713271,  34.18535313,  28.72989886,  29.60692556,\n",
       "        38.27039982,  34.46554228,  28.80656236,  43.03903629,\n",
       "        34.73896726,  29.58027775,  38.75255035,  34.43813093,\n",
       "        32.54840313,  30.5741753 ,  30.11773038,  26.8556156 ,\n",
       "        29.62929881,  30.05878452,  42.28976489,  46.95816871,\n",
       "        29.57103919,  32.55977316,  41.38241042,  37.96150439,\n",
       "        24.4790382 ,  25.09527618,  33.39144541,  30.27413203,\n",
       "        27.74624617,  27.5266465 ,  22.35209482,  21.4100967 ,\n",
       "        25.35031741,  21.68277187,  23.50850053,  57.68327925,\n",
       "        32.74625774,  24.2952808 ,  43.61624319,  35.43822157,\n",
       "        34.52226428,  22.45205786,  29.80318046,  27.31495688,\n",
       "        35.15796206,  36.52971053,  41.41444824,  40.82684051,\n",
       "        35.36984724,  36.94307724,  53.03193837,  26.23282708,\n",
       "        32.11957016,  31.34925197,  29.37531999,  24.96814686,\n",
       "        34.64830561,  26.89411498,  30.37391396,  39.22101268,\n",
       "        29.72746407,  27.65578105,  50.60558581,  32.14154245,\n",
       "        26.79603691,  38.70555031,  34.5990756 ,  34.44475389,\n",
       "        31.19652804,  27.5583693 ,  33.48347286,  34.39170704,\n",
       "        38.03865754,  44.79985336,  30.09965857,  38.84670472,\n",
       "        48.69900529,  23.56709179,  24.46654924,  34.10089511,\n",
       "        28.37957268,  28.63849279,  23.79175611,  25.2475539 ,\n",
       "        24.65857598,  36.07849236,  26.96056919,  22.22288362,\n",
       "        47.59849535,  38.38302294,  26.29426471,  26.07808296,\n",
       "        27.84686525,  28.31656987,  25.18035385,  34.35456686,\n",
       "        35.50242554,  39.13488054,  45.25046942,  34.01083883,\n",
       "        31.25400152,  53.83982957,  26.40755692,  26.67698182,\n",
       "        32.14691012,  24.42289342,  22.27410684,  32.46412032,\n",
       "        28.50319591,  29.70294792,  37.93715631,  32.7351209 ,\n",
       "        27.78956336,  47.02881621,  27.62007194,  29.19902081,\n",
       "        34.62426877,  31.2070217 ,  31.48731772,  28.6897548 ,\n",
       "        46.2794714 ,  49.53844842,  40.98120388,  29.31757219,\n",
       "        43.48557852,  50.43537413,  32.38927974,  33.24264281,\n",
       "        35.5962858 ,  28.8798576 ,  35.3678925 ,  38.53114862,\n",
       "        31.34311169,  33.71939099,  40.26180223,  31.76287704,\n",
       "        30.90411871,  58.14221688,  36.40636441,  31.65485561,\n",
       "        43.50446951,  38.35583643,  27.29553691,  27.92550793,\n",
       "        35.19375003,  56.66234701,  43.63127854,  38.76023184,\n",
       "        59.35648126,  33.3736619 ,  37.88640013,  38.37499308,\n",
       "        35.47205396,  34.23914479,  39.77520599,  36.66053099,\n",
       "        40.17419664,  44.84823843,  42.87961338,  33.8775724 ,\n",
       "        35.23920789,  45.79887458,  31.84501017,  34.64932984,\n",
       "        37.74062626,  39.82628688,  41.25976227,  61.0591045 ,\n",
       "        46.13039994,  41.9065717 ,  65.67254087,  39.21752245,\n",
       "        39.87001891,  43.62443947,  38.55371261,  39.95357218,\n",
       "        41.65298279,  39.27094551,  42.24570846,  50.89532154,\n",
       "        46.27507325,  39.00661802,  45.31593919,  46.28258034,\n",
       "        40.32673642,  40.26182111,  37.34476925,  42.58694188,\n",
       "        42.27512961,  40.31344925,  52.60757291,  35.82269395,\n",
       "        39.24049438,  41.55822211,  42.66612704,  44.17858491,\n",
       "        38.485267  ,  44.06522124,  33.39670256,  35.47474341,\n",
       "        28.9453143 ,  28.92313169,  38.99988222,  72.90067573,\n",
       "        37.02766426,  38.8421393 ,  62.30953944,  50.43736207,\n",
       "        46.73754052,  38.68881287,  43.01454439,  52.24727894,\n",
       "        32.49116518,  33.73320277,  35.43251178,  30.31225629,\n",
       "        30.77191047,  35.48722565,  28.98260464,  29.4546872 ,\n",
       "        38.75531585,  32.45189801,  26.39109965,  55.5193708 ,\n",
       "        33.42787187,  33.25412563,  41.0136265 ,  36.25347462,\n",
       "        17.76010256,  27.6280408 ,  58.77794405,  35.51313522,\n",
       "        33.2033536 ,  29.89227525,  35.4648634 ,  33.79774037,\n",
       "        45.90985824,  36.98484892,  41.15214118,  44.50778327,\n",
       "        41.35723285,  37.73409699,  50.12866204,  38.35380044,\n",
       "        36.08951936,  43.24341622,  38.77809026,  39.13505913,\n",
       "        42.19183285,  46.33847555,  49.59955099,  51.57761584,\n",
       "        52.62647181,  50.4941207 ,  48.91541027,  45.75240446,\n",
       "        44.72611551,  28.86085109,  36.67672582,  46.21120969,\n",
       "        77.58352171,  52.88625796,  47.49136497,  66.75396678,\n",
       "        58.0695828 ,  54.96921011,  48.90411964,  26.61150857,\n",
       "        29.38646568,  27.12581491,  23.11174897,  25.99517319,\n",
       "        19.50934681,  24.49756161,  32.55350538,  26.74940102,\n",
       "        20.2137183 ,  48.91114162,  33.79418538,  23.340474  ,\n",
       "        33.34254381,  24.23050978,  30.19412794,  24.95869302,\n",
       "        29.46192974,  27.61632892,  28.79370901,  26.81713798,\n",
       "        24.41199325,  26.05682549,  35.27899778,  27.96186794,\n",
       "        26.38033724,  50.61250299,  37.24003853,  27.05803796,\n",
       "        35.70554713,  30.33613554,  34.25461627,  25.09139041,\n",
       "        27.65450197,  29.76200218,  40.22969378,  28.2563429 ,\n",
       "        33.27765918,  40.24502665,  34.09377339,  30.91579287,\n",
       "        51.66402867,  34.19882775,  28.93058685,  40.37108088,\n",
       "        33.91034097,  34.08452165,  34.9846706 ,  27.51201741,\n",
       "        34.24787233,  26.47642951,  29.52996535,  38.8221951 ,\n",
       "        30.20281315,  26.25482306,  47.89447615,  29.06012663,\n",
       "        28.86017341,  34.68976605,  29.62260447,  28.19594541,\n",
       "        25.78429635,  30.30282497,  26.38426418,  24.08648709,\n",
       "        33.90033919,  31.18583659,  24.69726009,  49.25588695,\n",
       "        28.37055691,  27.72379211,  37.288965  ,  31.67796356,\n",
       "        29.64185019,  26.3001132 ,  27.36680058,  21.75936145,\n",
       "        35.69837004,  29.71867821,  24.50076448,  55.43196339,\n",
       "        41.97523424,  32.48616265,  38.35339379,  33.26052729,\n",
       "        35.02547413,  22.79463865,  23.65397795,  31.08886423,\n",
       "        23.84043814,  22.04486932,  52.46869448,  31.81661364,\n",
       "        23.18006259,  38.99683533,  26.86186361,  31.90818304,\n",
       "        23.80957343,  27.55620204,  25.77933755,  19.03044665,\n",
       "        56.44928363,  33.15758411,  29.47883996,  39.6098832 ,\n",
       "        31.37560148,  28.82175773,  17.63655917,  26.01206761,\n",
       "        29.20192655,  64.97600996,  37.62180446,  35.91668613,\n",
       "        53.55561996,  44.26383999,  41.06749977,  32.67334588,\n",
       "        25.68586097,  57.63884138,  34.68792975,  26.85920075,\n",
       "        44.88086476,  37.05097815,  35.66854743,  27.02194409,\n",
       "        51.07618016,  34.34638459,  24.40961347,  35.61743929,\n",
       "        29.76649105,  25.55214199,  21.06463695,  56.80875453,\n",
       "        44.93082687,  41.76843557,  48.73278004,  51.15573146,\n",
       "        55.36591428,  35.54147158,  48.88856842,  39.35611232,\n",
       "        34.19564569,  33.18125844,  37.02463303,  32.97908418,\n",
       "        33.17530413,  30.09948937,  31.81774513,  34.40147456,\n",
       "        39.67944922,  33.63681581,  30.48921425,  28.4891997 ])"
      ]
     },
     "execution_count": 15,
     "metadata": {},
     "output_type": "execute_result"
    }
   ],
   "source": [
    "from scipy.spatial.distance import pdist, squareform\n",
    "pdist(X, 'euclidean')"
   ]
  },
  {
   "cell_type": "code",
   "execution_count": 16,
   "metadata": {
    "collapsed": false
   },
   "outputs": [],
   "source": [
    "import numpy as np\n",
    "%load_ext autoreload\n",
    "%autoreload 2\n"
   ]
  },
  {
   "cell_type": "code",
   "execution_count": 17,
   "metadata": {
    "collapsed": false
   },
   "outputs": [
    {
     "name": "stdout",
     "output_type": "stream",
     "text": [
      "/Users/mehdi/Dropbox/working folder/PHd/phd-clustering-models\n"
     ]
    }
   ],
   "source": [
    "cd .."
   ]
  },
  {
   "cell_type": "code",
   "execution_count": 18,
   "metadata": {
    "collapsed": false
   },
   "outputs": [],
   "source": [
    "from tools.viz_bench_tools_2 import *\n",
    "from K_estim_pi_pen_EM import GraphLassoMix\n"
   ]
  },
  {
   "cell_type": "code",
   "execution_count": 20,
   "metadata": {
    "collapsed": false
   },
   "outputs": [
    {
     "name": "stdout",
     "output_type": "stream",
     "text": [
      "-----------------------------------------\n",
      "Param Lambda = 1\n",
      "Max clusters:  20\n",
      "Nombre d'iterations FISTA:  447\n",
      "Algo Iteration:  0\n",
      "Algo Iteration:  1\n",
      "Algo Iteration:  2\n",
      "Algo Iteration:  3\n",
      "Algo Iteration:  4\n",
      "Algo Iteration:  5\n",
      "Algo Iteration:  6\n",
      "Algo Iteration:  7\n",
      "Algo Iteration:  8\n",
      "Algo Iteration:  9\n",
      "Algo Iteration:  10\n",
      "Algo Iteration:  11\n",
      "Algo Iteration:  12\n",
      "Algo Iteration:  13\n",
      "Algo Iteration:  14\n",
      "Algo Iteration:  15\n",
      "Algo Iteration:  16\n",
      "Algo Iteration:  17\n",
      "Algo Iteration:  18\n",
      "Algo Iteration:  19\n",
      "Pi estim for lambda= 1  :  [0.13312731232330985, 0.10665473314547839, 0.13580118143457215, 0.13329445932829578, 0.10674113977028531, 0.15988071433106005, 0.053359559573833454, 0.10661266023810909, 0.064528239855056069]\n"
     ]
    }
   ],
   "source": [
    "alg = GraphLassoMix(lambda_param=1, n_iter=20, max_clusters=20)\n",
    "res = alg.fit(X2)"
   ]
  },
  {
   "cell_type": "code",
   "execution_count": 21,
   "metadata": {
    "collapsed": false
   },
   "outputs": [
    {
     "data": {
      "text/html": [
       "<div>\n",
       "<table border=\"1\" class=\"dataframe\">\n",
       "  <thead>\n",
       "    <tr style=\"text-align: right;\">\n",
       "      <th></th>\n",
       "      <th>0</th>\n",
       "      <th>grp</th>\n",
       "    </tr>\n",
       "  </thead>\n",
       "  <tbody>\n",
       "    <tr>\n",
       "      <th>0</th>\n",
       "      <td>01.CharliePuth-MarvinGaye(Feat.MeghanTrainor).mp3</td>\n",
       "      <td>7</td>\n",
       "    </tr>\n",
       "    <tr>\n",
       "      <th>1</th>\n",
       "      <td>02.CalvinHarris+Disciples-HowDeepIsYourLove.mp3</td>\n",
       "      <td>0</td>\n",
       "    </tr>\n",
       "    <tr>\n",
       "      <th>2</th>\n",
       "      <td>03.TheWeeknd-Can'tFeelMyFace.mp3</td>\n",
       "      <td>3</td>\n",
       "    </tr>\n",
       "    <tr>\n",
       "      <th>3</th>\n",
       "      <td>04.LittleMix-BlackMagic.mp3</td>\n",
       "      <td>7</td>\n",
       "    </tr>\n",
       "    <tr>\n",
       "      <th>4</th>\n",
       "      <td>05.LostFrequencies-AreYouWithMe.mp3</td>\n",
       "      <td>1</td>\n",
       "    </tr>\n",
       "    <tr>\n",
       "      <th>5</th>\n",
       "      <td>06.Sigma-Glitterball(Feat.EllaHenderson).mp3</td>\n",
       "      <td>5</td>\n",
       "    </tr>\n",
       "    <tr>\n",
       "      <th>6</th>\n",
       "      <td>07.Years&amp;Years-Shine.mp3</td>\n",
       "      <td>8</td>\n",
       "    </tr>\n",
       "    <tr>\n",
       "      <th>7</th>\n",
       "      <td>08.WALKTHEMOON-ShutUpandDance.mp3</td>\n",
       "      <td>4</td>\n",
       "    </tr>\n",
       "    <tr>\n",
       "      <th>8</th>\n",
       "      <td>09.OneDirection-DragMeDown.mp3</td>\n",
       "      <td>3</td>\n",
       "    </tr>\n",
       "    <tr>\n",
       "      <th>9</th>\n",
       "      <td>10.OMI-Cheerleader(FelixJaehnRemix).mp3</td>\n",
       "      <td>2</td>\n",
       "    </tr>\n",
       "    <tr>\n",
       "      <th>10</th>\n",
       "      <td>11.MajorLazer&amp;DJSnake-LeanOn(Feat.MO).mp3</td>\n",
       "      <td>5</td>\n",
       "    </tr>\n",
       "    <tr>\n",
       "      <th>11</th>\n",
       "      <td>12.SamFeldt-ShowMeLove(Feat.KimberlyAnne).mp3</td>\n",
       "      <td>8</td>\n",
       "    </tr>\n",
       "    <tr>\n",
       "      <th>12</th>\n",
       "      <td>13.Disclosure-Omen(Feat.SamSmith).mp3</td>\n",
       "      <td>7</td>\n",
       "    </tr>\n",
       "    <tr>\n",
       "      <th>13</th>\n",
       "      <td>14.Avicii-WaitingforLove.mp3</td>\n",
       "      <td>4</td>\n",
       "    </tr>\n",
       "    <tr>\n",
       "      <th>14</th>\n",
       "      <td>15.JasonDerulo-WanttoWantMe.mp3</td>\n",
       "      <td>0</td>\n",
       "    </tr>\n",
       "    <tr>\n",
       "      <th>15</th>\n",
       "      <td>16.DavidZowie-HouseEveryWeekend(RadioEdit).mp3</td>\n",
       "      <td>1</td>\n",
       "    </tr>\n",
       "    <tr>\n",
       "      <th>16</th>\n",
       "      <td>17.TinieTempah-NotLettingGo(Feat.JessGlynne).mp3</td>\n",
       "      <td>6</td>\n",
       "    </tr>\n",
       "    <tr>\n",
       "      <th>17</th>\n",
       "      <td>18.FettyWap-TrapQueen.mp3</td>\n",
       "      <td>6</td>\n",
       "    </tr>\n",
       "    <tr>\n",
       "      <th>18</th>\n",
       "      <td>19.EdSheeran-Photograph.mp3</td>\n",
       "      <td>2</td>\n",
       "    </tr>\n",
       "    <tr>\n",
       "      <th>19</th>\n",
       "      <td>20.JoeStone-TheParty(ThisIsHowWeDoIt)(Feat.Mon...</td>\n",
       "      <td>1</td>\n",
       "    </tr>\n",
       "    <tr>\n",
       "      <th>20</th>\n",
       "      <td>21.Silento-WatchMe_(WhipNaeNae).mp3</td>\n",
       "      <td>2</td>\n",
       "    </tr>\n",
       "    <tr>\n",
       "      <th>21</th>\n",
       "      <td>22.JamesBay-LetItGo.mp3</td>\n",
       "      <td>8</td>\n",
       "    </tr>\n",
       "    <tr>\n",
       "      <th>22</th>\n",
       "      <td>23.RitaOra-BodyOnMe(Feat.ChrisBrown).mp3</td>\n",
       "      <td>3</td>\n",
       "    </tr>\n",
       "    <tr>\n",
       "      <th>23</th>\n",
       "      <td>24.JackU-WhereAreUNow(Feat.JustinBieber).mp3</td>\n",
       "      <td>3</td>\n",
       "    </tr>\n",
       "    <tr>\n",
       "      <th>24</th>\n",
       "      <td>25.Krept&amp;Konan-FreakOfTheWeek(Feat.Jeremih).mp3</td>\n",
       "      <td>2</td>\n",
       "    </tr>\n",
       "    <tr>\n",
       "      <th>25</th>\n",
       "      <td>26.FloRida-IDon'tLikeIt,ILoveIt(Feat.RobinThic...</td>\n",
       "      <td>0</td>\n",
       "    </tr>\n",
       "    <tr>\n",
       "      <th>26</th>\n",
       "      <td>27.JohnNewman-ComeandGetIt.mp3</td>\n",
       "      <td>3</td>\n",
       "    </tr>\n",
       "    <tr>\n",
       "      <th>27</th>\n",
       "      <td>28.Birdy-Wings.mp3</td>\n",
       "      <td>5</td>\n",
       "    </tr>\n",
       "    <tr>\n",
       "      <th>28</th>\n",
       "      <td>29.SelenaGomez-GoodForYou(Feat.A$APRocky).mp3</td>\n",
       "      <td>7</td>\n",
       "    </tr>\n",
       "    <tr>\n",
       "      <th>29</th>\n",
       "      <td>30.Galantis-Runaway(U&amp;I).mp3</td>\n",
       "      <td>5</td>\n",
       "    </tr>\n",
       "    <tr>\n",
       "      <th>30</th>\n",
       "      <td>31.TheWeeknd-TheHills.mp3</td>\n",
       "      <td>8</td>\n",
       "    </tr>\n",
       "    <tr>\n",
       "      <th>31</th>\n",
       "      <td>32.WizKhalifa-SeeYouAgain(Feat.CharliePuth).mp3</td>\n",
       "      <td>8</td>\n",
       "    </tr>\n",
       "    <tr>\n",
       "      <th>32</th>\n",
       "      <td>33.RitaOra-Poison.mp3</td>\n",
       "      <td>5</td>\n",
       "    </tr>\n",
       "    <tr>\n",
       "      <th>33</th>\n",
       "      <td>34.FifthHarmony-WorthIt(Feat.KidInk).mp3</td>\n",
       "      <td>4</td>\n",
       "    </tr>\n",
       "    <tr>\n",
       "      <th>34</th>\n",
       "      <td>35.MarkRonson-UptownFunk(Feat.BrunoMars).mp3</td>\n",
       "      <td>0</td>\n",
       "    </tr>\n",
       "    <tr>\n",
       "      <th>35</th>\n",
       "      <td>36.Kygo-StoleTheShow(Feat.ParsonJames).mp3</td>\n",
       "      <td>2</td>\n",
       "    </tr>\n",
       "    <tr>\n",
       "      <th>36</th>\n",
       "      <td>37.Deorro&amp;ChrisBrown-FiveMoreHours.mp3</td>\n",
       "      <td>0</td>\n",
       "    </tr>\n",
       "    <tr>\n",
       "      <th>37</th>\n",
       "      <td>38.Shaggy-INeedYourLove(Feat.Mohombi,Faydeeand...</td>\n",
       "      <td>4</td>\n",
       "    </tr>\n",
       "    <tr>\n",
       "      <th>38</th>\n",
       "      <td>39.ToughLove-Pony(JumpOnIt)(Feat.Ginuwine)[Rad...</td>\n",
       "      <td>1</td>\n",
       "    </tr>\n",
       "    <tr>\n",
       "      <th>39</th>\n",
       "      <td>40.Years&amp;Years-King.mp3</td>\n",
       "      <td>5</td>\n",
       "    </tr>\n",
       "  </tbody>\n",
       "</table>\n",
       "</div>"
      ],
      "text/plain": [
       "                                                    0  grp\n",
       "0   01.CharliePuth-MarvinGaye(Feat.MeghanTrainor).mp3    7\n",
       "1     02.CalvinHarris+Disciples-HowDeepIsYourLove.mp3    0\n",
       "2                    03.TheWeeknd-Can'tFeelMyFace.mp3    3\n",
       "3                         04.LittleMix-BlackMagic.mp3    7\n",
       "4                 05.LostFrequencies-AreYouWithMe.mp3    1\n",
       "5        06.Sigma-Glitterball(Feat.EllaHenderson).mp3    5\n",
       "6                            07.Years&Years-Shine.mp3    8\n",
       "7                   08.WALKTHEMOON-ShutUpandDance.mp3    4\n",
       "8                      09.OneDirection-DragMeDown.mp3    3\n",
       "9             10.OMI-Cheerleader(FelixJaehnRemix).mp3    2\n",
       "10          11.MajorLazer&DJSnake-LeanOn(Feat.MO).mp3    5\n",
       "11      12.SamFeldt-ShowMeLove(Feat.KimberlyAnne).mp3    8\n",
       "12              13.Disclosure-Omen(Feat.SamSmith).mp3    7\n",
       "13                       14.Avicii-WaitingforLove.mp3    4\n",
       "14                    15.JasonDerulo-WanttoWantMe.mp3    0\n",
       "15     16.DavidZowie-HouseEveryWeekend(RadioEdit).mp3    1\n",
       "16   17.TinieTempah-NotLettingGo(Feat.JessGlynne).mp3    6\n",
       "17                          18.FettyWap-TrapQueen.mp3    6\n",
       "18                        19.EdSheeran-Photograph.mp3    2\n",
       "19  20.JoeStone-TheParty(ThisIsHowWeDoIt)(Feat.Mon...    1\n",
       "20                21.Silento-WatchMe_(WhipNaeNae).mp3    2\n",
       "21                            22.JamesBay-LetItGo.mp3    8\n",
       "22           23.RitaOra-BodyOnMe(Feat.ChrisBrown).mp3    3\n",
       "23       24.JackU-WhereAreUNow(Feat.JustinBieber).mp3    3\n",
       "24    25.Krept&Konan-FreakOfTheWeek(Feat.Jeremih).mp3    2\n",
       "25  26.FloRida-IDon'tLikeIt,ILoveIt(Feat.RobinThic...    0\n",
       "26                     27.JohnNewman-ComeandGetIt.mp3    3\n",
       "27                                 28.Birdy-Wings.mp3    5\n",
       "28      29.SelenaGomez-GoodForYou(Feat.A$APRocky).mp3    7\n",
       "29                       30.Galantis-Runaway(U&I).mp3    5\n",
       "30                          31.TheWeeknd-TheHills.mp3    8\n",
       "31    32.WizKhalifa-SeeYouAgain(Feat.CharliePuth).mp3    8\n",
       "32                              33.RitaOra-Poison.mp3    5\n",
       "33           34.FifthHarmony-WorthIt(Feat.KidInk).mp3    4\n",
       "34       35.MarkRonson-UptownFunk(Feat.BrunoMars).mp3    0\n",
       "35         36.Kygo-StoleTheShow(Feat.ParsonJames).mp3    2\n",
       "36             37.Deorro&ChrisBrown-FiveMoreHours.mp3    0\n",
       "37  38.Shaggy-INeedYourLove(Feat.Mohombi,Faydeeand...    4\n",
       "38  39.ToughLove-Pony(JumpOnIt)(Feat.Ginuwine)[Rad...    1\n",
       "39                            40.Years&Years-King.mp3    5"
      ]
     },
     "execution_count": 21,
     "metadata": {},
     "output_type": "execute_result"
    }
   ],
   "source": [
    "l = pd.DataFrame(dfrh[0])\n",
    "l[\"grp\"] = res[1].argmax(axis = 1)\n",
    "l"
   ]
  },
  {
   "cell_type": "code",
   "execution_count": null,
   "metadata": {
    "collapsed": true
   },
   "outputs": [],
   "source": []
  },
  {
   "cell_type": "code",
   "execution_count": null,
   "metadata": {
    "collapsed": true
   },
   "outputs": [],
   "source": []
  }
 ],
 "metadata": {
  "kernelspec": {
   "display_name": "Python 2",
   "language": "python",
   "name": "python2"
  },
  "language_info": {
   "codemirror_mode": {
    "name": "ipython",
    "version": 2
   },
   "file_extension": ".py",
   "mimetype": "text/x-python",
   "name": "python",
   "nbconvert_exporter": "python",
   "pygments_lexer": "ipython2",
   "version": "2.7.11"
  }
 },
 "nbformat": 4,
 "nbformat_minor": 0
}
