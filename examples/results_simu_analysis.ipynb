{
 "cells": [
  {
   "cell_type": "code",
   "execution_count": 268,
   "metadata": {
    "collapsed": true
   },
   "outputs": [],
   "source": [
    "import pickle"
   ]
  },
  {
   "cell_type": "code",
   "execution_count": 269,
   "metadata": {
    "collapsed": true
   },
   "outputs": [],
   "source": [
    "%matplotlib inline"
   ]
  },
  {
   "cell_type": "code",
   "execution_count": 270,
   "metadata": {
    "collapsed": false
   },
   "outputs": [],
   "source": [
    "from os import listdir\n",
    "from os.path import isfile, join\n",
    "onlyfiles = [f for f in listdir(\"./cluster\") if (isfile(join(\"./cluster\", f)) and f.startswith(\"res_D\"))]\n",
    "uniq_simus = set([f.split(\".\")[0] for f in onlyfiles])\n",
    "dims = list(set([int(a.split(\"D\")[1].split(\"K\")[0]) for a in uniq_simus]))\n",
    "dims.sort()\n",
    "size = list(set([int(a.split(\"N\")[1]) for a in uniq_simus]))\n",
    "size.sort()\n",
    "real_clus = list(set([int(a.split(\"K\")[1].split(\"N\")[0]) for a in uniq_simus]))\n",
    "real_clus.sort()"
   ]
  },
  {
   "cell_type": "code",
   "execution_count": 272,
   "metadata": {
    "collapsed": false
   },
   "outputs": [],
   "source": [
    "import numpy as np\n",
    "res = {}\n",
    "\n",
    "for d in dims:\n",
    "    for k in real_clus:\n",
    "        res[(d,k)]={\"em\":[],\"algo\":[]}\n",
    "        for s in size:\n",
    "            files = [f for f in listdir(\"./cluster\") if (isfile(join(\"./cluster\", f)) and f.startswith(\"res_D\"+str(d)+\"K\"+str(k)+\"N\"+str(s)))]\n",
    "            r_em = np.array([pickle.load(open(\"./cluster/\"+f))[\"gmm\"][\"score_weights\"] for f in files])\n",
    "            r_algo = np.array([pickle.load(open(\"./cluster/\"+f))[\"sqrt\"][\"score_weights\"] for f in files])\n",
    "            if len(r_em)!=0 and len(r_algo)!=0:\n",
    "                res[(d,k)][\"em\"].append((s, np.median(r_em)))\n",
    "                res[(d,k)][\"algo\"].append((s, np.median(r_algo)))"
   ]
  },
  {
   "cell_type": "code",
   "execution_count": 274,
   "metadata": {
    "collapsed": false
   },
   "outputs": [],
   "source": [
    "for i in dims:\n",
    "    for j in real_clus:\n",
    "        param = (i,j)\n",
    "        x,algo = zip(*(res[param][\"algo\"]))\n",
    "        _,em = zip(*(res[param][\"em\"]))\n",
    "        plt.plot(x, algo, 'g-', x, em, 'r--')\n",
    "        plt.yscale('log')\n",
    "        plt.xscale('log')\n",
    "        plt.xlabel(\"Sample size\")\n",
    "        plt.title('Dim:'+str(param[0])+\" K:\"+str(param[1]))\n",
    "        plt.savefig(\"results/\"+\"D\"+str(param[0])+\"K\"+str(param[1]))\n",
    "        plt.close()"
   ]
  },
  {
   "cell_type": "code",
   "execution_count": 227,
   "metadata": {
    "collapsed": false
   },
   "outputs": [
    {
     "data": {
      "text/plain": [
       "{'3', '5', '8'}"
      ]
     },
     "execution_count": 227,
     "metadata": {},
     "output_type": "execute_result"
    }
   ],
   "source": [
    "max_clus"
   ]
  },
  {
   "cell_type": "code",
   "execution_count": null,
   "metadata": {
    "collapsed": false
   },
   "outputs": [],
   "source": []
  },
  {
   "cell_type": "code",
   "execution_count": 266,
   "metadata": {
    "collapsed": false
   },
   "outputs": [
    {
     "data": {
      "text/plain": [
       "127"
      ]
     },
     "execution_count": 266,
     "metadata": {},
     "output_type": "execute_result"
    }
   ],
   "source": [
    "len(onlyfiles)"
   ]
  },
  {
   "cell_type": "code",
   "execution_count": 271,
   "metadata": {
    "collapsed": false
   },
   "outputs": [
    {
     "data": {
      "text/plain": [
       "{'res_D2K3N10000',\n",
       " 'res_D2K3N20000',\n",
       " 'res_D2K3N30000',\n",
       " 'res_D2K3N40000',\n",
       " 'res_D2K3N50000',\n",
       " 'res_D2K3N60000',\n",
       " 'res_D2K3N70000',\n",
       " 'res_D2K3N80000',\n",
       " 'res_D2K3N90000',\n",
       " 'res_D2K5N10000',\n",
       " 'res_D2K5N20000',\n",
       " 'res_D2K5N30000',\n",
       " 'res_D2K5N40000'}"
      ]
     },
     "execution_count": 271,
     "metadata": {},
     "output_type": "execute_result"
    }
   ],
   "source": [
    "uniq_simus"
   ]
  },
  {
   "cell_type": "code",
   "execution_count": 257,
   "metadata": {
    "collapsed": false
   },
   "outputs": [],
   "source": [
    "from datetime import datetime"
   ]
  },
  {
   "cell_type": "code",
   "execution_count": 243,
   "metadata": {
    "collapsed": false
   },
   "outputs": [],
   "source": [
    "today =date.today()\n"
   ]
  },
  {
   "cell_type": "code",
   "execution_count": 254,
   "metadata": {
    "collapsed": false
   },
   "outputs": [],
   "source": [
    "a = today.ctime()"
   ]
  },
  {
   "cell_type": "code",
   "execution_count": 255,
   "metadata": {
    "collapsed": false
   },
   "outputs": [
    {
     "data": {
      "text/plain": [
       "'Sat_Jun_18_00:00:00_2016'"
      ]
     },
     "execution_count": 255,
     "metadata": {},
     "output_type": "execute_result"
    }
   ],
   "source": [
    "today.ctime().replace(\" \",\"_\")"
   ]
  },
  {
   "cell_type": "code",
   "execution_count": 259,
   "metadata": {
    "collapsed": false
   },
   "outputs": [],
   "source": [
    "a = datetime.now()"
   ]
  },
  {
   "cell_type": "code",
   "execution_count": 264,
   "metadata": {
    "collapsed": false
   },
   "outputs": [
    {
     "data": {
      "text/plain": [
       "'2016-06-18_15:55:31'"
      ]
     },
     "execution_count": 264,
     "metadata": {},
     "output_type": "execute_result"
    }
   ],
   "source": [
    "str(datetime.now()).replace(\" \",\"_\").split(\".\")[0]"
   ]
  },
  {
   "cell_type": "code",
   "execution_count": null,
   "metadata": {
    "collapsed": true
   },
   "outputs": [],
   "source": []
  }
 ],
 "metadata": {
  "kernelspec": {
   "display_name": "Python 2",
   "language": "python",
   "name": "python2"
  },
  "language_info": {
   "codemirror_mode": {
    "name": "ipython",
    "version": 2
   },
   "file_extension": ".py",
   "mimetype": "text/x-python",
   "name": "python",
   "nbconvert_exporter": "python",
   "pygments_lexer": "ipython2",
   "version": "2.7.10"
  }
 },
 "nbformat": 4,
 "nbformat_minor": 0
}
