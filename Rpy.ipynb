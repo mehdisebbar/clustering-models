{
 "cells": [
  {
   "cell_type": "code",
   "execution_count": 5,
   "metadata": {
    "collapsed": false
   },
   "outputs": [],
   "source": [
    "import rpy2.robjects as robjects"
   ]
  },
  {
   "cell_type": "code",
   "execution_count": 6,
   "metadata": {
    "collapsed": false
   },
   "outputs": [],
   "source": [
    "pi = robjects.r['pi']"
   ]
  },
  {
   "cell_type": "code",
   "execution_count": 7,
   "metadata": {
    "collapsed": false
   },
   "outputs": [
    {
     "data": {
      "text/plain": [
       "rpy2.robjects.vectors.FloatVector"
      ]
     },
     "execution_count": 7,
     "metadata": {},
     "output_type": "execute_result"
    }
   ],
   "source": [
    "type(pi)"
   ]
  },
  {
   "cell_type": "code",
   "execution_count": 8,
   "metadata": {
    "collapsed": false
   },
   "outputs": [
    {
     "ename": "NameError",
     "evalue": "name 'rpy2' is not defined",
     "output_type": "error",
     "traceback": [
      "\u001b[0;31m---------------------------------------------------------------------------\u001b[0m",
      "\u001b[0;31mNameError\u001b[0m                                 Traceback (most recent call last)",
      "\u001b[0;32m<ipython-input-8-fa08bd8d0d85>\u001b[0m in \u001b[0;36m<module>\u001b[0;34m()\u001b[0m\n\u001b[0;32m----> 1\u001b[0;31m \u001b[0mhelp\u001b[0m\u001b[0;34m(\u001b[0m\u001b[0mrpy2\u001b[0m\u001b[0;34m)\u001b[0m\u001b[0;34m\u001b[0m\u001b[0m\n\u001b[0m",
      "\u001b[0;31mNameError\u001b[0m: name 'rpy2' is not defined"
     ]
    }
   ],
   "source": []
  },
  {
   "cell_type": "code",
   "execution_count": 12,
   "metadata": {
    "collapsed": true
   },
   "outputs": [],
   "source": [
    "import numpy as np"
   ]
  },
  {
   "cell_type": "code",
   "execution_count": 13,
   "metadata": {
    "collapsed": false
   },
   "outputs": [
    {
     "data": {
      "text/plain": [
       "array([ 3.14159265])"
      ]
     },
     "execution_count": 13,
     "metadata": {},
     "output_type": "execute_result"
    }
   ],
   "source": [
    "np.array(pi)"
   ]
  },
  {
   "cell_type": "code",
   "execution_count": 14,
   "metadata": {
    "collapsed": true
   },
   "outputs": [],
   "source": [
    "a = np.array([1,2,3])"
   ]
  },
  {
   "cell_type": "code",
   "execution_count": 17,
   "metadata": {
    "collapsed": false
   },
   "outputs": [],
   "source": [
    "v = robjects.FloatVector(a*a)"
   ]
  },
  {
   "cell_type": "code",
   "execution_count": 18,
   "metadata": {
    "collapsed": false
   },
   "outputs": [
    {
     "data": {
      "text/plain": [
       "<FloatVector - Python:0x10ec64a28 / R:0x7fe555c7fe90>\n",
       "[1.000000, 4.000000, 9.000000]"
      ]
     },
     "execution_count": 18,
     "metadata": {},
     "output_type": "execute_result"
    }
   ],
   "source": [
    "v"
   ]
  },
  {
   "cell_type": "code",
   "execution_count": 22,
   "metadata": {
    "collapsed": false
   },
   "outputs": [
    {
     "name": "stderr",
     "output_type": "stream",
     "text": [
      "/usr/local/lib/python2.7/site-packages/rpy2/robjects/functions.py:106: UserWarning: Error in axis(side = side, at = at, labels = labels, ...) : \n",
      "  could not find any X11 fonts\n",
      "Check that the Font Path is correct.\n",
      "\n",
      "  res = super(Function, self).__call__(*new_args, **new_kwargs)\n",
      "/usr/local/lib/python2.7/site-packages/rpy2/robjects/functions.py:106: UserWarning: In addition: \n",
      "  res = super(Function, self).__call__(*new_args, **new_kwargs)\n",
      "/usr/local/lib/python2.7/site-packages/rpy2/robjects/functions.py:106: UserWarning: Warning messages:\n",
      "\n",
      "  res = super(Function, self).__call__(*new_args, **new_kwargs)\n",
      "/usr/local/lib/python2.7/site-packages/rpy2/robjects/functions.py:106: UserWarning: 1: \n",
      "  res = super(Function, self).__call__(*new_args, **new_kwargs)\n",
      "/usr/local/lib/python2.7/site-packages/rpy2/robjects/functions.py:106: UserWarning: In (function (display = \"\", width, height, pointsize, gamma, bg,  :\n",
      "  res = super(Function, self).__call__(*new_args, **new_kwargs)\n",
      "/usr/local/lib/python2.7/site-packages/rpy2/robjects/functions.py:106: UserWarning: \n",
      " \n",
      "  res = super(Function, self).__call__(*new_args, **new_kwargs)\n",
      "/usr/local/lib/python2.7/site-packages/rpy2/robjects/functions.py:106: UserWarning:  locale not supported by Xlib: some X ops will operate in C locale\n",
      "\n",
      "  res = super(Function, self).__call__(*new_args, **new_kwargs)\n",
      "/usr/local/lib/python2.7/site-packages/rpy2/robjects/functions.py:106: UserWarning: 2: \n",
      "  res = super(Function, self).__call__(*new_args, **new_kwargs)\n",
      "/usr/local/lib/python2.7/site-packages/rpy2/robjects/functions.py:106: UserWarning:  X cannot set locale modifiers\n",
      "\n",
      "  res = super(Function, self).__call__(*new_args, **new_kwargs)\n"
     ]
    },
    {
     "ename": "RRuntimeError",
     "evalue": "Error in axis(side = side, at = at, labels = labels, ...) : \n  could not find any X11 fonts\nCheck that the Font Path is correct.\n",
     "output_type": "error",
     "traceback": [
      "\u001b[0;31m---------------------------------------------------------------------------\u001b[0m",
      "\u001b[0;31mRRuntimeError\u001b[0m                             Traceback (most recent call last)",
      "\u001b[0;32m<ipython-input-22-11af12a25e1a>\u001b[0m in \u001b[0;36m<module>\u001b[0;34m()\u001b[0m\n\u001b[1;32m      9\u001b[0m \u001b[0;34m\u001b[0m\u001b[0m\n\u001b[1;32m     10\u001b[0m \u001b[0mr\u001b[0m\u001b[0;34m.\u001b[0m\u001b[0mlayout\u001b[0m\u001b[0;34m(\u001b[0m\u001b[0mr\u001b[0m\u001b[0;34m.\u001b[0m\u001b[0mmatrix\u001b[0m\u001b[0;34m(\u001b[0m\u001b[0mrobjects\u001b[0m\u001b[0;34m.\u001b[0m\u001b[0mIntVector\u001b[0m\u001b[0;34m(\u001b[0m\u001b[0;34m[\u001b[0m\u001b[0;36m1\u001b[0m\u001b[0;34m,\u001b[0m\u001b[0;36m2\u001b[0m\u001b[0;34m,\u001b[0m\u001b[0;36m3\u001b[0m\u001b[0;34m,\u001b[0m\u001b[0;36m2\u001b[0m\u001b[0;34m]\u001b[0m\u001b[0;34m)\u001b[0m\u001b[0;34m,\u001b[0m \u001b[0mnrow\u001b[0m\u001b[0;34m=\u001b[0m\u001b[0;36m2\u001b[0m\u001b[0;34m,\u001b[0m \u001b[0mncol\u001b[0m\u001b[0;34m=\u001b[0m\u001b[0;36m2\u001b[0m\u001b[0;34m)\u001b[0m\u001b[0;34m)\u001b[0m\u001b[0;34m\u001b[0m\u001b[0m\n\u001b[0;32m---> 11\u001b[0;31m \u001b[0mr\u001b[0m\u001b[0;34m.\u001b[0m\u001b[0mplot\u001b[0m\u001b[0;34m(\u001b[0m\u001b[0mr\u001b[0m\u001b[0;34m.\u001b[0m\u001b[0mrunif\u001b[0m\u001b[0;34m(\u001b[0m\u001b[0;36m10\u001b[0m\u001b[0;34m)\u001b[0m\u001b[0;34m,\u001b[0m \u001b[0my\u001b[0m\u001b[0;34m,\u001b[0m \u001b[0mxlab\u001b[0m\u001b[0;34m=\u001b[0m\u001b[0;34m'runif'\u001b[0m\u001b[0;34m,\u001b[0m \u001b[0mylab\u001b[0m\u001b[0;34m=\u001b[0m\u001b[0;34m'foo/bar'\u001b[0m\u001b[0;34m,\u001b[0m \u001b[0mcol\u001b[0m\u001b[0;34m=\u001b[0m\u001b[0;34m'red'\u001b[0m\u001b[0;34m)\u001b[0m\u001b[0;34m\u001b[0m\u001b[0m\n\u001b[0m\u001b[1;32m     12\u001b[0m \u001b[0;34m\u001b[0m\u001b[0m\n",
      "\u001b[0;32m/usr/local/lib/python2.7/site-packages/rpy2/robjects/functions.pyc\u001b[0m in \u001b[0;36m__call__\u001b[0;34m(self, *args, **kwargs)\u001b[0m\n\u001b[1;32m    176\u001b[0m                 \u001b[0mv\u001b[0m \u001b[0;34m=\u001b[0m \u001b[0mkwargs\u001b[0m\u001b[0;34m.\u001b[0m\u001b[0mpop\u001b[0m\u001b[0;34m(\u001b[0m\u001b[0mk\u001b[0m\u001b[0;34m)\u001b[0m\u001b[0;34m\u001b[0m\u001b[0m\n\u001b[1;32m    177\u001b[0m                 \u001b[0mkwargs\u001b[0m\u001b[0;34m[\u001b[0m\u001b[0mr_k\u001b[0m\u001b[0;34m]\u001b[0m \u001b[0;34m=\u001b[0m \u001b[0mv\u001b[0m\u001b[0;34m\u001b[0m\u001b[0m\n\u001b[0;32m--> 178\u001b[0;31m         \u001b[0;32mreturn\u001b[0m \u001b[0msuper\u001b[0m\u001b[0;34m(\u001b[0m\u001b[0mSignatureTranslatedFunction\u001b[0m\u001b[0;34m,\u001b[0m \u001b[0mself\u001b[0m\u001b[0;34m)\u001b[0m\u001b[0;34m.\u001b[0m\u001b[0m__call__\u001b[0m\u001b[0;34m(\u001b[0m\u001b[0;34m*\u001b[0m\u001b[0margs\u001b[0m\u001b[0;34m,\u001b[0m \u001b[0;34m**\u001b[0m\u001b[0mkwargs\u001b[0m\u001b[0;34m)\u001b[0m\u001b[0;34m\u001b[0m\u001b[0m\n\u001b[0m\u001b[1;32m    179\u001b[0m \u001b[0;34m\u001b[0m\u001b[0m\n\u001b[1;32m    180\u001b[0m \u001b[0mpattern_link\u001b[0m \u001b[0;34m=\u001b[0m \u001b[0mre\u001b[0m\u001b[0;34m.\u001b[0m\u001b[0mcompile\u001b[0m\u001b[0;34m(\u001b[0m\u001b[0;34mr'\\\\link\\{(.+?)\\}'\u001b[0m\u001b[0;34m)\u001b[0m\u001b[0;34m\u001b[0m\u001b[0m\n",
      "\u001b[0;32m/usr/local/lib/python2.7/site-packages/rpy2/robjects/functions.pyc\u001b[0m in \u001b[0;36m__call__\u001b[0;34m(self, *args, **kwargs)\u001b[0m\n\u001b[1;32m    104\u001b[0m         \u001b[0;32mfor\u001b[0m \u001b[0mk\u001b[0m\u001b[0;34m,\u001b[0m \u001b[0mv\u001b[0m \u001b[0;32min\u001b[0m \u001b[0mkwargs\u001b[0m\u001b[0;34m.\u001b[0m\u001b[0mitems\u001b[0m\u001b[0;34m(\u001b[0m\u001b[0;34m)\u001b[0m\u001b[0;34m:\u001b[0m\u001b[0;34m\u001b[0m\u001b[0m\n\u001b[1;32m    105\u001b[0m             \u001b[0mnew_kwargs\u001b[0m\u001b[0;34m[\u001b[0m\u001b[0mk\u001b[0m\u001b[0;34m]\u001b[0m \u001b[0;34m=\u001b[0m \u001b[0mconversion\u001b[0m\u001b[0;34m.\u001b[0m\u001b[0mpy2ri\u001b[0m\u001b[0;34m(\u001b[0m\u001b[0mv\u001b[0m\u001b[0;34m)\u001b[0m\u001b[0;34m\u001b[0m\u001b[0m\n\u001b[0;32m--> 106\u001b[0;31m         \u001b[0mres\u001b[0m \u001b[0;34m=\u001b[0m \u001b[0msuper\u001b[0m\u001b[0;34m(\u001b[0m\u001b[0mFunction\u001b[0m\u001b[0;34m,\u001b[0m \u001b[0mself\u001b[0m\u001b[0;34m)\u001b[0m\u001b[0;34m.\u001b[0m\u001b[0m__call__\u001b[0m\u001b[0;34m(\u001b[0m\u001b[0;34m*\u001b[0m\u001b[0mnew_args\u001b[0m\u001b[0;34m,\u001b[0m \u001b[0;34m**\u001b[0m\u001b[0mnew_kwargs\u001b[0m\u001b[0;34m)\u001b[0m\u001b[0;34m\u001b[0m\u001b[0m\n\u001b[0m\u001b[1;32m    107\u001b[0m         \u001b[0mres\u001b[0m \u001b[0;34m=\u001b[0m \u001b[0mconversion\u001b[0m\u001b[0;34m.\u001b[0m\u001b[0mri2ro\u001b[0m\u001b[0;34m(\u001b[0m\u001b[0mres\u001b[0m\u001b[0;34m)\u001b[0m\u001b[0;34m\u001b[0m\u001b[0m\n\u001b[1;32m    108\u001b[0m         \u001b[0;32mreturn\u001b[0m \u001b[0mres\u001b[0m\u001b[0;34m\u001b[0m\u001b[0m\n",
      "\u001b[0;31mRRuntimeError\u001b[0m: Error in axis(side = side, at = at, labels = labels, ...) : \n  could not find any X11 fonts\nCheck that the Font Path is correct.\n"
     ]
    }
   ],
   "source": [
    "import rpy2.robjects as robjects\n",
    "\n",
    "r = robjects.r\n",
    "\n",
    "x = robjects.IntVector(range(10)) \n",
    "y = r.rnorm(10)\n",
    "\n",
    "r.X11()\n",
    "\n",
    "r.layout(r.matrix(robjects.IntVector([1,2,3,2]), nrow=2, ncol=2)) \n",
    "r.plot(r.runif(10), y, xlab='runif', ylab='foo/bar', col='red')\n",
    "\n"
   ]
  },
  {
   "cell_type": "code",
   "execution_count": 27,
   "metadata": {
    "collapsed": true
   },
   "outputs": [],
   "source": []
  },
  {
   "cell_type": "code",
   "execution_count": 29,
   "metadata": {
    "collapsed": false
   },
   "outputs": [],
   "source": []
  },
  {
   "cell_type": "code",
   "execution_count": 30,
   "metadata": {
    "collapsed": false
   },
   "outputs": [
    {
     "name": "stderr",
     "output_type": "stream",
     "text": [
      "/usr/local/lib/python2.7/site-packages/rpy2/robjects/functions.py:106: UserWarning: Error in nrow(s) : argument \"s\" is missing, with no default\n",
      "\n",
      "  res = super(Function, self).__call__(*new_args, **new_kwargs)\n"
     ]
    },
    {
     "ename": "RRuntimeError",
     "evalue": "Error in nrow(s) : argument \"s\" is missing, with no default\n",
     "output_type": "error",
     "traceback": [
      "\u001b[0;31m---------------------------------------------------------------------------\u001b[0m",
      "\u001b[0;31mRRuntimeError\u001b[0m                             Traceback (most recent call last)",
      "\u001b[0;32m<ipython-input-30-92b52e5cd03e>\u001b[0m in \u001b[0;36m<module>\u001b[0;34m()\u001b[0m\n\u001b[0;32m----> 1\u001b[0;31m \u001b[0mrglasso\u001b[0m\u001b[0;34m.\u001b[0m\u001b[0mglasso\u001b[0m\u001b[0;34m(\u001b[0m\u001b[0;34m)\u001b[0m\u001b[0;34m\u001b[0m\u001b[0m\n\u001b[0m",
      "\u001b[0;32m/usr/local/lib/python2.7/site-packages/rpy2/robjects/functions.pyc\u001b[0m in \u001b[0;36m__call__\u001b[0;34m(self, *args, **kwargs)\u001b[0m\n\u001b[1;32m    176\u001b[0m                 \u001b[0mv\u001b[0m \u001b[0;34m=\u001b[0m \u001b[0mkwargs\u001b[0m\u001b[0;34m.\u001b[0m\u001b[0mpop\u001b[0m\u001b[0;34m(\u001b[0m\u001b[0mk\u001b[0m\u001b[0;34m)\u001b[0m\u001b[0;34m\u001b[0m\u001b[0m\n\u001b[1;32m    177\u001b[0m                 \u001b[0mkwargs\u001b[0m\u001b[0;34m[\u001b[0m\u001b[0mr_k\u001b[0m\u001b[0;34m]\u001b[0m \u001b[0;34m=\u001b[0m \u001b[0mv\u001b[0m\u001b[0;34m\u001b[0m\u001b[0m\n\u001b[0;32m--> 178\u001b[0;31m         \u001b[0;32mreturn\u001b[0m \u001b[0msuper\u001b[0m\u001b[0;34m(\u001b[0m\u001b[0mSignatureTranslatedFunction\u001b[0m\u001b[0;34m,\u001b[0m \u001b[0mself\u001b[0m\u001b[0;34m)\u001b[0m\u001b[0;34m.\u001b[0m\u001b[0m__call__\u001b[0m\u001b[0;34m(\u001b[0m\u001b[0;34m*\u001b[0m\u001b[0margs\u001b[0m\u001b[0;34m,\u001b[0m \u001b[0;34m**\u001b[0m\u001b[0mkwargs\u001b[0m\u001b[0;34m)\u001b[0m\u001b[0;34m\u001b[0m\u001b[0m\n\u001b[0m\u001b[1;32m    179\u001b[0m \u001b[0;34m\u001b[0m\u001b[0m\n\u001b[1;32m    180\u001b[0m \u001b[0mpattern_link\u001b[0m \u001b[0;34m=\u001b[0m \u001b[0mre\u001b[0m\u001b[0;34m.\u001b[0m\u001b[0mcompile\u001b[0m\u001b[0;34m(\u001b[0m\u001b[0;34mr'\\\\link\\{(.+?)\\}'\u001b[0m\u001b[0;34m)\u001b[0m\u001b[0;34m\u001b[0m\u001b[0m\n",
      "\u001b[0;32m/usr/local/lib/python2.7/site-packages/rpy2/robjects/functions.pyc\u001b[0m in \u001b[0;36m__call__\u001b[0;34m(self, *args, **kwargs)\u001b[0m\n\u001b[1;32m    104\u001b[0m         \u001b[0;32mfor\u001b[0m \u001b[0mk\u001b[0m\u001b[0;34m,\u001b[0m \u001b[0mv\u001b[0m \u001b[0;32min\u001b[0m \u001b[0mkwargs\u001b[0m\u001b[0;34m.\u001b[0m\u001b[0mitems\u001b[0m\u001b[0;34m(\u001b[0m\u001b[0;34m)\u001b[0m\u001b[0;34m:\u001b[0m\u001b[0;34m\u001b[0m\u001b[0m\n\u001b[1;32m    105\u001b[0m             \u001b[0mnew_kwargs\u001b[0m\u001b[0;34m[\u001b[0m\u001b[0mk\u001b[0m\u001b[0;34m]\u001b[0m \u001b[0;34m=\u001b[0m \u001b[0mconversion\u001b[0m\u001b[0;34m.\u001b[0m\u001b[0mpy2ri\u001b[0m\u001b[0;34m(\u001b[0m\u001b[0mv\u001b[0m\u001b[0;34m)\u001b[0m\u001b[0;34m\u001b[0m\u001b[0m\n\u001b[0;32m--> 106\u001b[0;31m         \u001b[0mres\u001b[0m \u001b[0;34m=\u001b[0m \u001b[0msuper\u001b[0m\u001b[0;34m(\u001b[0m\u001b[0mFunction\u001b[0m\u001b[0;34m,\u001b[0m \u001b[0mself\u001b[0m\u001b[0;34m)\u001b[0m\u001b[0;34m.\u001b[0m\u001b[0m__call__\u001b[0m\u001b[0;34m(\u001b[0m\u001b[0;34m*\u001b[0m\u001b[0mnew_args\u001b[0m\u001b[0;34m,\u001b[0m \u001b[0;34m**\u001b[0m\u001b[0mnew_kwargs\u001b[0m\u001b[0;34m)\u001b[0m\u001b[0;34m\u001b[0m\u001b[0m\n\u001b[0m\u001b[1;32m    107\u001b[0m         \u001b[0mres\u001b[0m \u001b[0;34m=\u001b[0m \u001b[0mconversion\u001b[0m\u001b[0;34m.\u001b[0m\u001b[0mri2ro\u001b[0m\u001b[0;34m(\u001b[0m\u001b[0mres\u001b[0m\u001b[0;34m)\u001b[0m\u001b[0;34m\u001b[0m\u001b[0m\n\u001b[1;32m    108\u001b[0m         \u001b[0;32mreturn\u001b[0m \u001b[0mres\u001b[0m\u001b[0;34m\u001b[0m\u001b[0m\n",
      "\u001b[0;31mRRuntimeError\u001b[0m: Error in nrow(s) : argument \"s\" is missing, with no default\n"
     ]
    }
   ],
   "source": []
  },
  {
   "cell_type": "code",
   "execution_count": 34,
   "metadata": {
    "collapsed": false
   },
   "outputs": [],
   "source": []
  },
  {
   "cell_type": "code",
   "execution_count": 58,
   "metadata": {
    "collapsed": false
   },
   "outputs": [
    {
     "ename": "ValueError",
     "evalue": "Error while trying to convert element 0 to a double.",
     "output_type": "error",
     "traceback": [
      "\u001b[0;31m---------------------------------------------------------------------------\u001b[0m",
      "\u001b[0;31mValueError\u001b[0m                                Traceback (most recent call last)",
      "\u001b[0;32m<ipython-input-58-17da48135093>\u001b[0m in \u001b[0;36m<module>\u001b[0;34m()\u001b[0m\n\u001b[1;32m      1\u001b[0m \u001b[0mc\u001b[0m \u001b[0;34m=\u001b[0m \u001b[0mnp\u001b[0m\u001b[0;34m.\u001b[0m\u001b[0mcov\u001b[0m\u001b[0;34m(\u001b[0m\u001b[0ma\u001b[0m\u001b[0;34m)\u001b[0m\u001b[0;34m\u001b[0m\u001b[0m\n\u001b[0;32m----> 2\u001b[0;31m \u001b[0mc\u001b[0m \u001b[0;34m=\u001b[0m \u001b[0mrobjects\u001b[0m\u001b[0;34m.\u001b[0m\u001b[0mFloatVector\u001b[0m\u001b[0;34m(\u001b[0m\u001b[0mc\u001b[0m\u001b[0;34m)\u001b[0m\u001b[0;34m\u001b[0m\u001b[0m\n\u001b[0m",
      "\u001b[0;32m/usr/local/lib/python2.7/site-packages/rpy2/robjects/vectors.pyc\u001b[0m in \u001b[0;36m__init__\u001b[0;34m(self, obj)\u001b[0m\n\u001b[1;32m    446\u001b[0m \u001b[0;34m\u001b[0m\u001b[0m\n\u001b[1;32m    447\u001b[0m     \u001b[0;32mdef\u001b[0m \u001b[0m__init__\u001b[0m\u001b[0;34m(\u001b[0m\u001b[0mself\u001b[0m\u001b[0;34m,\u001b[0m \u001b[0mobj\u001b[0m\u001b[0;34m)\u001b[0m\u001b[0;34m:\u001b[0m\u001b[0;34m\u001b[0m\u001b[0m\n\u001b[0;32m--> 448\u001b[0;31m         \u001b[0mobj\u001b[0m \u001b[0;34m=\u001b[0m \u001b[0mFloatSexpVector\u001b[0m\u001b[0;34m(\u001b[0m\u001b[0mobj\u001b[0m\u001b[0;34m)\u001b[0m\u001b[0;34m\u001b[0m\u001b[0m\n\u001b[0m\u001b[1;32m    449\u001b[0m         \u001b[0msuper\u001b[0m\u001b[0;34m(\u001b[0m\u001b[0mFloatVector\u001b[0m\u001b[0;34m,\u001b[0m \u001b[0mself\u001b[0m\u001b[0;34m)\u001b[0m\u001b[0;34m.\u001b[0m\u001b[0m__init__\u001b[0m\u001b[0;34m(\u001b[0m\u001b[0mobj\u001b[0m\u001b[0;34m)\u001b[0m\u001b[0;34m\u001b[0m\u001b[0m\n\u001b[1;32m    450\u001b[0m \u001b[0;34m\u001b[0m\u001b[0m\n",
      "\u001b[0;31mValueError\u001b[0m: Error while trying to convert element 0 to a double."
     ]
    }
   ],
   "source": []
  },
  {
   "cell_type": "code",
   "execution_count": 61,
   "metadata": {
    "collapsed": false
   },
   "outputs": [
    {
     "data": {
      "text/plain": [
       "<ListVector - Python:0x10f2812d8 / R:0x7fe5533a33b8>\n",
       "[Matrix, Matrix, Float..., ..., Vector, Float..., IntVe...]\n",
       "  w: <class 'rpy2.robjects.vectors.Matrix'>\n",
       "  <Matrix - Python:0x10f281b00 / R:0x7fe555e90e00>\n",
       "[0.205245, 0.000000, 0.029851, ..., 0.000000, 0.000000, 0.130732]\n",
       "  wi: <class 'rpy2.robjects.vectors.Matrix'>\n",
       "  <Matrix - Python:0x10f281ab8 / R:0x7fe555ea7c00>\n",
       "[5.668941, 0.000000, -0.000000, ..., 0.000000, 0.000000, 7.671671]\n",
       "  loglik: <class 'rpy2.robjects.vectors.FloatVector'>\n",
       "  <FloatVector - Python:0x10f281c20 / R:0x7fe554cae828>\n",
       "[4621.047936]\n",
       "  ...\n",
       "  w: <class 'rpy2.robjects.vectors.Vector'>\n",
       "  <Vector - Python:0x10f2d90e0 / R:0x7fe55309b378>\n",
       "[       0]\n",
       "  wi: <class 'rpy2.robjects.vectors.FloatVector'>\n",
       "  <FloatVector - Python:0x10f281f80 / R:0x7fe5533a3878>\n",
       "[0.000000]\n",
       "  loglik: <class 'rpy2.robjects.vectors.IntVector'>\n",
       "  <IntVector - Python:0x10f2e4ea8 / R:0x7fe5533a38a8>\n",
       "[       6]"
      ]
     },
     "execution_count": 61,
     "metadata": {},
     "output_type": "execute_result"
    }
   ],
   "source": []
  },
  {
   "cell_type": "code",
   "execution_count": 57,
   "metadata": {
    "collapsed": false
   },
   "outputs": [
    {
     "ename": "ValueError",
     "evalue": "Error while trying to convert element 0 to a double.",
     "output_type": "error",
     "traceback": [
      "\u001b[0;31m---------------------------------------------------------------------------\u001b[0m",
      "\u001b[0;31mValueError\u001b[0m                                Traceback (most recent call last)",
      "\u001b[0;32m<ipython-input-57-5f2c9eede009>\u001b[0m in \u001b[0;36m<module>\u001b[0;34m()\u001b[0m\n\u001b[0;32m----> 1\u001b[0;31m \u001b[0mrobjects\u001b[0m\u001b[0;34m.\u001b[0m\u001b[0mFloatVector\u001b[0m\u001b[0;34m(\u001b[0m\u001b[0;34m[\u001b[0m\u001b[0;34m[\u001b[0m\u001b[0;36m1\u001b[0m\u001b[0;34m,\u001b[0m\u001b[0;36m2\u001b[0m\u001b[0;34m]\u001b[0m\u001b[0;34m,\u001b[0m\u001b[0;34m[\u001b[0m\u001b[0;36m3\u001b[0m\u001b[0;34m,\u001b[0m\u001b[0;36m4\u001b[0m\u001b[0;34m]\u001b[0m\u001b[0;34m]\u001b[0m\u001b[0;34m)\u001b[0m\u001b[0;34m\u001b[0m\u001b[0m\n\u001b[0m",
      "\u001b[0;32m/usr/local/lib/python2.7/site-packages/rpy2/robjects/vectors.pyc\u001b[0m in \u001b[0;36m__init__\u001b[0;34m(self, obj)\u001b[0m\n\u001b[1;32m    446\u001b[0m \u001b[0;34m\u001b[0m\u001b[0m\n\u001b[1;32m    447\u001b[0m     \u001b[0;32mdef\u001b[0m \u001b[0m__init__\u001b[0m\u001b[0;34m(\u001b[0m\u001b[0mself\u001b[0m\u001b[0;34m,\u001b[0m \u001b[0mobj\u001b[0m\u001b[0;34m)\u001b[0m\u001b[0;34m:\u001b[0m\u001b[0;34m\u001b[0m\u001b[0m\n\u001b[0;32m--> 448\u001b[0;31m         \u001b[0mobj\u001b[0m \u001b[0;34m=\u001b[0m \u001b[0mFloatSexpVector\u001b[0m\u001b[0;34m(\u001b[0m\u001b[0mobj\u001b[0m\u001b[0;34m)\u001b[0m\u001b[0;34m\u001b[0m\u001b[0m\n\u001b[0m\u001b[1;32m    449\u001b[0m         \u001b[0msuper\u001b[0m\u001b[0;34m(\u001b[0m\u001b[0mFloatVector\u001b[0m\u001b[0;34m,\u001b[0m \u001b[0mself\u001b[0m\u001b[0;34m)\u001b[0m\u001b[0;34m.\u001b[0m\u001b[0m__init__\u001b[0m\u001b[0;34m(\u001b[0m\u001b[0mobj\u001b[0m\u001b[0;34m)\u001b[0m\u001b[0;34m\u001b[0m\u001b[0m\n\u001b[1;32m    450\u001b[0m \u001b[0;34m\u001b[0m\u001b[0m\n",
      "\u001b[0;31mValueError\u001b[0m: Error while trying to convert element 0 to a double."
     ]
    }
   ],
   "source": [
    "robjects.FloatVector([[1,2],[3,4]])"
   ]
  },
  {
   "cell_type": "code",
   "execution_count": 45,
   "metadata": {
    "collapsed": false
   },
   "outputs": [
    {
     "ename": "SyntaxError",
     "evalue": "invalid syntax (<ipython-input-45-bfc6e751a435>, line 2)",
     "output_type": "error",
     "traceback": [
      "\u001b[0;36m  File \u001b[0;32m\"<ipython-input-45-bfc6e751a435>\"\u001b[0;36m, line \u001b[0;32m2\u001b[0m\n\u001b[0;31m    m = robjects.r'matrix'\u001b[0m\n\u001b[0m                         ^\u001b[0m\n\u001b[0;31mSyntaxError\u001b[0m\u001b[0;31m:\u001b[0m invalid syntax\n"
     ]
    }
   ],
   "source": [
    "v = robjects.FloatVector([1.1, 2.2, 3.3, 4.4, 5.5, 6.6]) \n",
    "\n",
    "print(m) [,1] [,2] [,3][1,] 1.1 3.3 5.5 [2,] 2.2 4.4 6.6"
   ]
  },
  {
   "cell_type": "code",
   "execution_count": 47,
   "metadata": {
    "collapsed": false
   },
   "outputs": [
    {
     "name": "stdout",
     "output_type": "stream",
     "text": [
      "Help on package rpy2.robjects in rpy2:\n",
      "\n",
      "NAME\n",
      "    rpy2.robjects - R objects as Python objects.\n",
      "\n",
      "FILE\n",
      "    /usr/local/lib/python2.7/site-packages/rpy2/robjects/__init__.py\n",
      "\n",
      "DESCRIPTION\n",
      "    The module is structured around the singleton r of class R,\n",
      "    that represents an embedded R.\n",
      "    \n",
      "    License: GPLv3.0 (although a dual license can be worked out)\n",
      "\n",
      "PACKAGE CONTENTS\n",
      "    constants\n",
      "    conversion\n",
      "    environments\n",
      "    functions\n",
      "    help\n",
      "    language\n",
      "    lib (package)\n",
      "    methods\n",
      "    numpy2ri\n",
      "    packages\n",
      "    packages_utils\n",
      "    pandas2ri\n",
      "    robject\n",
      "    tests (package)\n",
      "    vectors\n",
      "\n",
      "CLASSES\n",
      "    __builtin__.object\n",
      "        R\n",
      "    rpy2.rinterface.Sexp(__builtin__.object)\n",
      "        Formula(rpy2.robjects.robject.RObjectMixin, rpy2.rinterface.Sexp)\n",
      "    rpy2.robjects.robject.RObjectMixin(__builtin__.object)\n",
      "        Formula(rpy2.robjects.robject.RObjectMixin, rpy2.rinterface.Sexp)\n",
      "    \n",
      "    class Formula(rpy2.robjects.robject.RObjectMixin, rpy2.rinterface.Sexp)\n",
      "     |  Method resolution order:\n",
      "     |      Formula\n",
      "     |      rpy2.robjects.robject.RObjectMixin\n",
      "     |      rpy2.rinterface.Sexp\n",
      "     |      __builtin__.object\n",
      "     |  \n",
      "     |  Methods defined here:\n",
      "     |  \n",
      "     |  __init__(self, formula, environment=<rpy2.rinterface.SexpEnvironment - Python:0x10adad948 / R:0x7fe554991958>)\n",
      "     |  \n",
      "     |  getenvironment(self)\n",
      "     |      Get the environment in which the formula is finding its symbols.\n",
      "     |  \n",
      "     |  setenvironment(self, val)\n",
      "     |      Set the environment in which a formula will find its symbols.\n",
      "     |  \n",
      "     |  ----------------------------------------------------------------------\n",
      "     |  Data descriptors defined here:\n",
      "     |  \n",
      "     |  __dict__\n",
      "     |      dictionary for instance variables (if defined)\n",
      "     |  \n",
      "     |  __weakref__\n",
      "     |      list of weak references to the object (if defined)\n",
      "     |  \n",
      "     |  environment\n",
      "     |      Get the environment in which the formula is finding its symbols.\n",
      "     |  \n",
      "     |  ----------------------------------------------------------------------\n",
      "     |  Methods inherited from rpy2.robjects.robject.RObjectMixin:\n",
      "     |  \n",
      "     |  __str__(self)\n",
      "     |  \n",
      "     |  r_repr(self)\n",
      "     |      String representation for an object that can be\n",
      "     |      directly evaluated as R code.\n",
      "     |  \n",
      "     |  ----------------------------------------------------------------------\n",
      "     |  Data descriptors inherited from rpy2.robjects.robject.RObjectMixin:\n",
      "     |  \n",
      "     |  rclass\n",
      "     |      R class for the object, stored as an R string vector.\n",
      "     |  \n",
      "     |  slots\n",
      "     |      Attributes of the underlying R object as a Python mapping.\n",
      "     |      \n",
      "     |      The attributes can accessed and assigned by name (as if they\n",
      "     |      were in a Python `dict`).\n",
      "     |  \n",
      "     |  ----------------------------------------------------------------------\n",
      "     |  Data and other attributes inherited from rpy2.robjects.robject.RObjectMixin:\n",
      "     |  \n",
      "     |  __rname__ = None\n",
      "     |  \n",
      "     |  ----------------------------------------------------------------------\n",
      "     |  Methods inherited from rpy2.rinterface.Sexp:\n",
      "     |  \n",
      "     |  __deepcopy__(...)\n",
      "     |      Makes a copy of the underlying Sexp object, and returns it.\n",
      "     |  \n",
      "     |  __getstate__(...)\n",
      "     |      Returns a serialized object for the underlying R object\n",
      "     |  \n",
      "     |  __reduce__(...)\n",
      "     |      Prepare an instance for serialization.\n",
      "     |  \n",
      "     |  __repr__(...)\n",
      "     |      x.__repr__() <==> repr(x)\n",
      "     |  \n",
      "     |  __setstate__(...)\n",
      "     |      set the state of an instance (dummy).\n",
      "     |  \n",
      "     |  do_slot(...)\n",
      "     |      Returns the attribute/slot for an R object.\n",
      "     |       The name of the slot (a string) is the only parameter for\n",
      "     |      the method.\n",
      "     |      :param name: string\n",
      "     |      :rtype: instance of type or subtype :class:`rpy2.rinterface.Sexp`\n",
      "     |  \n",
      "     |  do_slot_assign(...)\n",
      "     |      Set the attribute/slot for an R object.\n",
      "     |      \n",
      "     |      :param name: string\n",
      "     |      :param value: instance of :class:`rpy2.rinterface.Sexp`\n",
      "     |  \n",
      "     |  list_attrs(...)\n",
      "     |      Returns the list of attribute names.\n",
      "     |  \n",
      "     |  rsame(...)\n",
      "     |      Is the given object representing the same underlying R object as the instance.\n",
      "     |  \n",
      "     |  ----------------------------------------------------------------------\n",
      "     |  Data descriptors inherited from rpy2.rinterface.Sexp:\n",
      "     |  \n",
      "     |  __sexp__\n",
      "     |      Opaque C pointer to the underlying R object\n",
      "     |  \n",
      "     |  __sexp_refcount__\n",
      "     |      Reference counter for the underlying R object\n",
      "     |  \n",
      "     |  named\n",
      "     |      Integer code for the R object reference-pseudo counting.\n",
      "     |      This method corresponds to the macro NAMED.\n",
      "     |      See the R-extensions manual for further details.\n",
      "     |  \n",
      "     |  rid\n",
      "     |      ID for the associated R object (Hint: that's a memory address)\n",
      "     |  \n",
      "     |  typeof\n",
      "     |      R internal SEXPREC type.\n",
      "     |  \n",
      "     |  ----------------------------------------------------------------------\n",
      "     |  Data and other attributes inherited from rpy2.rinterface.Sexp:\n",
      "     |  \n",
      "     |  __new__ = <built-in method __new__ of type object>\n",
      "     |      T.__new__(S, ...) -> a new object with type S, a subtype of T\n",
      "    \n",
      "    class R(__builtin__.object)\n",
      "     |  Methods defined here:\n",
      "     |  \n",
      "     |  __call__(self, string)\n",
      "     |  \n",
      "     |  __cleanup__(self)\n",
      "     |      #FIXME: check that this is properly working\n",
      "     |  \n",
      "     |  __getattribute__(self, attr)\n",
      "     |  \n",
      "     |  __getitem__(self, item)\n",
      "     |  \n",
      "     |  __str__(self)\n",
      "     |  \n",
      "     |  ----------------------------------------------------------------------\n",
      "     |  Static methods defined here:\n",
      "     |  \n",
      "     |  __new__(cls)\n",
      "     |  \n",
      "     |  ----------------------------------------------------------------------\n",
      "     |  Data descriptors defined here:\n",
      "     |  \n",
      "     |  __dict__\n",
      "     |      dictionary for instance variables (if defined)\n",
      "     |  \n",
      "     |  __weakref__\n",
      "     |      list of weak references to the object (if defined)\n",
      "\n",
      "FUNCTIONS\n",
      "    default_py2ri(o)\n",
      "        Convert an arbitrary Python object to a\n",
      "        :class:`rpy2.rinterface.Sexp` object.\n",
      "        Creates an R object with the content of the Python object,\n",
      "        wich means data copying.\n",
      "        :param o: object\n",
      "        :rtype: :class:`rpy2.rinterface.Sexp` (and subclasses)\n",
      "    \n",
      "    int2ri(obj)\n",
      "    \n",
      "    reval(string, envir=<rpy2.rinterface.SexpEnvironment - Python:0x10adad948 / R:0x7fe554991958>)\n",
      "        Evaluate a string as R code\n",
      "        - string: a string\n",
      "        - envir: an environment in which the environment should take place\n",
      "                 (default: R's global environment)\n",
      "    \n",
      "    sequence_to_vector(lst)\n",
      "    \n",
      "    sexpvector_to_ro(obj)\n",
      "\n",
      "DATA\n",
      "    NA_Character = NA_character_\n",
      "    NA_Complex = NA_complex_\n",
      "    NA_Integer = NA_integer_\n",
      "    NA_Logical = NA\n",
      "    NA_Real = NA_real_\n",
      "    NULL = rpy2.rinterface.NULL\n",
      "    TYPEORDER = {<type 'bool'>: (0, <class 'rpy2.robjects.vectors.BoolVect...\n",
      "    baseenv = <Environment - Python:0x10c0b3ab8 / R:0x7fe5549918b0>\n",
      "    default_converter = <rpy2.robjects.conversion.Converter object>\n",
      "    emptyenv = <Environment - Python:0x10c0b3a28 / R:0x7fe5549919c8>\n",
      "    globalenv = <Environment - Python:0x10c0b38c0 / R:0x7fe554991958>\n",
      "    r = <rpy2.robjects.R object>\n",
      "\n",
      "\n"
     ]
    }
   ],
   "source": [
    "help(robjects)"
   ]
  },
  {
   "cell_type": "code",
   "execution_count": 48,
   "metadata": {
    "collapsed": false
   },
   "outputs": [
    {
     "ename": "TypeError",
     "evalue": "The object must be representing an R array",
     "output_type": "error",
     "traceback": [
      "\u001b[0;31m---------------------------------------------------------------------------\u001b[0m",
      "\u001b[0;31mTypeError\u001b[0m                                 Traceback (most recent call last)",
      "\u001b[0;32m<ipython-input-48-4e9192b22964>\u001b[0m in \u001b[0;36m<module>\u001b[0;34m()\u001b[0m\n\u001b[0;32m----> 1\u001b[0;31m \u001b[0mrobjects\u001b[0m\u001b[0;34m.\u001b[0m\u001b[0mvectors\u001b[0m\u001b[0;34m.\u001b[0m\u001b[0mMatrix\u001b[0m\u001b[0;34m(\u001b[0m\u001b[0;34m[\u001b[0m\u001b[0;34m[\u001b[0m\u001b[0;36m1\u001b[0m\u001b[0;34m,\u001b[0m\u001b[0;36m2\u001b[0m\u001b[0;34m]\u001b[0m\u001b[0;34m,\u001b[0m\u001b[0;34m[\u001b[0m\u001b[0;36m3\u001b[0m\u001b[0;34m,\u001b[0m\u001b[0;36m4\u001b[0m\u001b[0;34m]\u001b[0m\u001b[0;34m]\u001b[0m\u001b[0;34m)\u001b[0m\u001b[0;34m\u001b[0m\u001b[0m\n\u001b[0m",
      "\u001b[0;32m/usr/local/lib/python2.7/site-packages/rpy2/robjects/vectors.pyc\u001b[0m in \u001b[0;36m__init__\u001b[0;34m(self, obj)\u001b[0m\n\u001b[1;32m    759\u001b[0m         \u001b[0;31m#import pdb; pdb.set_trace()\u001b[0m\u001b[0;34m\u001b[0m\u001b[0;34m\u001b[0m\u001b[0m\n\u001b[1;32m    760\u001b[0m         \u001b[0;32mif\u001b[0m \u001b[0;32mnot\u001b[0m \u001b[0mself\u001b[0m\u001b[0;34m.\u001b[0m\u001b[0m_isarray\u001b[0m\u001b[0;34m(\u001b[0m\u001b[0mself\u001b[0m\u001b[0;34m)\u001b[0m\u001b[0;34m[\u001b[0m\u001b[0;36m0\u001b[0m\u001b[0;34m]\u001b[0m\u001b[0;34m:\u001b[0m\u001b[0;34m\u001b[0m\u001b[0m\n\u001b[0;32m--> 761\u001b[0;31m             \u001b[0;32mraise\u001b[0m\u001b[0;34m(\u001b[0m\u001b[0mTypeError\u001b[0m\u001b[0;34m(\u001b[0m\u001b[0;34m\"The object must be representing an R array\"\u001b[0m\u001b[0;34m)\u001b[0m\u001b[0;34m)\u001b[0m\u001b[0;34m\u001b[0m\u001b[0m\n\u001b[0m\u001b[1;32m    762\u001b[0m \u001b[0;34m\u001b[0m\u001b[0m\n\u001b[1;32m    763\u001b[0m     \u001b[0;32mdef\u001b[0m \u001b[0m__dim_get\u001b[0m\u001b[0;34m(\u001b[0m\u001b[0mself\u001b[0m\u001b[0;34m)\u001b[0m\u001b[0;34m:\u001b[0m\u001b[0;34m\u001b[0m\u001b[0m\n",
      "\u001b[0;31mTypeError\u001b[0m: The object must be representing an R array"
     ]
    }
   ],
   "source": [
    "robjects.vectors.Matrix([[1,2],[3,4]])"
   ]
  },
  {
   "cell_type": "code",
   "execution_count": 50,
   "metadata": {
    "collapsed": false
   },
   "outputs": [
    {
     "name": "stdout",
     "output_type": "stream",
     "text": [
      "Help on class Matrix in module rpy2.robjects.vectors:\n",
      "\n",
      "class Matrix(Array)\n",
      " |  An R matrix\n",
      " |  \n",
      " |  Method resolution order:\n",
      " |      Matrix\n",
      " |      Array\n",
      " |      Vector\n",
      " |      rpy2.robjects.robject.RObjectMixin\n",
      " |      rpy2.rinterface.SexpVector\n",
      " |      rpy2.rinterface.Sexp\n",
      " |      __builtin__.object\n",
      " |  \n",
      " |  Methods defined here:\n",
      " |  \n",
      " |  crossprod(self, m)\n",
      " |      crossproduct X'.Y\n",
      " |  \n",
      " |  dot(self, m)\n",
      " |      Matrix multiplication\n",
      " |  \n",
      " |  eigen(self)\n",
      " |      Eigen values\n",
      " |  \n",
      " |  svd(self, nu=None, nv=None, linpack=False)\n",
      " |      SVD decomposition.\n",
      " |      If nu is None, it is given the default value min(tuple(self.dim)).\n",
      " |      If nv is None, it is given the default value min(tuple(self.dim)).\n",
      " |  \n",
      " |  tcrossprod(self, m)\n",
      " |      crossproduct X.Y'\n",
      " |  \n",
      " |  transpose(self)\n",
      " |      transpose the matrix\n",
      " |  \n",
      " |  ----------------------------------------------------------------------\n",
      " |  Data descriptors defined here:\n",
      " |  \n",
      " |  colnames\n",
      " |      Column names\n",
      " |  \n",
      " |  ncol\n",
      " |      Number of columns\n",
      " |  \n",
      " |  nrow\n",
      " |      Number of rows\n",
      " |  \n",
      " |  rownames\n",
      " |      Row names\n",
      " |  \n",
      " |  ----------------------------------------------------------------------\n",
      " |  Methods inherited from Array:\n",
      " |  \n",
      " |  __init__(self, obj)\n",
      " |  \n",
      " |  ----------------------------------------------------------------------\n",
      " |  Data descriptors inherited from Array:\n",
      " |  \n",
      " |  dim\n",
      " |  \n",
      " |  dimnames\n",
      " |      names associated with the dimension.\n",
      " |  \n",
      " |  names\n",
      " |      names associated with the dimension.\n",
      " |  \n",
      " |  ----------------------------------------------------------------------\n",
      " |  Methods inherited from Vector:\n",
      " |  \n",
      " |  __add__(self, x)\n",
      " |  \n",
      " |  __getitem__(self, i)\n",
      " |  \n",
      " |  __getslice__(self, i, j)\n",
      " |  \n",
      " |  __repr__(self)\n",
      " |  \n",
      " |  __repr_content__(self)\n",
      " |  \n",
      " |  __setitem__(self, i, value)\n",
      " |  \n",
      " |  items(self)\n",
      " |      iterator on names and values\n",
      " |  \n",
      " |  sample(self, n, replace=False, probabilities=None)\n",
      " |      Draw a sample of size n from the vector. \n",
      " |      If 'replace' is True, the sampling is done with replacement.\n",
      " |      The optional argument 'probabilities' can indicate sampling probabilities.\n",
      " |  \n",
      " |  ----------------------------------------------------------------------\n",
      " |  Data descriptors inherited from Vector:\n",
      " |  \n",
      " |  __dict__\n",
      " |      dictionary for instance variables (if defined)\n",
      " |  \n",
      " |  __weakref__\n",
      " |      list of weak references to the object (if defined)\n",
      " |  \n",
      " |  ----------------------------------------------------------------------\n",
      " |  Methods inherited from rpy2.robjects.robject.RObjectMixin:\n",
      " |  \n",
      " |  __str__(self)\n",
      " |  \n",
      " |  r_repr(self)\n",
      " |      String representation for an object that can be\n",
      " |      directly evaluated as R code.\n",
      " |  \n",
      " |  ----------------------------------------------------------------------\n",
      " |  Data descriptors inherited from rpy2.robjects.robject.RObjectMixin:\n",
      " |  \n",
      " |  rclass\n",
      " |      R class for the object, stored as an R string vector.\n",
      " |  \n",
      " |  slots\n",
      " |      Attributes of the underlying R object as a Python mapping.\n",
      " |      \n",
      " |      The attributes can accessed and assigned by name (as if they\n",
      " |      were in a Python `dict`).\n",
      " |  \n",
      " |  ----------------------------------------------------------------------\n",
      " |  Data and other attributes inherited from rpy2.robjects.robject.RObjectMixin:\n",
      " |  \n",
      " |  __rname__ = None\n",
      " |  \n",
      " |  ----------------------------------------------------------------------\n",
      " |  Methods inherited from rpy2.rinterface.SexpVector:\n",
      " |  \n",
      " |  __delitem__(...)\n",
      " |      x.__delitem__(y) <==> del x[y]\n",
      " |  \n",
      " |  __delslice__(...)\n",
      " |      x.__delslice__(i, j) <==> del x[i:j]\n",
      " |      \n",
      " |      Use of negative indices is not supported.\n",
      " |  \n",
      " |  __len__(...)\n",
      " |      x.__len__() <==> len(x)\n",
      " |  \n",
      " |  __setslice__(...)\n",
      " |      x.__setslice__(i, j, y) <==> x[i:j]=y\n",
      " |      \n",
      " |      Use  of negative indices is not supported.\n",
      " |  \n",
      " |  index(...)\n",
      " |      V.index(value, [start, [stop]]) -> integer -- return first index of value.Raises ValueError if the value is not present.\n",
      " |  \n",
      " |  ----------------------------------------------------------------------\n",
      " |  Data descriptors inherited from rpy2.rinterface.SexpVector:\n",
      " |  \n",
      " |  __array_struct__\n",
      " |      Array protocol: struct\n",
      " |  \n",
      " |  ----------------------------------------------------------------------\n",
      " |  Methods inherited from rpy2.rinterface.Sexp:\n",
      " |  \n",
      " |  __deepcopy__(...)\n",
      " |      Makes a copy of the underlying Sexp object, and returns it.\n",
      " |  \n",
      " |  __getstate__(...)\n",
      " |      Returns a serialized object for the underlying R object\n",
      " |  \n",
      " |  __reduce__(...)\n",
      " |      Prepare an instance for serialization.\n",
      " |  \n",
      " |  __setstate__(...)\n",
      " |      set the state of an instance (dummy).\n",
      " |  \n",
      " |  do_slot(...)\n",
      " |      Returns the attribute/slot for an R object.\n",
      " |       The name of the slot (a string) is the only parameter for\n",
      " |      the method.\n",
      " |      :param name: string\n",
      " |      :rtype: instance of type or subtype :class:`rpy2.rinterface.Sexp`\n",
      " |  \n",
      " |  do_slot_assign(...)\n",
      " |      Set the attribute/slot for an R object.\n",
      " |      \n",
      " |      :param name: string\n",
      " |      :param value: instance of :class:`rpy2.rinterface.Sexp`\n",
      " |  \n",
      " |  list_attrs(...)\n",
      " |      Returns the list of attribute names.\n",
      " |  \n",
      " |  rsame(...)\n",
      " |      Is the given object representing the same underlying R object as the instance.\n",
      " |  \n",
      " |  ----------------------------------------------------------------------\n",
      " |  Data descriptors inherited from rpy2.rinterface.Sexp:\n",
      " |  \n",
      " |  __sexp__\n",
      " |      Opaque C pointer to the underlying R object\n",
      " |  \n",
      " |  __sexp_refcount__\n",
      " |      Reference counter for the underlying R object\n",
      " |  \n",
      " |  named\n",
      " |      Integer code for the R object reference-pseudo counting.\n",
      " |      This method corresponds to the macro NAMED.\n",
      " |      See the R-extensions manual for further details.\n",
      " |  \n",
      " |  rid\n",
      " |      ID for the associated R object (Hint: that's a memory address)\n",
      " |  \n",
      " |  typeof\n",
      " |      R internal SEXPREC type.\n",
      " |  \n",
      " |  ----------------------------------------------------------------------\n",
      " |  Data and other attributes inherited from rpy2.rinterface.Sexp:\n",
      " |  \n",
      " |  __new__ = <built-in method __new__ of type object>\n",
      " |      T.__new__(S, ...) -> a new object with type S, a subtype of T\n",
      "\n"
     ]
    }
   ],
   "source": [
    "help(robjects.Matrix)"
   ]
  },
  {
   "cell_type": "code",
   "execution_count": 51,
   "metadata": {
    "collapsed": true
   },
   "outputs": [],
   "source": [
    "data = np.random.random((10,10))"
   ]
  },
  {
   "cell_type": "code",
   "execution_count": 56,
   "metadata": {
    "collapsed": false
   },
   "outputs": [
    {
     "name": "stderr",
     "output_type": "stream",
     "text": [
      "/usr/local/lib/python2.7/site-packages/rpy2/robjects/functions.py:106: UserWarning: Error in plot.new() : \n",
      "  X11 fatal IO error: please save work and shut down R\n",
      "\n",
      "  res = super(Function, self).__call__(*new_args, **new_kwargs)\n"
     ]
    },
    {
     "ename": "RRuntimeError",
     "evalue": "Error in plot.new() : \n  X11 fatal IO error: please save work and shut down R\n",
     "output_type": "error",
     "traceback": [
      "\u001b[0;31m---------------------------------------------------------------------------\u001b[0m",
      "\u001b[0;31mRRuntimeError\u001b[0m                             Traceback (most recent call last)",
      "\u001b[0;32m<ipython-input-56-656e5e1affd9>\u001b[0m in \u001b[0;36m<module>\u001b[0;34m()\u001b[0m\n\u001b[0;32m----> 1\u001b[0;31m \u001b[0mr\u001b[0m\u001b[0;34m.\u001b[0m\u001b[0mheatmap\u001b[0m\u001b[0;34m(\u001b[0m\u001b[0mdata\u001b[0m\u001b[0;34m)\u001b[0m\u001b[0;34m\u001b[0m\u001b[0m\n\u001b[0m",
      "\u001b[0;32m/usr/local/lib/python2.7/site-packages/rpy2/robjects/functions.pyc\u001b[0m in \u001b[0;36m__call__\u001b[0;34m(self, *args, **kwargs)\u001b[0m\n\u001b[1;32m    176\u001b[0m                 \u001b[0mv\u001b[0m \u001b[0;34m=\u001b[0m \u001b[0mkwargs\u001b[0m\u001b[0;34m.\u001b[0m\u001b[0mpop\u001b[0m\u001b[0;34m(\u001b[0m\u001b[0mk\u001b[0m\u001b[0;34m)\u001b[0m\u001b[0;34m\u001b[0m\u001b[0m\n\u001b[1;32m    177\u001b[0m                 \u001b[0mkwargs\u001b[0m\u001b[0;34m[\u001b[0m\u001b[0mr_k\u001b[0m\u001b[0;34m]\u001b[0m \u001b[0;34m=\u001b[0m \u001b[0mv\u001b[0m\u001b[0;34m\u001b[0m\u001b[0m\n\u001b[0;32m--> 178\u001b[0;31m         \u001b[0;32mreturn\u001b[0m \u001b[0msuper\u001b[0m\u001b[0;34m(\u001b[0m\u001b[0mSignatureTranslatedFunction\u001b[0m\u001b[0;34m,\u001b[0m \u001b[0mself\u001b[0m\u001b[0;34m)\u001b[0m\u001b[0;34m.\u001b[0m\u001b[0m__call__\u001b[0m\u001b[0;34m(\u001b[0m\u001b[0;34m*\u001b[0m\u001b[0margs\u001b[0m\u001b[0;34m,\u001b[0m \u001b[0;34m**\u001b[0m\u001b[0mkwargs\u001b[0m\u001b[0;34m)\u001b[0m\u001b[0;34m\u001b[0m\u001b[0m\n\u001b[0m\u001b[1;32m    179\u001b[0m \u001b[0;34m\u001b[0m\u001b[0m\n\u001b[1;32m    180\u001b[0m \u001b[0mpattern_link\u001b[0m \u001b[0;34m=\u001b[0m \u001b[0mre\u001b[0m\u001b[0;34m.\u001b[0m\u001b[0mcompile\u001b[0m\u001b[0;34m(\u001b[0m\u001b[0;34mr'\\\\link\\{(.+?)\\}'\u001b[0m\u001b[0;34m)\u001b[0m\u001b[0;34m\u001b[0m\u001b[0m\n",
      "\u001b[0;32m/usr/local/lib/python2.7/site-packages/rpy2/robjects/functions.pyc\u001b[0m in \u001b[0;36m__call__\u001b[0;34m(self, *args, **kwargs)\u001b[0m\n\u001b[1;32m    104\u001b[0m         \u001b[0;32mfor\u001b[0m \u001b[0mk\u001b[0m\u001b[0;34m,\u001b[0m \u001b[0mv\u001b[0m \u001b[0;32min\u001b[0m \u001b[0mkwargs\u001b[0m\u001b[0;34m.\u001b[0m\u001b[0mitems\u001b[0m\u001b[0;34m(\u001b[0m\u001b[0;34m)\u001b[0m\u001b[0;34m:\u001b[0m\u001b[0;34m\u001b[0m\u001b[0m\n\u001b[1;32m    105\u001b[0m             \u001b[0mnew_kwargs\u001b[0m\u001b[0;34m[\u001b[0m\u001b[0mk\u001b[0m\u001b[0;34m]\u001b[0m \u001b[0;34m=\u001b[0m \u001b[0mconversion\u001b[0m\u001b[0;34m.\u001b[0m\u001b[0mpy2ri\u001b[0m\u001b[0;34m(\u001b[0m\u001b[0mv\u001b[0m\u001b[0;34m)\u001b[0m\u001b[0;34m\u001b[0m\u001b[0m\n\u001b[0;32m--> 106\u001b[0;31m         \u001b[0mres\u001b[0m \u001b[0;34m=\u001b[0m \u001b[0msuper\u001b[0m\u001b[0;34m(\u001b[0m\u001b[0mFunction\u001b[0m\u001b[0;34m,\u001b[0m \u001b[0mself\u001b[0m\u001b[0;34m)\u001b[0m\u001b[0;34m.\u001b[0m\u001b[0m__call__\u001b[0m\u001b[0;34m(\u001b[0m\u001b[0;34m*\u001b[0m\u001b[0mnew_args\u001b[0m\u001b[0;34m,\u001b[0m \u001b[0;34m**\u001b[0m\u001b[0mnew_kwargs\u001b[0m\u001b[0;34m)\u001b[0m\u001b[0;34m\u001b[0m\u001b[0m\n\u001b[0m\u001b[1;32m    107\u001b[0m         \u001b[0mres\u001b[0m \u001b[0;34m=\u001b[0m \u001b[0mconversion\u001b[0m\u001b[0;34m.\u001b[0m\u001b[0mri2ro\u001b[0m\u001b[0;34m(\u001b[0m\u001b[0mres\u001b[0m\u001b[0;34m)\u001b[0m\u001b[0;34m\u001b[0m\u001b[0m\n\u001b[1;32m    108\u001b[0m         \u001b[0;32mreturn\u001b[0m \u001b[0mres\u001b[0m\u001b[0;34m\u001b[0m\u001b[0m\n",
      "\u001b[0;31mRRuntimeError\u001b[0m: Error in plot.new() : \n  X11 fatal IO error: please save work and shut down R\n"
     ]
    }
   ],
   "source": [
    "r.heatmap(data)    "
   ]
  },
  {
   "cell_type": "code",
   "execution_count": 20,
   "metadata": {
    "collapsed": false
   },
   "outputs": [],
   "source": [
    "import rpy2.robjects.numpy2ri\n",
    "rpy2.robjects.numpy2ri.activate()\n",
    "from rpy2.robjects.packages import importr\n",
    "import numpy as np\n",
    "rglasso = importr('glasso')\n",
    "a = np.random.random((100,1000))\n",
    "c = np.cov(a)\n",
    "l = rglasso.glasso(c,0.1)[1]"
   ]
  },
  {
   "cell_type": "code",
   "execution_count": null,
   "metadata": {
    "collapsed": false
   },
   "outputs": [],
   "source": []
  },
  {
   "cell_type": "code",
   "execution_count": 21,
   "metadata": {
    "collapsed": false
   },
   "outputs": [],
   "source": [
    "r = np.array(l)"
   ]
  },
  {
   "cell_type": "code",
   "execution_count": 23,
   "metadata": {
    "collapsed": false
   },
   "outputs": [
    {
     "data": {
      "text/plain": [
       "<Matrix - Python:0x10cec19e0 / R:0x7fb5a183ae00>\n",
       "[5.410949, 0.000000, 0.000000, ..., 0.000000, 0.000000, 5.449855]"
      ]
     },
     "execution_count": 23,
     "metadata": {},
     "output_type": "execute_result"
    }
   ],
   "source": [
    "l"
   ]
  },
  {
   "cell_type": "code",
   "execution_count": 88,
   "metadata": {
    "collapsed": false
   },
   "outputs": [
    {
     "data": {
      "text/plain": [
       "array([[ 5.47919303,  0.        ,  0.        , ...,  0.        ,\n",
       "         0.        ,  0.        ],\n",
       "       [ 0.        ,  5.46415702,  0.        , ...,  0.        ,\n",
       "         0.        ,  0.        ],\n",
       "       [ 0.        ,  0.        ,  5.40999788, ...,  0.        ,\n",
       "         0.        ,  0.        ],\n",
       "       ..., \n",
       "       [ 0.        ,  0.        ,  0.        , ...,  5.45267675,\n",
       "         0.        ,  0.        ],\n",
       "       [ 0.        ,  0.        ,  0.        , ...,  0.        ,\n",
       "         5.41849842,  0.        ],\n",
       "       [ 0.        ,  0.        ,  0.        , ...,  0.        ,\n",
       "         0.        ,  5.37119969]])"
      ]
     },
     "execution_count": 88,
     "metadata": {},
     "output_type": "execute_result"
    }
   ],
   "source": [
    "np.array(l)"
   ]
  },
  {
   "cell_type": "code",
   "execution_count": 84,
   "metadata": {
    "collapsed": false
   },
   "outputs": [
    {
     "data": {
      "text/plain": [
       "array([[ 0.79107693,  0.88623413],\n",
       "       [ 0.40755064,  0.40138952],\n",
       "       [ 0.49056628,  0.84874417],\n",
       "       [ 0.74412447,  0.77848605],\n",
       "       [ 0.38884166,  0.07605787],\n",
       "       [ 0.84849962,  0.03009202],\n",
       "       [ 0.53804651,  0.68421299],\n",
       "       [ 0.26037545,  0.93919915],\n",
       "       [ 0.83163368,  0.2517096 ],\n",
       "       [ 0.71884098,  0.8577194 ],\n",
       "       [ 0.11984504,  0.72466798],\n",
       "       [ 0.03644773,  0.63501637],\n",
       "       [ 0.62498629,  0.09550742],\n",
       "       [ 0.77615599,  0.08974722],\n",
       "       [ 0.13641094,  0.8164804 ],\n",
       "       [ 0.76553796,  0.44028236],\n",
       "       [ 0.81832864,  0.39913743],\n",
       "       [ 0.68942973,  0.30927112],\n",
       "       [ 0.40356512,  0.91331523],\n",
       "       [ 0.8856985 ,  0.60185409],\n",
       "       [ 0.84297895,  0.96056476],\n",
       "       [ 0.43342667,  0.56965333],\n",
       "       [ 0.53271862,  0.05855847],\n",
       "       [ 0.71508172,  0.19474529],\n",
       "       [ 0.56415467,  0.64682222],\n",
       "       [ 0.03927752,  0.490736  ],\n",
       "       [ 0.46807892,  0.41272999],\n",
       "       [ 0.43362627,  0.06555344],\n",
       "       [ 0.84656772,  0.65051753],\n",
       "       [ 0.27492553,  0.28764052],\n",
       "       [ 0.995948  ,  0.45502416],\n",
       "       [ 0.07695773,  0.44244838],\n",
       "       [ 0.85554668,  0.5148724 ],\n",
       "       [ 0.30184227,  0.21359113],\n",
       "       [ 0.912159  ,  0.56584387],\n",
       "       [ 0.2214784 ,  0.19413926],\n",
       "       [ 0.01499326,  0.03536291],\n",
       "       [ 0.64061868,  0.86196798],\n",
       "       [ 0.24608092,  0.98041861],\n",
       "       [ 0.51750527,  0.43878295],\n",
       "       [ 0.09205374,  0.59178645],\n",
       "       [ 0.43860413,  0.74893446],\n",
       "       [ 0.28661084,  0.31651631],\n",
       "       [ 0.39876496,  0.92985091],\n",
       "       [ 0.80038516,  0.20176842],\n",
       "       [ 0.70256881,  0.85533577],\n",
       "       [ 0.81224102,  0.64268203],\n",
       "       [ 0.28809797,  0.98102137],\n",
       "       [ 0.67632864,  0.2011235 ],\n",
       "       [ 0.14851554,  0.85191837],\n",
       "       [ 0.29123536,  0.12030074],\n",
       "       [ 0.94990824,  0.61311238],\n",
       "       [ 0.88244049,  0.01614074],\n",
       "       [ 0.95298617,  0.18971338],\n",
       "       [ 0.36525813,  0.0579568 ],\n",
       "       [ 0.4016997 ,  0.0194054 ],\n",
       "       [ 0.6510871 ,  0.97216059],\n",
       "       [ 0.08089638,  0.91380214],\n",
       "       [ 0.88113819,  0.34463392],\n",
       "       [ 0.91957169,  0.28111135],\n",
       "       [ 0.4104906 ,  0.82277147],\n",
       "       [ 0.06502926,  0.62074991],\n",
       "       [ 0.21043255,  0.09329784],\n",
       "       [ 0.51653342,  0.38491929],\n",
       "       [ 0.46565002,  0.98582732],\n",
       "       [ 0.26375897,  0.50824702],\n",
       "       [ 0.21758481,  0.18197204],\n",
       "       [ 0.29920665,  0.77645659],\n",
       "       [ 0.80998276,  0.95938788],\n",
       "       [ 0.78520177,  0.49038248],\n",
       "       [ 0.28671023,  0.3189729 ],\n",
       "       [ 0.96356231,  0.20031993],\n",
       "       [ 0.25626255,  0.76727842],\n",
       "       [ 0.82168744,  0.28514793],\n",
       "       [ 0.63541679,  0.27704536],\n",
       "       [ 0.46508978,  0.87152941],\n",
       "       [ 0.2837005 ,  0.07580442],\n",
       "       [ 0.73047333,  0.37039314],\n",
       "       [ 0.55473538,  0.87031218],\n",
       "       [ 0.56473703,  0.86793054],\n",
       "       [ 0.50231174,  0.99647337],\n",
       "       [ 0.07533671,  0.07519686],\n",
       "       [ 0.04024219,  0.39464254],\n",
       "       [ 0.55030486,  0.57179192],\n",
       "       [ 0.87211564,  0.83436341],\n",
       "       [ 0.59279864,  0.16247923],\n",
       "       [ 0.37750656,  0.35451037],\n",
       "       [ 0.32923856,  0.07405636],\n",
       "       [ 0.53041989,  0.4128484 ],\n",
       "       [ 0.25263509,  0.67997389],\n",
       "       [ 0.39841056,  0.1776378 ],\n",
       "       [ 0.17882054,  0.45160053],\n",
       "       [ 0.78506401,  0.03385007],\n",
       "       [ 0.89856699,  0.79086401],\n",
       "       [ 0.48275198,  0.61911991],\n",
       "       [ 0.37066302,  0.81423438],\n",
       "       [ 0.09486169,  0.55393922],\n",
       "       [ 0.44540859,  0.26756359],\n",
       "       [ 0.60332634,  0.42595236],\n",
       "       [ 0.42122574,  0.18671188]])"
      ]
     },
     "execution_count": 84,
     "metadata": {},
     "output_type": "execute_result"
    }
   ],
   "source": [
    "a"
   ]
  },
  {
   "cell_type": "code",
   "execution_count": 28,
   "metadata": {
    "collapsed": false
   },
   "outputs": [
    {
     "data": {
      "text/plain": [
       "array([[ 0.36639289,  0.3073518 ,  0.28989901, ...,  0.26629277,\n",
       "         0.28078008,  0.27725711],\n",
       "       [ 0.3073518 ,  0.38309289,  0.27864653, ...,  0.26961587,\n",
       "         0.27479214,  0.28517282],\n",
       "       [ 0.28989901,  0.27864653,  0.34068001, ...,  0.24659745,\n",
       "         0.27017941,  0.25282483],\n",
       "       ..., \n",
       "       [ 0.26629277,  0.26961587,  0.24659745, ...,  0.3171631 ,\n",
       "         0.24743282,  0.25203878],\n",
       "       [ 0.28078008,  0.27479214,  0.27017941, ...,  0.24743282,\n",
       "         0.35465961,  0.26836358],\n",
       "       [ 0.27725711,  0.28517282,  0.25282483, ...,  0.25203878,\n",
       "         0.26836358,  0.35846271]])"
      ]
     },
     "execution_count": 28,
     "metadata": {},
     "output_type": "execute_result"
    }
   ],
   "source": [
    "np.dot(a.T,a)/len(a)"
   ]
  },
  {
   "cell_type": "code",
   "execution_count": 34,
   "metadata": {
    "collapsed": false
   },
   "outputs": [],
   "source": [
    "c1 = np.cov(a)"
   ]
  },
  {
   "cell_type": "code",
   "execution_count": 29,
   "metadata": {
    "collapsed": true
   },
   "outputs": [],
   "source": [
    "from rpy2 import robjects"
   ]
  },
  {
   "cell_type": "code",
   "execution_count": 31,
   "metadata": {
    "collapsed": false
   },
   "outputs": [],
   "source": [
    "cov2 = robjects.r['cov']"
   ]
  },
  {
   "cell_type": "code",
   "execution_count": 37,
   "metadata": {
    "collapsed": false
   },
   "outputs": [],
   "source": [
    "c2 = np.array(cov2(a.T))"
   ]
  },
  {
   "cell_type": "code",
   "execution_count": 36,
   "metadata": {
    "collapsed": false
   },
   "outputs": [
    {
     "ename": "ValueError",
     "evalue": "operands could not be broadcast together with shapes (100,100) (1000,1000) ",
     "output_type": "error",
     "traceback": [
      "\u001b[0;31m---------------------------------------------------------------------------\u001b[0m",
      "\u001b[0;31mValueError\u001b[0m                                Traceback (most recent call last)",
      "\u001b[0;32m<ipython-input-36-f6ceda8c0da6>\u001b[0m in \u001b[0;36m<module>\u001b[0;34m()\u001b[0m\n\u001b[0;32m----> 1\u001b[0;31m \u001b[0mnp\u001b[0m\u001b[0;34m.\u001b[0m\u001b[0msum\u001b[0m\u001b[0;34m(\u001b[0m\u001b[0mnp\u001b[0m\u001b[0;34m.\u001b[0m\u001b[0mabs\u001b[0m\u001b[0;34m(\u001b[0m\u001b[0mc1\u001b[0m\u001b[0;34m-\u001b[0m\u001b[0mc2\u001b[0m\u001b[0;34m)\u001b[0m\u001b[0;34m)\u001b[0m\u001b[0;34m\u001b[0m\u001b[0m\n\u001b[0m",
      "\u001b[0;31mValueError\u001b[0m: operands could not be broadcast together with shapes (100,100) (1000,1000) "
     ]
    }
   ],
   "source": [
    "np.sum(np.abs(c1-c2))"
   ]
  },
  {
   "cell_type": "code",
   "execution_count": 38,
   "metadata": {
    "collapsed": false
   },
   "outputs": [
    {
     "data": {
      "text/plain": [
       "array([[ 0.08481047,  0.00316603, -0.00572897, ...,  0.00211479,\n",
       "         0.00433628, -0.00465666],\n",
       "       [ 0.00316603,  0.08637636, -0.00210324, ...,  0.00234355,\n",
       "        -0.00550741,  0.00268677],\n",
       "       [-0.00572897, -0.00210324,  0.0816876 , ..., -0.00105222,\n",
       "        -0.00075408,  0.00369695],\n",
       "       ..., \n",
       "       [ 0.00211479,  0.00234355, -0.00105222, ...,  0.08903831,\n",
       "         0.00308375,  0.00136842],\n",
       "       [ 0.00433628, -0.00550741, -0.00075408, ...,  0.00308375,\n",
       "         0.08467059,  0.00181294],\n",
       "       [-0.00465666,  0.00268677,  0.00369695, ...,  0.00136842,\n",
       "         0.00181294,  0.08349113]])"
      ]
     },
     "execution_count": 38,
     "metadata": {},
     "output_type": "execute_result"
    }
   ],
   "source": [
    "c2"
   ]
  },
  {
   "cell_type": "code",
   "execution_count": 39,
   "metadata": {
    "collapsed": false
   },
   "outputs": [
    {
     "data": {
      "text/plain": [
       "array([[ 0.08481047,  0.00316603, -0.00572897, ...,  0.00211479,\n",
       "         0.00433628, -0.00465666],\n",
       "       [ 0.00316603,  0.08637636, -0.00210324, ...,  0.00234355,\n",
       "        -0.00550741,  0.00268677],\n",
       "       [-0.00572897, -0.00210324,  0.0816876 , ..., -0.00105222,\n",
       "        -0.00075408,  0.00369695],\n",
       "       ..., \n",
       "       [ 0.00211479,  0.00234355, -0.00105222, ...,  0.08903831,\n",
       "         0.00308375,  0.00136842],\n",
       "       [ 0.00433628, -0.00550741, -0.00075408, ...,  0.00308375,\n",
       "         0.08467059,  0.00181294],\n",
       "       [-0.00465666,  0.00268677,  0.00369695, ...,  0.00136842,\n",
       "         0.00181294,  0.08349113]])"
      ]
     },
     "execution_count": 39,
     "metadata": {},
     "output_type": "execute_result"
    }
   ],
   "source": [
    "c1"
   ]
  },
  {
   "cell_type": "code",
   "execution_count": null,
   "metadata": {
    "collapsed": true
   },
   "outputs": [],
   "source": []
  }
 ],
 "metadata": {
  "kernelspec": {
   "display_name": "Python 2",
   "language": "python",
   "name": "python2"
  },
  "language_info": {
   "codemirror_mode": {
    "name": "ipython",
    "version": 2
   },
   "file_extension": ".py",
   "mimetype": "text/x-python",
   "name": "python",
   "nbconvert_exporter": "python",
   "pygments_lexer": "ipython2",
   "version": "2.7.10"
  }
 },
 "nbformat": 4,
 "nbformat_minor": 0
}
