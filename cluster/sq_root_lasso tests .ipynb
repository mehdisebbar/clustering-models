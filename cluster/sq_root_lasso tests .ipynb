{
 "cells": [
  {
   "cell_type": "code",
   "execution_count": 169,
   "metadata": {
    "collapsed": false
   },
   "outputs": [
    {
     "name": "stdout",
     "output_type": "stream",
     "text": [
      "The autoreload extension is already loaded. To reload it, use:\n",
      "  %reload_ext autoreload\n"
     ]
    }
   ],
   "source": [
    "%load_ext autoreload\n",
    "%autoreload 2\n",
    "import os, sys\n",
    "algo_root = '..'\n",
    "sys.path.insert(0, algo_root)\n",
    "import numpy as np\n",
    "from sklearn.cross_validation import train_test_split\n",
    "from sklearn.grid_search import GridSearchCV\n",
    "from sklearn.metrics import classification_report\n",
    "from tools.gm_tools import gm_params_generator, gaussian_mixture_sample, covar_estim, score, tau_estim\n",
    "from tools.algorithms_benchmark import view2Ddata\n",
    "from tools.gm_tools import score\n",
    "from cluster.sq_root_lasso import sqrt_lasso_gmm\n",
    "from sklearn.mixture import GMM"
   ]
  },
  {
   "cell_type": "code",
   "execution_count": 170,
   "metadata": {
    "collapsed": true
   },
   "outputs": [],
   "source": [
    "def getkey(item):\n",
    "    return item[0]\n",
    "\n",
    "def pi_compare(pi1, pi2):\n",
    "    if len(pi1) == len(pi2):\n",
    "        return ((np.array(pi1)-np.array(pi2))**2).sum()\n",
    "    elif len(pi1) < len(pi2):\n",
    "        return ((np.array(pi1+[0]*(len(pi2)-len(pi1)))-np.array(pi2))**2).sum()\n",
    "    else:\n",
    "        return ((np.array(pi2+[0]*(len(pi1)-len(pi2)))-np.array(pi1))**2).sum()"
   ]
  },
  {
   "cell_type": "code",
   "execution_count": 171,
   "metadata": {
    "collapsed": false
   },
   "outputs": [],
   "source": [
    "pi, means, covars = gm_params_generator(5,5)\n",
    "#pi = np.array([0.2 , 0.4, 0.4])\n",
    "#means = np.array( [[0,0],[2,2],[2,0]])\n",
    "X,_ = gaussian_mixture_sample(pi, means, covars, 1e5)\n",
    "#view2Ddata(X)"
   ]
  },
  {
   "cell_type": "code",
   "execution_count": 172,
   "metadata": {
    "collapsed": true
   },
   "outputs": [],
   "source": [
    "test_size = 0.2\n",
    "X_train, X_validation, y_train, y_test = train_test_split(\n",
    "    X, np.zeros(len(X)), test_size=test_size, random_state=0)"
   ]
  },
  {
   "cell_type": "code",
   "execution_count": null,
   "metadata": {
    "collapsed": false,
    "scrolled": true
   },
   "outputs": [],
   "source": [
    "#grid search on sq_root_lasso method\n",
    "max_clusters = 8\n",
    "lambd = np.sqrt(2*np.log(max_clusters)/X_train.shape[0])\n",
    "param = {\"lambd\":[lambd, lambd*1e1, lambd*1e2, lambd*1e3, lambd*1e4], \"lipz_c\":[1, 1e1, 1e2, 1e3], \"max_clusters\":[max_clusters]}\n",
    "clf = GridSearchCV(estimator=sqrt_lasso_gmm(n_iter=200), param_grid=param, cv=5, n_jobs=-1)\n",
    "clf.fit(X_train, y_train)"
   ]
  },
  {
   "cell_type": "code",
   "execution_count": null,
   "metadata": {
    "collapsed": false
   },
   "outputs": [],
   "source": [
    "#we define a bic scoring method for the grid search\n",
    "def bic_scorer(estimator, X, y=None):\n",
    "    return (2*score(X, estimator.weights_, estimator.means_, estimator.covars_ ) -\n",
    "            estimator._n_parameters()*np.log(X.shape[0]))\n",
    "\n",
    "params_GMM={\"n_components\":range(2,max_clusters+1)}\n",
    "clf_gmm = GridSearchCV(GMM(), param_grid=params_GMM, cv=5, n_jobs=-1, scoring=bic_scorer)\n",
    "clf_gmm.fit(X_train)"
   ]
  },
  {
   "cell_type": "code",
   "execution_count": null,
   "metadata": {
    "collapsed": false
   },
   "outputs": [],
   "source": [
    "#we evaluate the loglikelihood of the fitted models on X_validation\n",
    "print \"X_validation/X_train ratio: \", test_size\n",
    "\n",
    "liklhd_r = 1./X_validation.shape[0]*score(X_validation, pi, means, covars)\n",
    "print \"real loglikelihood: \", liklhd_r\n",
    "pi_s, means_s = map(list,zip(*(sorted(zip(pi, means), key=getkey)[::-1])))\n",
    "print \"real pi:\", np.array(pi_s)\n",
    "print \"real means:\", np.array(means_s), \"\\n\"\n",
    "print \"### sq_root lasso method ###\\n\"\n",
    "print \"crossval + gridsearch params: \", clf,\"\\n\"\n",
    "print \"grid search best params:\", clf.best_params_, \"\\n\"\n",
    "\n",
    "pi_sqrt, means_sqrt, covars_sqrt = map(list,zip(*(sorted(zip(clf.best_estimator_.pi_, clf.best_estimator_.means_, clf.best_estimator_.covars_), key=getkey)[::-1])))\n",
    "liklhd_sqrt = 1./X_validation.shape[0]*score(X_validation, clf.best_estimator_.pi_, clf.best_estimator_.means_, clf.best_estimator_.covars_)\n",
    "print \"sq_root lasso method loglikelihood on X_validation:\", liklhd_sqrt\n",
    "print \"likelihood_diff: \", liklhd_r-liklhd_sqrt, \"\\n\"\n",
    "\n",
    "print \"sorted pi: \", np.array(pi_sqrt)\n",
    "print \"sorted means: \", np.array(means_sqrt), \"\\n\"\n",
    "print \"norm(pi_sqrt-pi_real) :\", pi_compare(pi_sqrt, pi_s),\"\\n\"\n",
    "\n",
    "print \"### EM + BIC ###\\n\"\n",
    "print \"crossval + gridsearch params: \", clf_gmm ,\"\\n\"\n",
    "print \"grid search best params:\", clf_gmm.best_params_, \"\\n\"\n",
    "\n",
    "pi_gmm, means_gmm, covars_gmm = map(list,zip(*(sorted(zip(clf_gmm.best_estimator_.weights_, clf_gmm.best_estimator_.means_, clf_gmm.best_estimator_.covars_), key=getkey)[::-1])))\n",
    "liklhd_gmm = 1./X_validation.shape[0]*score(X_validation, clf_gmm.best_estimator_.weights_, clf_gmm.best_estimator_.means_, clf_gmm.best_estimator_.covars_)\n",
    "print \"EM loglikelihood on X_validation:\", liklhd_gmm\n",
    "print \"likelihood_diff: \", liklhd_r-liklhd_gmm, \"\\n\"\n",
    "\n",
    "print \"sorted pi: \", np.array(pi_gmm)\n",
    "print \"sorted means: \", np.array(means_gmm), \"\\n\"\n",
    "print \"norm(pi_gmm-pi_real) :\", pi_compare(pi_gmm, pi_s),\"\\n\"\n"
   ]
  },
  {
   "cell_type": "code",
   "execution_count": null,
   "metadata": {
    "collapsed": true
   },
   "outputs": [],
   "source": []
  }
 ],
 "metadata": {
  "kernelspec": {
   "display_name": "Python 2",
   "language": "python",
   "name": "python2"
  },
  "language_info": {
   "codemirror_mode": {
    "name": "ipython",
    "version": 2
   },
   "file_extension": ".py",
   "mimetype": "text/x-python",
   "name": "python",
   "nbconvert_exporter": "python",
   "pygments_lexer": "ipython2",
   "version": "2.7.6"
  }
 },
 "nbformat": 4,
 "nbformat_minor": 0
}
