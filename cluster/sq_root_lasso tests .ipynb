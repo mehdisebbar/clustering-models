{
 "cells": [
  {
   "cell_type": "code",
   "execution_count": 12,
   "metadata": {
    "collapsed": false
   },
   "outputs": [
    {
     "name": "stdout",
     "output_type": "stream",
     "text": [
      "The autoreload extension is already loaded. To reload it, use:\n",
      "  %reload_ext autoreload\n",
      "\n"
     ]
    }
   ],
   "source": [
    "%load_ext autoreload\n",
    "%autoreload 2\n",
    "import os, sys\n",
    "algo_root = '..'\n",
    "sys.path.insert(0, algo_root)\n",
    "import numpy as np\n",
    "from sklearn.cross_validation import train_test_split\n",
    "from sklearn.grid_search import GridSearchCV\n",
    "from sklearn.metrics import classification_report\n",
    "from tools.gm_tools import gm_params_generator, gaussian_mixture_sample, covar_estim, score, tau_estim\n",
    "from tools.algorithms_benchmark import view2Ddata\n",
    "from tools.gm_tools import score\n",
    "from cluster.sq_root_lasso import sqrt_lasso_gmm\n",
    "from sklearn.mixture import GMM"
   ]
  },
  {
   "cell_type": "code",
   "execution_count": 55,
   "metadata": {
    "collapsed": false
   },
   "outputs": [],
   "source": [
    "pi, means, covars = gm_params_generator(2,5)\n",
    "#pi = np.array([0.2 , 0.4, 0.4])\n",
    "#means = np.array( [[0,0],[2,2],[2,0]])\n",
    "X,_ = gaussian_mixture_sample(pi, means, covars, 1e5)\n",
    "#view2Ddata(X)"
   ]
  },
  {
   "cell_type": "code",
   "execution_count": 57,
   "metadata": {
    "collapsed": true
   },
   "outputs": [],
   "source": [
    "X_train, X_validation, y_train, y_test = train_test_split(\n",
    "    X, np.zeros(len(X)), test_size=0.2, random_state=0)"
   ]
  },
  {
   "cell_type": "code",
   "execution_count": 51,
   "metadata": {
    "collapsed": false,
    "scrolled": true
   },
   "outputs": [
    {
     "data": {
      "text/plain": [
       "GridSearchCV(cv=5, error_score='raise',\n",
       "       estimator=sqrt_lasso_gmm(lambd=1, lipz_c=1, max_clusters=8, n_iter=50, verbose=False),\n",
       "       fit_params={}, iid=True, n_jobs=-1,\n",
       "       param_grid={'lipz_c': [1, 100], 'max_clusters': [5], 'lambd': [0.020058900221809894, 1.0200589002218099]},\n",
       "       pre_dispatch='2*n_jobs', refit=True, scoring=None, verbose=0)"
      ]
     },
     "execution_count": 51,
     "metadata": {},
     "output_type": "execute_result"
    }
   ],
   "source": [
    "#grid search on sq_root_lasso method\n",
    "max_clusters = 8\n",
    "lambd = np.sqrt(2*np.log(max_clusters)/X_train.shape[0])\n",
    "param = {\"lambd\":[lambd, lambd+10, lambd+1e2, lambd+1e3], \"lipz_c\":[1, 1e1, 1e2, 1e3], \"max_clusters\":[max_clusters]}\n",
    "clf = GridSearchCV(estimator=sqrt_lasso_gmm(n_iter=50), param_grid=param, cv=5, n_jobs=-1)\n",
    "clf.fit(X_train, y_train)"
   ]
  },
  {
   "cell_type": "code",
   "execution_count": 52,
   "metadata": {
    "collapsed": false
   },
   "outputs": [
    {
     "data": {
      "text/plain": [
       "GridSearchCV(cv=5, error_score='raise',\n",
       "       estimator=GMM(covariance_type='diag', init_params='wmc', min_covar=0.001,\n",
       "  n_components=1, n_init=1, n_iter=100, params='wmc', random_state=None,\n",
       "  thresh=None, tol=0.001, verbose=0),\n",
       "       fit_params={}, iid=True, n_jobs=-1,\n",
       "       param_grid={'n_components': [2, 3, 4, 5, 6, 7]},\n",
       "       pre_dispatch='2*n_jobs', refit=True,\n",
       "       scoring=<function bic_scorer at 0x7f57b29629b0>, verbose=0)"
      ]
     },
     "execution_count": 52,
     "metadata": {},
     "output_type": "execute_result"
    }
   ],
   "source": [
    "#we define a bic scoring method for the grid search\n",
    "def bic_scorer(estimator, X, y=None):\n",
    "    return (2*score(X, estimator.weights_, estimator.means_, estimator.covars_ ) -\n",
    "            estimator._n_parameters()*np.log(X.shape[0]))\n",
    "\n",
    "params_GMM={\"n_components\":range(2,max_clusters+1)}\n",
    "clf_gmm = GridSearchCV(GMM(), param_grid=params_GMM, cv=5, n_jobs=-1, scoring=bic_scorer)\n",
    "clf_gmm.fit(X_train)"
   ]
  },
  {
   "cell_type": "code",
   "execution_count": 53,
   "metadata": {
    "collapsed": false
   },
   "outputs": [
    {
     "name": "stdout",
     "output_type": "stream",
     "text": [
      "real loglikelihood:  2.68053877041\n",
      "real pi: [ 0.2  0.4  0.4]\n",
      "real means: [[0 0]\n",
      " [2 2]\n",
      " [2 0]]\n",
      "###sq_root lasso method###\n",
      "sq_root lasso method loglikelihood: 2.54964435881\n",
      "pi:  [0.39244106072983204, 0.40613092616687047, 0.20142801310329761]\n",
      "means:  [array([ 2.00674191,  2.0066682 ]), array([  2.00695056e+00,   1.31126697e-04]), array([ 0.00144216, -0.00092002])]\n",
      "grid search best params: {'lipz_c': 1, 'max_clusters': 5, 'lambd': 0.020058900221809894}\n",
      "###EM + BIC###\n",
      "EM loglikelihood: 2.54874389886\n",
      "pi:  [ 0.198875  0.407375  0.39375 ]\n",
      "means:  [[  1.46066879e-03  -9.31831392e-04]\n",
      " [  2.00082158e+00   1.30726252e-04]\n",
      " [  2.00007092e+00   1.99999745e+00]]\n",
      "grid search best params: {'n_components': 3}\n"
     ]
    }
   ],
   "source": [
    "#we evaluate the loglikelihood of the fitted models on X_validation\n",
    "print \"real loglikelihood: \", 1./X_validation.shape[0]*score(X_validation, pi, means, covars)\n",
    "print \"real pi:\", pi\n",
    "print \"real means:\", means\n",
    "print \"###sq_root lasso method###\"\n",
    "print \"sq_root lasso method loglikelihood:\", 1./X_validation.shape[0]*score(X_validation, clf.best_estimator_.pi_, clf.best_estimator_.means_, clf.best_estimator_.covars_)\n",
    "print \"pi: \", clf.best_estimator_.pi_\n",
    "print \"means: \", clf.best_estimator_.means_\n",
    "print \"grid search best params:\", clf.best_params_\n",
    "print \"###EM + BIC###\"\n",
    "print \"EM loglikelihood:\", 1./X_validation.shape[0]*score(X_validation, clf_gmm.best_estimator_.weights_, clf_gmm.best_estimator_.means_, clf_gmm.best_estimator_.covars_)\n",
    "print \"pi: \", clf_gmm.best_estimator_.weights_\n",
    "print \"means: \", clf_gmm.best_estimator_.means_\n",
    "print \"grid search best params:\", clf_gmm.best_params_\n"
   ]
  },
  {
   "cell_type": "code",
   "execution_count": 49,
   "metadata": {
    "collapsed": false
   },
   "outputs": [
    {
     "data": {
      "text/plain": [
       "[mean: 4060.13955, std: 20.23495, params: {'lipz_c': 1, 'max_clusters': 7, 'lambd': 0.022056235790901137},\n",
       " mean: 4059.59639, std: 20.71163, params: {'lipz_c': 10, 'max_clusters': 7, 'lambd': 0.022056235790901137},\n",
       " mean: 4055.78764, std: 19.74048, params: {'lipz_c': 100, 'max_clusters': 7, 'lambd': 0.022056235790901137},\n",
       " mean: -10455.07918, std: 7345.82141, params: {'lipz_c': 1000, 'max_clusters': 7, 'lambd': 0.022056235790901137},\n",
       " mean: -4819.13629, std: 6967.13678, params: {'lipz_c': 10000, 'max_clusters': 7, 'lambd': 0.022056235790901137},\n",
       " mean: 3988.09737, std: 71.72656, params: {'lipz_c': 1, 'max_clusters': 7, 'lambd': 0.12205623579090114},\n",
       " mean: 3960.56118, std: 22.31289, params: {'lipz_c': 10, 'max_clusters': 7, 'lambd': 0.12205623579090114},\n",
       " mean: 3976.10568, std: 18.89363, params: {'lipz_c': 100, 'max_clusters': 7, 'lambd': 0.12205623579090114},\n",
       " mean: -2719.65654, std: 6972.95227, params: {'lipz_c': 1000, 'max_clusters': 7, 'lambd': 0.12205623579090114},\n",
       " mean: -9848.59079, std: 8458.67886, params: {'lipz_c': 10000, 'max_clusters': 7, 'lambd': 0.12205623579090114},\n",
       " mean: -2194.74297, std: 3263.49911, params: {'lipz_c': 1, 'max_clusters': 7, 'lambd': 1.0220562357909011},\n",
       " mean: -641.47687, std: 3070.04755, params: {'lipz_c': 10, 'max_clusters': 7, 'lambd': 1.0220562357909011},\n",
       " mean: -5528.15717, std: 245.41632, params: {'lipz_c': 100, 'max_clusters': 7, 'lambd': 1.0220562357909011},\n",
       " mean: -7413.51026, std: 2288.55933, params: {'lipz_c': 1000, 'max_clusters': 7, 'lambd': 1.0220562357909011},\n",
       " mean: -1161.48642, std: 2090.74570, params: {'lipz_c': 10000, 'max_clusters': 7, 'lambd': 1.0220562357909011},\n",
       " mean: nan, std: nan, params: {'lipz_c': 1, 'max_clusters': 7, 'lambd': 10.022056235790901},\n",
       " mean: nan, std: nan, params: {'lipz_c': 10, 'max_clusters': 7, 'lambd': 10.022056235790901},\n",
       " mean: nan, std: nan, params: {'lipz_c': 100, 'max_clusters': 7, 'lambd': 10.022056235790901},\n",
       " mean: -13669.10569, std: 1150.25022, params: {'lipz_c': 1000, 'max_clusters': 7, 'lambd': 10.022056235790901},\n",
       " mean: -13690.85160, std: 1089.52694, params: {'lipz_c': 10000, 'max_clusters': 7, 'lambd': 10.022056235790901},\n",
       " mean: nan, std: nan, params: {'lipz_c': 1, 'max_clusters': 7, 'lambd': 100.0220562357909},\n",
       " mean: -13074.52734, std: 395.34861, params: {'lipz_c': 10, 'max_clusters': 7, 'lambd': 100.0220562357909},\n",
       " mean: nan, std: nan, params: {'lipz_c': 100, 'max_clusters': 7, 'lambd': 100.0220562357909},\n",
       " mean: -13661.14101, std: 943.54188, params: {'lipz_c': 1000, 'max_clusters': 7, 'lambd': 100.0220562357909},\n",
       " mean: -13262.11055, std: 391.98046, params: {'lipz_c': 10000, 'max_clusters': 7, 'lambd': 100.0220562357909}]"
      ]
     },
     "execution_count": 49,
     "metadata": {},
     "output_type": "execute_result"
    }
   ],
   "source": [
    "clf.grid_scores_"
   ]
  },
  {
   "cell_type": "code",
   "execution_count": 50,
   "metadata": {
    "collapsed": false
   },
   "outputs": [
    {
     "data": {
      "text/plain": [
       "[mean: 3411.95855, std: 141.65137, params: {'n_components': 2},\n",
       " mean: 8109.90621, std: 70.19803, params: {'n_components': 3},\n",
       " mean: 8073.01742, std: 70.19804, params: {'n_components': 4},\n",
       " mean: 8036.14027, std: 70.19280, params: {'n_components': 5},\n",
       " mean: 7999.24634, std: 70.19952, params: {'n_components': 6},\n",
       " mean: 7962.35873, std: 70.19886, params: {'n_components': 7}]"
      ]
     },
     "execution_count": 50,
     "metadata": {},
     "output_type": "execute_result"
    }
   ],
   "source": [
    "clf_gmm.grid_scores_"
   ]
  },
  {
   "cell_type": "code",
   "execution_count": 54,
   "metadata": {
    "collapsed": false
   },
   "outputs": [
    {
     "data": {
      "text/plain": [
       "10.0"
      ]
     },
     "execution_count": 54,
     "metadata": {},
     "output_type": "execute_result"
    }
   ],
   "source": []
  },
  {
   "cell_type": "code",
   "execution_count": null,
   "metadata": {
    "collapsed": true
   },
   "outputs": [],
   "source": []
  }
 ],
 "metadata": {
  "kernelspec": {
   "display_name": "Python 2",
   "language": "python",
   "name": "python2"
  },
  "language_info": {
   "codemirror_mode": {
    "name": "ipython",
    "version": 2
   },
   "file_extension": ".py",
   "mimetype": "text/x-python",
   "name": "python",
   "nbconvert_exporter": "python",
   "pygments_lexer": "ipython2",
   "version": "2.7.6"
  }
 },
 "nbformat": 4,
 "nbformat_minor": 0
}
