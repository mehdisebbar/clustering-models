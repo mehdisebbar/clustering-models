{
 "cells": [
  {
   "cell_type": "code",
   "execution_count": 4,
   "metadata": {
    "collapsed": true
   },
   "outputs": [],
   "source": [
    "import pickle\n",
    "import matplotlib.pyplot as plt\n",
    "from tools.math import bic_scorer\n",
    "import os"
   ]
  },
  {
   "cell_type": "code",
   "execution_count": 5,
   "metadata": {
    "collapsed": false
   },
   "outputs": [],
   "source": [
    "folder=\"./cluster/2016-06-18_17.57.34/\""
   ]
  },
  {
   "cell_type": "code",
   "execution_count": 6,
   "metadata": {
    "collapsed": true
   },
   "outputs": [],
   "source": [
    "from os import listdir\n",
    "from os.path import isfile, join\n",
    "onlyfiles = [f for f in listdir(folder) if (isfile(join(folder, f)) and f.startswith(\"res_D\"))]\n",
    "uniq_simus = set([f.split(\".\")[0] for f in onlyfiles])\n",
    "dims = list(set([int(a.split(\"D\")[1].split(\"K\")[0]) for a in uniq_simus]))\n",
    "dims.sort()\n",
    "size = list(set([int(a.split(\"N\")[1]) for a in uniq_simus]))\n",
    "size.sort()\n",
    "real_clus = list(set([int(a.split(\"K\")[1].split(\"N\")[0]) for a in uniq_simus]))\n",
    "real_clus.sort()"
   ]
  },
  {
   "cell_type": "code",
   "execution_count": 8,
   "metadata": {
    "collapsed": false
   },
   "outputs": [],
   "source": [
    "import numpy as np\n",
    "res = {}\n",
    "\n",
    "for d in dims:\n",
    "    for k in real_clus:\n",
    "        res[(d,k)]={\"em\":[],\"algo\":[]}\n",
    "        for s in size:\n",
    "            files = [f for f in listdir(folder) if (isfile(join(folder, f)) and f.startswith(\"res_D\"+str(d)+\"K\"+str(k)+\"N\"+str(s)))]\n",
    "            r_em = np.array([pickle.load(open(folder+f))[\"gmm\"][\"score_weights\"] for f in files])\n",
    "            r_algo = np.array([pickle.load(open(folder+f))[\"sqrt\"][\"score_weights\"] for f in files])\n",
    "            if len(r_em)!=0 and len(r_algo)!=0:\n",
    "                res[(d,k)][\"em\"].append((s, np.median(r_em)))\n",
    "                res[(d,k)][\"algo\"].append((s, np.median(r_algo)))"
   ]
  },
  {
   "cell_type": "code",
   "execution_count": 9,
   "metadata": {
    "collapsed": false
   },
   "outputs": [],
   "source": [
    "for i in dims:\n",
    "    for j in real_clus:\n",
    "        param = (i,j)\n",
    "        x,algo = zip(*(res[param][\"algo\"]))\n",
    "        _,em = zip(*(res[param][\"em\"]))\n",
    "        plt.plot(x, algo, 'g-', x, em, 'r--')\n",
    "        plt.yscale('log')\n",
    "        plt.xscale('log')\n",
    "        plt.xlabel(\"Sample size\")\n",
    "        plt.title('Dim:'+str(param[0])+\" K:\"+str(param[1]))\n",
    "        os.makedirs(folder+\"results\")\n",
    "        plt.savefig(folder+\"results/\"+\"D\"+str(param[0])+\"K\"+str(param[1]))\n",
    "        plt.close()"
   ]
  },
  {
   "cell_type": "code",
   "execution_count": 10,
   "metadata": {
    "collapsed": false
   },
   "outputs": [
    {
     "data": {
      "text/plain": [
       "{(2,\n",
       "  3): {'algo': [(1000, 0.00022654704595905843),\n",
       "   (2000, 0.00017464932986695374)], 'em': [(1000, 0.00021608104711289883),\n",
       "   (2000, 0.00024705952362168957)]}}"
      ]
     },
     "execution_count": 10,
     "metadata": {},
     "output_type": "execute_result"
    }
   ],
   "source": [
    "res"
   ]
  },
  {
   "cell_type": "code",
   "execution_count": null,
   "metadata": {
    "collapsed": true
   },
   "outputs": [],
   "source": []
  }
 ],
 "metadata": {
  "kernelspec": {
   "display_name": "Python 2",
   "language": "python",
   "name": "python2"
  },
  "language_info": {
   "codemirror_mode": {
    "name": "ipython",
    "version": 2
   },
   "file_extension": ".py",
   "mimetype": "text/x-python",
   "name": "python",
   "nbconvert_exporter": "python",
   "pygments_lexer": "ipython2",
   "version": "2.7.10"
  }
 },
 "nbformat": 4,
 "nbformat_minor": 0
}
