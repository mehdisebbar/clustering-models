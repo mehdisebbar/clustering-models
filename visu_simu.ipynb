{
 "cells": [
  {
   "cell_type": "code",
   "execution_count": 1,
   "metadata": {
    "collapsed": true
   },
   "outputs": [],
   "source": [
    "import pickle\n",
    "import matplotlib.pyplot as plt\n",
    "from tools.math import bic_scorer\n",
    "import os\n",
    "from tools.matrix_tools import weights_compare"
   ]
  },
  {
   "cell_type": "code",
   "execution_count": 2,
   "metadata": {
    "collapsed": false
   },
   "outputs": [],
   "source": [
    "folder=\"/Users/mehdi/Downloads/2016-07-16_19.05.54/\""
   ]
  },
  {
   "cell_type": "code",
   "execution_count": 3,
   "metadata": {
    "collapsed": true
   },
   "outputs": [],
   "source": [
    "from os import listdir\n",
    "from os.path import isfile, join\n",
    "onlyfiles = [f for f in listdir(folder) if (isfile(join(folder, f)) and f.startswith(\"res_D\"))]\n",
    "uniq_simus = set([f.split(\".\")[0] for f in onlyfiles])\n",
    "dims = list(set([int(a.split(\"D\")[1].split(\"K\")[0]) for a in uniq_simus]))\n",
    "dims.sort()\n",
    "size = list(set([int(a.split(\"N\")[1]) for a in uniq_simus]))\n",
    "size.sort()\n",
    "real_clus = list(set([int(a.split(\"K\")[1].split(\"N\")[0]) for a in uniq_simus]))\n",
    "real_clus.sort()"
   ]
  },
  {
   "cell_type": "code",
   "execution_count": 4,
   "metadata": {
    "collapsed": false
   },
   "outputs": [],
   "source": [
    "import numpy as np\n",
    "res = {}\n",
    "\n",
    "for d in dims:\n",
    "    for k in real_clus:\n",
    "        res[(d,k)]={\"em\":[],\"algo\":[]}\n",
    "        for s in size:\n",
    "            files = [f for f in listdir(folder) if (isfile(join(folder, f)) and f.startswith(\"res_D\"+str(d)+\"K\"+str(k)+\"N\"+str(s)))]\n",
    "            r_em = np.array([pickle.load(open(folder+f))[\"gmm\"][\"score_weights\"] for f in files])\n",
    "            r_algo = np.array([pickle.load(open(folder+f))[\"sqrt\"][\"score_weights\"] for f in files])\n",
    "            if len(r_em)!=0 and len(r_algo)!=0:\n",
    "                res[(d,k)][\"em\"].append((s, np.median(r_em)))\n",
    "                res[(d,k)][\"algo\"].append((s, np.median(r_algo)))"
   ]
  },
  {
   "cell_type": "code",
   "execution_count": null,
   "metadata": {
    "collapsed": false
   },
   "outputs": [],
   "source": [
    "for i in dims:\n",
    "    for j in real_clus:\n",
    "        param = (i,j)\n",
    "        x,algo = zip(*(res[param][\"algo\"]))\n",
    "        _,em = zip(*(res[param][\"em\"]))\n",
    "        plt.plot(x, algo, 'g-', x, em, 'r--')\n",
    "        plt.yscale('log')\n",
    "        plt.xscale('log')\n",
    "        plt.xlabel(\"Sample size\")\n",
    "        plt.title('Dim:'+str(param[0])+\" K:\"+str(param[1]))\n",
    "        if not os.path.exists(folder+\"results\"):\n",
    "            os.makedirs(folder+\"results\")\n",
    "        plt.savefig(folder+\"results/\"+\"D\"+str(param[0])+\"K\"+str(param[1]))\n",
    "        plt.close()"
   ]
  },
  {
   "cell_type": "code",
   "execution_count": 19,
   "metadata": {
    "collapsed": false
   },
   "outputs": [
    {
     "name": "stdout",
     "output_type": "stream",
     "text": [
      "algo assigned cluster ratio, size: 1000 0.02\n",
      "gmm assigned cluster ratio, size: 1000 1.0\n",
      "algo assigned cluster ratio, size: 1000 0.02\n",
      "gmm assigned cluster ratio, size: 1000 1.0\n",
      "algo assigned cluster ratio, size: 1000 0.02\n",
      "gmm assigned cluster ratio, size: 1000 0.98\n",
      "algo assigned cluster ratio, size: 1000 0.08\n",
      "gmm assigned cluster ratio, size: 1000 0.92\n",
      "algo assigned cluster ratio, size: 1000 0.12\n",
      "gmm assigned cluster ratio, size: 1000 0.86\n",
      "algo assigned cluster ratio, size: 1000 0.24\n",
      "gmm assigned cluster ratio, size: 1000 0.78\n",
      "algo assigned cluster ratio, size: 1000 0.56\n",
      "gmm assigned cluster ratio, size: 1000 0.76\n",
      "algo assigned cluster ratio, size: 1000 0.58\n",
      "gmm assigned cluster ratio, size: 1000 0.78\n",
      "algo assigned cluster ratio, size: 1000 0.82\n",
      "gmm assigned cluster ratio, size: 1000 0.54\n",
      "algo assigned cluster ratio, size: 1000 0.795918367347\n",
      "gmm assigned cluster ratio, size: 1000 0.530612244898\n",
      "algo assigned cluster ratio, size: 1000 0.84\n",
      "gmm assigned cluster ratio, size: 1000 0.54\n",
      "algo assigned cluster ratio, size: 1000 0.78\n",
      "gmm assigned cluster ratio, size: 1000 0.48\n",
      "algo assigned cluster ratio, size: 1000 0.88\n",
      "gmm assigned cluster ratio, size: 1000 0.34\n",
      "algo assigned cluster ratio, size: 1000 0.84\n",
      "gmm assigned cluster ratio, size: 1000 0.26\n",
      "algo assigned cluster ratio, size: 1000 1.0\n",
      "gmm assigned cluster ratio, size: 1000 0.25\n"
     ]
    }
   ],
   "source": [
    "#scores assigned ratio\n",
    "for k in real_clus:\n",
    "    for s in size:\n",
    "        files = [f for f in listdir(folder) if (isfile(join(folder, f)) and f.startswith(\"res_D\"+str(d)+\"K\"+str(k)+\"N\"+str(s)))]\n",
    "        res = [pickle.load(open(folder+f)) for f in files]\n",
    "        algo_assigned = [len(r[\"sqrt\"][\"weights\"]) for r in res]\n",
    "        print \"algo assigned cluster ratio, size:\",s, str(1.0*algo_assigned.count(k)/len(files))\n",
    "        em_assigned = [len(r[\"gmm\"][\"weights\"]) for r in res]\n",
    "        print \"gmm assigned cluster ratio, size:\",s, str(1.0*em_assigned.count(k)/len(files))\n",
    "    "
   ]
  },
  {
   "cell_type": "markdown",
   "metadata": {
    "collapsed": false
   },
   "source": [
    "# plot function of K"
   ]
  },
  {
   "cell_type": "code",
   "execution_count": null,
   "metadata": {
    "collapsed": true
   },
   "outputs": [],
   "source": []
  },
  {
   "cell_type": "code",
   "execution_count": 1,
   "metadata": {
    "collapsed": true
   },
   "outputs": [],
   "source": [
    "folder=\"/Users/mehdi/Downloads/2016-06-22_17.22.03/\"\n",
    "import pickle\n",
    "import matplotlib.pyplot as plt\n",
    "from tools.math import bic_scorer\n",
    "import os\n",
    "from tools.matrix_tools import weights_compare\n",
    "from os import listdir\n",
    "from os.path import isfile, join\n",
    "onlyfiles = [f for f in listdir(folder) if (isfile(join(folder, f)) and f.startswith(\"res_D\"))]\n",
    "uniq_simus = set([f.split(\".\")[0] for f in onlyfiles])\n",
    "dims = list(set([int(a.split(\"D\")[1].split(\"K\")[0]) for a in uniq_simus]))\n",
    "dims.sort()\n",
    "size = list(set([int(a.split(\"N\")[1]) for a in uniq_simus]))\n",
    "size.sort()\n",
    "real_clus = list(set([int(a.split(\"K\")[1].split(\"N\")[0]) for a in uniq_simus]))\n",
    "real_clus.sort()"
   ]
  },
  {
   "cell_type": "code",
   "execution_count": 2,
   "metadata": {
    "collapsed": false
   },
   "outputs": [
    {
     "ename": "KeyboardInterrupt",
     "evalue": "",
     "output_type": "error",
     "traceback": [
      "\u001b[0;31m---------------------------------------------------------------------------\u001b[0m",
      "\u001b[0;31mKeyboardInterrupt\u001b[0m                         Traceback (most recent call last)",
      "\u001b[0;32m<ipython-input-2-30b3ccacf60e>\u001b[0m in \u001b[0;36m<module>\u001b[0;34m()\u001b[0m\n\u001b[1;32m      8\u001b[0m             \u001b[0mfiles\u001b[0m \u001b[0;34m=\u001b[0m \u001b[0;34m[\u001b[0m\u001b[0mf\u001b[0m \u001b[0;32mfor\u001b[0m \u001b[0mf\u001b[0m \u001b[0;32min\u001b[0m \u001b[0mlistdir\u001b[0m\u001b[0;34m(\u001b[0m\u001b[0mfolder\u001b[0m\u001b[0;34m)\u001b[0m \u001b[0;32mif\u001b[0m \u001b[0;34m(\u001b[0m\u001b[0misfile\u001b[0m\u001b[0;34m(\u001b[0m\u001b[0mjoin\u001b[0m\u001b[0;34m(\u001b[0m\u001b[0mfolder\u001b[0m\u001b[0;34m,\u001b[0m \u001b[0mf\u001b[0m\u001b[0;34m)\u001b[0m\u001b[0;34m)\u001b[0m \u001b[0;32mand\u001b[0m \u001b[0mf\u001b[0m\u001b[0;34m.\u001b[0m\u001b[0mstartswith\u001b[0m\u001b[0;34m(\u001b[0m\u001b[0;34m\"res_D\"\u001b[0m\u001b[0;34m+\u001b[0m\u001b[0mstr\u001b[0m\u001b[0;34m(\u001b[0m\u001b[0md\u001b[0m\u001b[0;34m)\u001b[0m\u001b[0;34m+\u001b[0m\u001b[0;34m\"K\"\u001b[0m\u001b[0;34m+\u001b[0m\u001b[0mstr\u001b[0m\u001b[0;34m(\u001b[0m\u001b[0mk\u001b[0m\u001b[0;34m)\u001b[0m\u001b[0;34m+\u001b[0m\u001b[0;34m\"N\"\u001b[0m\u001b[0;34m+\u001b[0m\u001b[0mstr\u001b[0m\u001b[0;34m(\u001b[0m\u001b[0ms\u001b[0m\u001b[0;34m)\u001b[0m\u001b[0;34m)\u001b[0m\u001b[0;34m)\u001b[0m\u001b[0;34m]\u001b[0m\u001b[0;34m\u001b[0m\u001b[0m\n\u001b[1;32m      9\u001b[0m             \u001b[0mr_em\u001b[0m \u001b[0;34m=\u001b[0m \u001b[0mnp\u001b[0m\u001b[0;34m.\u001b[0m\u001b[0marray\u001b[0m\u001b[0;34m(\u001b[0m\u001b[0;34m[\u001b[0m\u001b[0mpickle\u001b[0m\u001b[0;34m.\u001b[0m\u001b[0mload\u001b[0m\u001b[0;34m(\u001b[0m\u001b[0mopen\u001b[0m\u001b[0;34m(\u001b[0m\u001b[0mfolder\u001b[0m\u001b[0;34m+\u001b[0m\u001b[0mf\u001b[0m\u001b[0;34m)\u001b[0m\u001b[0;34m)\u001b[0m\u001b[0;34m[\u001b[0m\u001b[0;34m\"gmm\"\u001b[0m\u001b[0;34m]\u001b[0m\u001b[0;34m[\u001b[0m\u001b[0;34m\"score_weights\"\u001b[0m\u001b[0;34m]\u001b[0m \u001b[0;32mfor\u001b[0m \u001b[0mf\u001b[0m \u001b[0;32min\u001b[0m \u001b[0mfiles\u001b[0m\u001b[0;34m]\u001b[0m\u001b[0;34m)\u001b[0m\u001b[0;34m\u001b[0m\u001b[0m\n\u001b[0;32m---> 10\u001b[0;31m             \u001b[0mr_algo\u001b[0m \u001b[0;34m=\u001b[0m \u001b[0mnp\u001b[0m\u001b[0;34m.\u001b[0m\u001b[0marray\u001b[0m\u001b[0;34m(\u001b[0m\u001b[0;34m[\u001b[0m\u001b[0mpickle\u001b[0m\u001b[0;34m.\u001b[0m\u001b[0mload\u001b[0m\u001b[0;34m(\u001b[0m\u001b[0mopen\u001b[0m\u001b[0;34m(\u001b[0m\u001b[0mfolder\u001b[0m\u001b[0;34m+\u001b[0m\u001b[0mf\u001b[0m\u001b[0;34m)\u001b[0m\u001b[0;34m)\u001b[0m\u001b[0;34m[\u001b[0m\u001b[0;34m\"sqrt\"\u001b[0m\u001b[0;34m]\u001b[0m\u001b[0;34m[\u001b[0m\u001b[0;34m\"score_weights\"\u001b[0m\u001b[0;34m]\u001b[0m \u001b[0;32mfor\u001b[0m \u001b[0mf\u001b[0m \u001b[0;32min\u001b[0m \u001b[0mfiles\u001b[0m\u001b[0;34m]\u001b[0m\u001b[0;34m)\u001b[0m\u001b[0;34m\u001b[0m\u001b[0m\n\u001b[0m\u001b[1;32m     11\u001b[0m             \u001b[0;32mif\u001b[0m \u001b[0mlen\u001b[0m\u001b[0;34m(\u001b[0m\u001b[0mr_em\u001b[0m\u001b[0;34m)\u001b[0m\u001b[0;34m!=\u001b[0m\u001b[0;36m0\u001b[0m \u001b[0;32mand\u001b[0m \u001b[0mlen\u001b[0m\u001b[0;34m(\u001b[0m\u001b[0mr_algo\u001b[0m\u001b[0;34m)\u001b[0m\u001b[0;34m!=\u001b[0m\u001b[0;36m0\u001b[0m\u001b[0;34m:\u001b[0m\u001b[0;34m\u001b[0m\u001b[0m\n\u001b[1;32m     12\u001b[0m                 \u001b[0mres\u001b[0m\u001b[0;34m[\u001b[0m\u001b[0;34m(\u001b[0m\u001b[0ms\u001b[0m\u001b[0;34m,\u001b[0m\u001b[0md\u001b[0m\u001b[0;34m)\u001b[0m\u001b[0;34m]\u001b[0m\u001b[0;34m[\u001b[0m\u001b[0;34m\"em\"\u001b[0m\u001b[0;34m]\u001b[0m\u001b[0;34m.\u001b[0m\u001b[0mappend\u001b[0m\u001b[0;34m(\u001b[0m\u001b[0;34m(\u001b[0m\u001b[0mk\u001b[0m\u001b[0;34m,\u001b[0m \u001b[0mnp\u001b[0m\u001b[0;34m.\u001b[0m\u001b[0mmedian\u001b[0m\u001b[0;34m(\u001b[0m\u001b[0mr_em\u001b[0m\u001b[0;34m)\u001b[0m\u001b[0;34m)\u001b[0m\u001b[0;34m)\u001b[0m\u001b[0;34m\u001b[0m\u001b[0m\n",
      "\u001b[0;32m/usr/local/Cellar/python/2.7.11/Frameworks/Python.framework/Versions/2.7/lib/python2.7/pickle.pyc\u001b[0m in \u001b[0;36mload\u001b[0;34m(file)\u001b[0m\n\u001b[1;32m   1382\u001b[0m \u001b[0;34m\u001b[0m\u001b[0m\n\u001b[1;32m   1383\u001b[0m \u001b[0;32mdef\u001b[0m \u001b[0mload\u001b[0m\u001b[0;34m(\u001b[0m\u001b[0mfile\u001b[0m\u001b[0;34m)\u001b[0m\u001b[0;34m:\u001b[0m\u001b[0;34m\u001b[0m\u001b[0m\n\u001b[0;32m-> 1384\u001b[0;31m     \u001b[0;32mreturn\u001b[0m \u001b[0mUnpickler\u001b[0m\u001b[0;34m(\u001b[0m\u001b[0mfile\u001b[0m\u001b[0;34m)\u001b[0m\u001b[0;34m.\u001b[0m\u001b[0mload\u001b[0m\u001b[0;34m(\u001b[0m\u001b[0;34m)\u001b[0m\u001b[0;34m\u001b[0m\u001b[0m\n\u001b[0m\u001b[1;32m   1385\u001b[0m \u001b[0;34m\u001b[0m\u001b[0m\n\u001b[1;32m   1386\u001b[0m \u001b[0;32mdef\u001b[0m \u001b[0mloads\u001b[0m\u001b[0;34m(\u001b[0m\u001b[0mstr\u001b[0m\u001b[0;34m)\u001b[0m\u001b[0;34m:\u001b[0m\u001b[0;34m\u001b[0m\u001b[0m\n",
      "\u001b[0;32m/usr/local/Cellar/python/2.7.11/Frameworks/Python.framework/Versions/2.7/lib/python2.7/pickle.pyc\u001b[0m in \u001b[0;36mload\u001b[0;34m(self)\u001b[0m\n\u001b[1;32m    862\u001b[0m             \u001b[0;32mwhile\u001b[0m \u001b[0;36m1\u001b[0m\u001b[0;34m:\u001b[0m\u001b[0;34m\u001b[0m\u001b[0m\n\u001b[1;32m    863\u001b[0m                 \u001b[0mkey\u001b[0m \u001b[0;34m=\u001b[0m \u001b[0mread\u001b[0m\u001b[0;34m(\u001b[0m\u001b[0;36m1\u001b[0m\u001b[0;34m)\u001b[0m\u001b[0;34m\u001b[0m\u001b[0m\n\u001b[0;32m--> 864\u001b[0;31m                 \u001b[0mdispatch\u001b[0m\u001b[0;34m[\u001b[0m\u001b[0mkey\u001b[0m\u001b[0;34m]\u001b[0m\u001b[0;34m(\u001b[0m\u001b[0mself\u001b[0m\u001b[0;34m)\u001b[0m\u001b[0;34m\u001b[0m\u001b[0m\n\u001b[0m\u001b[1;32m    865\u001b[0m         \u001b[0;32mexcept\u001b[0m \u001b[0m_Stop\u001b[0m\u001b[0;34m,\u001b[0m \u001b[0mstopinst\u001b[0m\u001b[0;34m:\u001b[0m\u001b[0;34m\u001b[0m\u001b[0m\n\u001b[1;32m    866\u001b[0m             \u001b[0;32mreturn\u001b[0m \u001b[0mstopinst\u001b[0m\u001b[0;34m.\u001b[0m\u001b[0mvalue\u001b[0m\u001b[0;34m\u001b[0m\u001b[0m\n",
      "\u001b[0;32m/usr/local/Cellar/python/2.7.11/Frameworks/Python.framework/Versions/2.7/lib/python2.7/pickle.pyc\u001b[0m in \u001b[0;36mload_string\u001b[0;34m(self)\u001b[0m\n\u001b[1;32m    969\u001b[0m         \u001b[0;32mfor\u001b[0m \u001b[0mq\u001b[0m \u001b[0;32min\u001b[0m \u001b[0;34m\"\\\"'\"\u001b[0m\u001b[0;34m:\u001b[0m \u001b[0;31m# double or single quote\u001b[0m\u001b[0;34m\u001b[0m\u001b[0m\n\u001b[1;32m    970\u001b[0m             \u001b[0;32mif\u001b[0m \u001b[0mrep\u001b[0m\u001b[0;34m.\u001b[0m\u001b[0mstartswith\u001b[0m\u001b[0;34m(\u001b[0m\u001b[0mq\u001b[0m\u001b[0;34m)\u001b[0m\u001b[0;34m:\u001b[0m\u001b[0;34m\u001b[0m\u001b[0m\n\u001b[0;32m--> 971\u001b[0;31m                 \u001b[0;32mif\u001b[0m \u001b[0mlen\u001b[0m\u001b[0;34m(\u001b[0m\u001b[0mrep\u001b[0m\u001b[0;34m)\u001b[0m \u001b[0;34m<\u001b[0m \u001b[0;36m2\u001b[0m \u001b[0;32mor\u001b[0m \u001b[0;32mnot\u001b[0m \u001b[0mrep\u001b[0m\u001b[0;34m.\u001b[0m\u001b[0mendswith\u001b[0m\u001b[0;34m(\u001b[0m\u001b[0mq\u001b[0m\u001b[0;34m)\u001b[0m\u001b[0;34m:\u001b[0m\u001b[0;34m\u001b[0m\u001b[0m\n\u001b[0m\u001b[1;32m    972\u001b[0m                     \u001b[0;32mraise\u001b[0m \u001b[0mValueError\u001b[0m\u001b[0;34m,\u001b[0m \u001b[0;34m\"insecure string pickle\"\u001b[0m\u001b[0;34m\u001b[0m\u001b[0m\n\u001b[1;32m    973\u001b[0m                 \u001b[0mrep\u001b[0m \u001b[0;34m=\u001b[0m \u001b[0mrep\u001b[0m\u001b[0;34m[\u001b[0m\u001b[0mlen\u001b[0m\u001b[0;34m(\u001b[0m\u001b[0mq\u001b[0m\u001b[0;34m)\u001b[0m\u001b[0;34m:\u001b[0m\u001b[0;34m-\u001b[0m\u001b[0mlen\u001b[0m\u001b[0;34m(\u001b[0m\u001b[0mq\u001b[0m\u001b[0;34m)\u001b[0m\u001b[0;34m]\u001b[0m\u001b[0;34m\u001b[0m\u001b[0m\n",
      "\u001b[0;31mKeyboardInterrupt\u001b[0m: "
     ]
    }
   ],
   "source": [
    "import numpy as np\n",
    "res = {}\n",
    "\n",
    "s = 1000\n",
    "for d in dims:\n",
    "        res[(s,d)]={\"em\":[],\"algo\":[]}\n",
    "        for k in real_clus:\n",
    "            files = [f for f in listdir(folder) if (isfile(join(folder, f)) and f.startswith(\"res_D\"+str(d)+\"K\"+str(k)+\"N\"+str(s)))]\n",
    "            r_em = np.array([pickle.load(open(folder+f))[\"gmm\"][\"score_weights\"] for f in files])\n",
    "            r_algo = np.array([pickle.load(open(folder+f))[\"sqrt\"][\"score_weights\"] for f in files])\n",
    "            if len(r_em)!=0 and len(r_algo)!=0:\n",
    "                res[(s,d)][\"em\"].append((k, np.median(r_em)))\n",
    "                res[(s,d)][\"algo\"].append((k, np.median(r_algo)))"
   ]
  },
  {
   "cell_type": "code",
   "execution_count": null,
   "metadata": {
    "collapsed": true
   },
   "outputs": [],
   "source": [
    "for s in [1000]:\n",
    "    for d in dims:\n",
    "        param = (s,d)\n",
    "        x,algo = zip(*(res[param][\"algo\"]))\n",
    "        _,em = zip(*(res[param][\"em\"]))\n",
    "        plt.plot(x, algo, 'g-', x, em, 'r--')\n",
    "        plt.yscale('log')\n",
    "        #plt.xscale('log')\n",
    "        plt.xlabel(\"real number of clusters\")\n",
    "        plt.grid()\n",
    "        plt.title('size:'+str(param[0])+\" dim:\"+str(param[1]))\n",
    "        if not os.path.exists(folder+\"results\"):\n",
    "            os.makedirs(folder+\"results\")\n",
    "        plt.savefig(folder+\"results/\"+\"N\"+str(param[0])+\"D\"+str(param[1]))\n",
    "        plt.close()"
   ]
  },
  {
   "cell_type": "markdown",
   "metadata": {},
   "source": [
    "# regions quartiles"
   ]
  },
  {
   "cell_type": "code",
   "execution_count": 1,
   "metadata": {
    "collapsed": true
   },
   "outputs": [],
   "source": [
    "folder=\"/Users/mehdi/Downloads/2016-07-16_19.05.54/\"\n",
    "import pickle\n",
    "import matplotlib.pyplot as plt\n",
    "from tools.math import bic_scorer\n",
    "import os\n",
    "from tools.matrix_tools import weights_compare\n",
    "from os import listdir\n",
    "from os.path import isfile, join\n",
    "onlyfiles = [f for f in listdir(folder) if (isfile(join(folder, f)) and f.startswith(\"res_D\"))]\n",
    "uniq_simus = set([f.split(\".\")[0] for f in onlyfiles])\n",
    "dims = list(set([int(a.split(\"D\")[1].split(\"K\")[0]) for a in uniq_simus]))\n",
    "dims.sort()\n",
    "size = list(set([int(a.split(\"N\")[1]) for a in uniq_simus]))\n",
    "size.sort()\n",
    "real_clus = list(set([int(a.split(\"K\")[1].split(\"N\")[0]) for a in uniq_simus]))\n",
    "real_clus.sort()"
   ]
  },
  {
   "cell_type": "code",
   "execution_count": 2,
   "metadata": {
    "collapsed": false
   },
   "outputs": [],
   "source": [
    "import numpy as np\n",
    "res = {}\n",
    "\n",
    "s = 1000\n",
    "for d in dims:\n",
    "        res[(s,d)]={\"em\":[],\"algo\":[]}\n",
    "        for k in real_clus:\n",
    "            files = [f for f in listdir(folder) if (isfile(join(folder, f)) and f.startswith(\"res_D\"+str(d)+\"K\"+str(k)+\"N\"+str(s)))]\n",
    "            r_em = np.array([pickle.load(open(folder+f))[\"gmm\"][\"score_weights\"] for f in files])\n",
    "            r_algo = np.array([pickle.load(open(folder+f))[\"sqrt\"][\"score_weights\"] for f in files])\n",
    "            if len(r_em)!=0 and len(r_algo)!=0:\n",
    "                res[(s,d)][\"em\"].append((k, np.percentile(r_em,25),np.percentile(r_em,50),np.percentile(r_em,75) ))\n",
    "                res[(s,d)][\"algo\"].append((k, np.percentile(r_algo,25),np.percentile(r_algo,50),np.percentile(r_algo,75)))"
   ]
  },
  {
   "cell_type": "code",
   "execution_count": 3,
   "metadata": {
    "collapsed": false
   },
   "outputs": [],
   "source": [
    "for s in [1000]:\n",
    "    for d in dims:\n",
    "        param = (s,d)\n",
    "        x, algo_1q, algo_med, algo_3q = zip(*(res[param][\"algo\"]))\n",
    "        _, em_1q, em_med, em_3q = zip(*(res[param][\"em\"]))\n",
    "        plt.plot(x, algo_1q, 'g--', \n",
    "                 x, algo_med, 'g--', \n",
    "                 x, algo_3q, 'g--',\n",
    "                 x, em_1q, 'r--', \n",
    "                 x, em_med, 'r--', \n",
    "                 x, em_3q, 'r--'\n",
    "                )\n",
    "        plt.fill_between(x, algo_3q, algo_1q, color=\"green\", alpha=\"0.2\")\n",
    "        plt.fill_between(x, em_3q, em_1q, color=\"red\", alpha=\"0.2\")\n",
    "        plt.yscale('log')\n",
    "        #plt.xscale('log')\n",
    "        plt.xlabel(\"real number of clusters\")\n",
    "        plt.grid()\n",
    "        plt.title('size:'+str(param[0])+\" dim:\"+str(param[1]))\n",
    "        if not os.path.exists(folder+\"results\"):\n",
    "            os.makedirs(folder+\"results\")\n",
    "        plt.savefig(folder+\"results/\"+\"N\"+str(param[0])+\"D\"+str(param[1]))\n",
    "        plt.close()"
   ]
  },
  {
   "cell_type": "code",
   "execution_count": 4,
   "metadata": {
    "collapsed": false
   },
   "outputs": [
    {
     "data": {
      "text/plain": [
       "((0.35391798774968514, 0.21064731577652246),\n",
       " (0.00015599998101432743, 0.00041910241271324165))"
      ]
     },
     "execution_count": 4,
     "metadata": {},
     "output_type": "execute_result"
    }
   ],
   "source": [
    "algo_med, em_med\n"
   ]
  },
  {
   "cell_type": "markdown",
   "metadata": {},
   "source": [
    "# other"
   ]
  },
  {
   "cell_type": "code",
   "execution_count": 50,
   "metadata": {
    "collapsed": true
   },
   "outputs": [],
   "source": [
    "a=pickle.load(open(\"cluster/2016-06-21_23.37.28/res_D5K20N5000.0_367dc1cf-c460-44b8-b972-6d6c0b8dfbfd\"))"
   ]
  },
  {
   "cell_type": "code",
   "execution_count": 51,
   "metadata": {
    "collapsed": false
   },
   "outputs": [],
   "source": [
    "X = a[\"real\"]['X']\n",
    "real_weights = a[\"real\"][\"weights\"]\n",
    "real_means = a[\"real\"][\"means\"]"
   ]
  },
  {
   "cell_type": "code",
   "execution_count": 56,
   "metadata": {
    "collapsed": false
   },
   "outputs": [],
   "source": [
    "b = a[\"sqrt\"][\"clf\"]"
   ]
  },
  {
   "cell_type": "code",
   "execution_count": 58,
   "metadata": {
    "collapsed": false
   },
   "outputs": [
    {
     "data": {
      "text/plain": [
       "[mean: -614087.52715, std: 217.09299, params: {'lipz_c': 0.1, 'lambd': 0.0042946940834673762},\n",
       " mean: 21038.50066, std: 75.77431, params: {'lipz_c': 1, 'lambd': 0.0042946940834673762},\n",
       " mean: 21049.85995, std: 73.20450, params: {'lipz_c': 10, 'lambd': 0.0042946940834673762},\n",
       " mean: -66675000000000204800.00000, std: 47140452079102877696.00000, params: {'lipz_c': 50, 'lambd': 0.0042946940834673762},\n",
       " mean: -614087.52715, std: 217.09299, params: {'lipz_c': 0.1, 'lambd': 0.021473470417336882},\n",
       " mean: 16423.99111, std: 484.28815, params: {'lipz_c': 1, 'lambd': 0.021473470417336882},\n",
       " mean: 17142.79443, std: 404.67185, params: {'lipz_c': 10, 'lambd': 0.021473470417336882},\n",
       " mean: -66675000000000204800.00000, std: 47140452079102877696.00000, params: {'lipz_c': 50, 'lambd': 0.021473470417336882},\n",
       " mean: -614087.52715, std: 217.09299, params: {'lipz_c': 0.1, 'lambd': 0.042946940834673757},\n",
       " mean: 1724.22222, std: 4490.78909, params: {'lipz_c': 1, 'lambd': 0.042946940834673757},\n",
       " mean: 5376.14537, std: 2737.83013, params: {'lipz_c': 10, 'lambd': 0.042946940834673757},\n",
       " mean: -528045.59378, std: 121403.76569, params: {'lipz_c': 50, 'lambd': 0.042946940834673757},\n",
       " mean: -66675000000000204800.00000, std: 47140452079102877696.00000, params: {'lipz_c': 0.1, 'lambd': 0.21473470417336879},\n",
       " mean: -33325000000000409600.00000, std: 47140452079102877696.00000, params: {'lipz_c': 1, 'lambd': 0.21473470417336879},\n",
       " mean: -33325000000000409600.00000, std: 47140452079102877696.00000, params: {'lipz_c': 10, 'lambd': 0.21473470417336879},\n",
       " mean: -614047.82039, std: 163.74892, params: {'lipz_c': 50, 'lambd': 0.21473470417336879},\n",
       " mean: -33350000000000409600.00000, std: 47140452079102877696.00000, params: {'lipz_c': 0.1, 'lambd': 0.42946940834673758},\n",
       " mean: -614087.52715, std: 217.09299, params: {'lipz_c': 1, 'lambd': 0.42946940834673758},\n",
       " mean: -33325000000000409600.00000, std: 47140452079102885888.00000, params: {'lipz_c': 10, 'lambd': 0.42946940834673758},\n",
       " mean: -606383.38454, std: 5325.78705, params: {'lipz_c': 50, 'lambd': 0.42946940834673758}]"
      ]
     },
     "execution_count": 58,
     "metadata": {},
     "output_type": "execute_result"
    }
   ],
   "source": [
    "b."
   ]
  },
  {
   "cell_type": "code",
   "execution_count": 73,
   "metadata": {
    "collapsed": false
   },
   "outputs": [
    {
     "name": "stdout",
     "output_type": "stream",
     "text": [
      "The autoreload extension is already loaded. To reload it, use:\n",
      "  %reload_ext autoreload\n"
     ]
    }
   ],
   "source": [
    "from cluster.sq_root_lasso import sqrt_lasso_gmm\n",
    "%load_ext autoreload\n",
    "%autoreload 2"
   ]
  },
  {
   "cell_type": "code",
   "execution_count": 74,
   "metadata": {
    "collapsed": false
   },
   "outputs": [
    {
     "name": "stdout",
     "output_type": "stream",
     "text": [
      "Fitting 2 folds for each of 27 candidates, totalling 54 fits\n",
      "[CV] lipz_c=1, lambd=0.00774045512041 ................................\n",
      "[CV] ....................... lipz_c=1, lambd=0.00774045512041 -   1.2s\n",
      "[CV] lipz_c=1, lambd=0.00774045512041 ................................\n",
      "[CV] ....................... lipz_c=1, lambd=0.00774045512041 - 1.0min\n",
      "[CV] lipz_c=5, lambd=0.00774045512041 ................................\n",
      "[CV] ....................... lipz_c=5, lambd=0.00774045512041 - 3.9min\n",
      "[CV] lipz_c=5, lambd=0.00774045512041 ................................\n",
      "[CV] ....................... lipz_c=5, lambd=0.00774045512041 - 2.9min\n",
      "[CV] lipz_c=0.5, lambd=0.00774045512041 ..............................\n",
      "[CV] ..................... lipz_c=0.5, lambd=0.00774045512041 -   0.1s\n",
      "[CV] lipz_c=0.5, lambd=0.00774045512041 ..............................\n",
      "[CV] ..................... lipz_c=0.5, lambd=0.00774045512041 -   2.9s\n",
      "[CV] lipz_c=1, lambd=0.0154809102408 .................................\n",
      "[CV] ........................ lipz_c=1, lambd=0.0154809102408 -  33.0s\n",
      "[CV] lipz_c=1, lambd=0.0154809102408 .................................\n",
      "[CV] ........................ lipz_c=1, lambd=0.0154809102408 -  24.1s\n",
      "[CV] lipz_c=5, lambd=0.0154809102408 .................................\n",
      "[CV] ........................ lipz_c=5, lambd=0.0154809102408 - 2.1min\n",
      "[CV] lipz_c=5, lambd=0.0154809102408 .................................\n",
      "[CV] ........................ lipz_c=5, lambd=0.0154809102408 - 2.8min\n",
      "[CV] lipz_c=0.5, lambd=0.0154809102408 ...............................\n",
      "[CV] ...................... lipz_c=0.5, lambd=0.0154809102408 -   2.5s\n",
      "[CV] lipz_c=0.5, lambd=0.0154809102408 ...............................\n",
      "[CV] ...................... lipz_c=0.5, lambd=0.0154809102408 -   2.9s\n",
      "[CV] lipz_c=1, lambd=0.0232213653612 .................................\n",
      "[CV] ........................ lipz_c=1, lambd=0.0232213653612 -   7.2s\n",
      "[CV] lipz_c=1, lambd=0.0232213653612 .................................\n",
      "[CV] ........................ lipz_c=1, lambd=0.0232213653612 -   4.6s\n",
      "[CV] lipz_c=5, lambd=0.0232213653612 .................................\n",
      "[CV] ........................ lipz_c=5, lambd=0.0232213653612 -   1.6s\n",
      "[CV] lipz_c=5, lambd=0.0232213653612 .................................\n",
      "[CV] ........................ lipz_c=5, lambd=0.0232213653612 - 1.5min\n",
      "[CV] lipz_c=0.5, lambd=0.0232213653612 ...............................\n",
      "[CV] ...................... lipz_c=0.5, lambd=0.0232213653612 -   0.1s\n",
      "[CV] lipz_c=0.5, lambd=0.0232213653612 ...............................\n",
      "[CV] ...................... lipz_c=0.5, lambd=0.0232213653612 -   0.1s\n",
      "[CV] lipz_c=1, lambd=0.0309618204816 .................................\n",
      "[CV] ........................ lipz_c=1, lambd=0.0309618204816 -   4.7s\n",
      "[CV] lipz_c=1, lambd=0.0309618204816 .................................\n",
      "[CV] ........................ lipz_c=1, lambd=0.0309618204816 -   4.5s\n",
      "[CV] lipz_c=5, lambd=0.0309618204816 .................................\n",
      "[CV] ........................ lipz_c=5, lambd=0.0309618204816 -  22.6s\n",
      "[CV] lipz_c=5, lambd=0.0309618204816 .................................\n",
      "[CV] ........................ lipz_c=5, lambd=0.0309618204816 - 1.2min\n",
      "[CV] lipz_c=0.5, lambd=0.0309618204816 ...............................\n",
      "[CV] ...................... lipz_c=0.5, lambd=0.0309618204816 -   0.1s\n",
      "[CV] lipz_c=0.5, lambd=0.0309618204816 ...............................\n",
      "[CV] ...................... lipz_c=0.5, lambd=0.0309618204816 -   0.1s\n",
      "[CV] lipz_c=1, lambd=0.038702275602 ..................................\n",
      "[CV] ......................... lipz_c=1, lambd=0.038702275602 -   8.8s\n",
      "[CV] lipz_c=1, lambd=0.038702275602 ..................................\n",
      "[CV] ......................... lipz_c=1, lambd=0.038702275602 -   7.1s\n",
      "[CV] lipz_c=5, lambd=0.038702275602 ..................................\n",
      "[CV] ......................... lipz_c=5, lambd=0.038702275602 -  39.6s\n",
      "[CV] lipz_c=5, lambd=0.038702275602 ..................................\n",
      "[CV] ......................... lipz_c=5, lambd=0.038702275602 -   8.1s\n",
      "[CV] lipz_c=0.5, lambd=0.038702275602 ................................\n",
      "[CV] ....................... lipz_c=0.5, lambd=0.038702275602 -   5.0s\n",
      "[CV] lipz_c=0.5, lambd=0.038702275602 ................................\n",
      "[CV] ....................... lipz_c=0.5, lambd=0.038702275602 -   6.1s\n",
      "[CV] lipz_c=1, lambd=0.0464427307225 .................................\n",
      "[CV] ........................ lipz_c=1, lambd=0.0464427307225 -   4.5s\n",
      "[CV] lipz_c=1, lambd=0.0464427307225 .................................\n",
      "[CV] ........................ lipz_c=1, lambd=0.0464427307225 -   8.5s\n",
      "[CV] lipz_c=5, lambd=0.0464427307225 .................................\n",
      "[CV] ........................ lipz_c=5, lambd=0.0464427307225 -  11.7s\n",
      "[CV] lipz_c=5, lambd=0.0464427307225 .................................\n",
      "[CV] ........................ lipz_c=5, lambd=0.0464427307225 -  11.4s\n",
      "[CV] lipz_c=0.5, lambd=0.0464427307225 ...............................\n",
      "[CV] ...................... lipz_c=0.5, lambd=0.0464427307225 -   0.1s\n",
      "[CV] lipz_c=0.5, lambd=0.0464427307225 ...............................\n",
      "[CV] ...................... lipz_c=0.5, lambd=0.0464427307225 -   1.6s\n",
      "[CV] lipz_c=1, lambd=0.0541831858429 .................................\n",
      "[CV] ........................ lipz_c=1, lambd=0.0541831858429 -   4.7s\n",
      "[CV] lipz_c=1, lambd=0.0541831858429 .................................\n",
      "[CV] ........................ lipz_c=1, lambd=0.0541831858429 -   1.6s\n",
      "[CV] lipz_c=5, lambd=0.0541831858429 .................................\n",
      "[CV] ........................ lipz_c=5, lambd=0.0541831858429 -   5.6s\n",
      "[CV] lipz_c=5, lambd=0.0541831858429 .................................\n",
      "[CV] ........................ lipz_c=5, lambd=0.0541831858429 -  10.4s\n",
      "[CV] lipz_c=0.5, lambd=0.0541831858429 ...............................\n",
      "[CV] ...................... lipz_c=0.5, lambd=0.0541831858429 -   0.1s\n",
      "[CV] lipz_c=0.5, lambd=0.0541831858429 ...............................\n",
      "[CV] ...................... lipz_c=0.5, lambd=0.0541831858429 -   0.1s\n",
      "[CV] lipz_c=1, lambd=0.0619236409633 .................................\n"
     ]
    },
    {
     "name": "stderr",
     "output_type": "stream",
     "text": [
      "[Parallel(n_jobs=1)]: Done  40 tasks       | elapsed: 19.4min\n"
     ]
    },
    {
     "name": "stdout",
     "output_type": "stream",
     "text": [
      "[CV] ........................ lipz_c=1, lambd=0.0619236409633 -   0.1s\n",
      "[CV] lipz_c=1, lambd=0.0619236409633 .................................\n",
      "[CV] ........................ lipz_c=1, lambd=0.0619236409633 -   4.4s\n",
      "[CV] lipz_c=5, lambd=0.0619236409633 .................................\n",
      "[CV] ........................ lipz_c=5, lambd=0.0619236409633 -   7.1s\n",
      "[CV] lipz_c=5, lambd=0.0619236409633 .................................\n",
      "[CV] ........................ lipz_c=5, lambd=0.0619236409633 -   8.0s\n",
      "[CV] lipz_c=0.5, lambd=0.0619236409633 ...............................\n",
      "[CV] ...................... lipz_c=0.5, lambd=0.0619236409633 -   4.3s\n",
      "[CV] lipz_c=0.5, lambd=0.0619236409633 ...............................\n",
      "[CV] ...................... lipz_c=0.5, lambd=0.0619236409633 -   3.5s\n",
      "[CV] lipz_c=1, lambd=0.0696640960837 .................................\n",
      "[CV] ........................ lipz_c=1, lambd=0.0696640960837 -   4.6s\n",
      "[CV] lipz_c=1, lambd=0.0696640960837 .................................\n",
      "[CV] ........................ lipz_c=1, lambd=0.0696640960837 -   5.9s\n",
      "[CV] lipz_c=5, lambd=0.0696640960837 .................................\n",
      "[CV] ........................ lipz_c=5, lambd=0.0696640960837 -   8.0s\n",
      "[CV] lipz_c=5, lambd=0.0696640960837 .................................\n",
      "[CV] ........................ lipz_c=5, lambd=0.0696640960837 -   7.8s\n",
      "[CV] lipz_c=0.5, lambd=0.0696640960837 ...............................\n",
      "[CV] ...................... lipz_c=0.5, lambd=0.0696640960837 -   0.1s\n",
      "[CV] lipz_c=0.5, lambd=0.0696640960837 ...............................\n",
      "[CV] ...................... lipz_c=0.5, lambd=0.0696640960837 - 1.5min\n"
     ]
    },
    {
     "name": "stderr",
     "output_type": "stream",
     "text": [
      "[Parallel(n_jobs=1)]: Done  54 out of  54 | elapsed: 21.8min finished\n"
     ]
    },
    {
     "data": {
      "text/plain": [
       "GridSearchCV(cv=2, error_score=-10000.0,\n",
       "       estimator=sqrt_lasso_gmm(lambd=1, lipz_c=1, max_clusters=20, n_iter=200, verbose=False),\n",
       "       fit_params={}, iid=True, n_jobs=1,\n",
       "       param_grid={'lipz_c': [1, 5, 0.5], 'lambd': array([ 0.00774,  0.01548,  0.02322,  0.03096,  0.0387 ,  0.04644,\n",
       "        0.05418,  0.06192,  0.06966])},\n",
       "       pre_dispatch='2*n_jobs', refit=True,\n",
       "       scoring=<function bic_scorer at 0x1122205f0>, verbose=2)"
      ]
     },
     "execution_count": 74,
     "metadata": {},
     "output_type": "execute_result"
    }
   ],
   "source": [
    "from sklearn.grid_search import GridSearchCV\n",
    "\n",
    "max_clusters = 20\n",
    "lambd = np.sqrt(2 * np.log(max_clusters) / X.shape[0])\n",
    "params = {\"lambd\": 1e-1 * lambd * np.array(range(1, 10)), \"lipz_c\":[1, 5, 0.5]}\n",
    "estimator= GridSearchCV(sqrt_lasso_gmm(n_iter=200, max_clusters=max_clusters), \n",
    "                        param_grid=params, cv=2, n_jobs=1,scoring=bic_scorer, error_score=-1e4, verbose=2)\n",
    "estimator.fit(X)\n"
   ]
  },
  {
   "cell_type": "code",
   "execution_count": 75,
   "metadata": {
    "collapsed": false
   },
   "outputs": [
    {
     "data": {
      "text/plain": [
       "1.7944961846286374"
      ]
     },
     "execution_count": 75,
     "metadata": {},
     "output_type": "execute_result"
    }
   ],
   "source": [
    "np.linalg.norm(np.array(sorted(estimator.best_estimator_.weights_)) - np.array(sorted(real_weights)))"
   ]
  },
  {
   "cell_type": "code",
   "execution_count": 76,
   "metadata": {
    "collapsed": false
   },
   "outputs": [
    {
     "data": {
      "text/plain": [
       "GridSearchCV(cv=2, error_score=-10000.0,\n",
       "       estimator=GMM(covariance_type='full', init_params='wmc', min_covar=0.001,\n",
       "  n_components=1, n_init=1, n_iter=100, params='wmc', random_state=None,\n",
       "  thresh=None, tol=0.001, verbose=0),\n",
       "       fit_params={}, iid=True, n_jobs=1,\n",
       "       param_grid={'n_components': [2, 3, 4, 5, 6, 7, 8, 9, 10, 11, 12, 13, 14, 15, 16, 17, 18, 19, 20]},\n",
       "       pre_dispatch='2*n_jobs', refit=True,\n",
       "       scoring=<function bic_scorer at 0x1122205f0>, verbose=0)"
      ]
     },
     "execution_count": 76,
     "metadata": {},
     "output_type": "execute_result"
    }
   ],
   "source": [
    "from sklearn.grid_search import GridSearchCV\n",
    "from sklearn.mixture import GMM\n",
    "\n",
    "params_GMM = {\"n_components\": range(2, max_clusters + 1)}\n",
    "clf_gmm = GridSearchCV(GMM(covariance_type='full'), \n",
    "                       param_grid=params_GMM, cv=2, n_jobs=1,scoring=bic_scorer, error_score=-1e4)\n",
    "clf_gmm.fit(X)\n"
   ]
  },
  {
   "cell_type": "code",
   "execution_count": 77,
   "metadata": {
    "collapsed": false
   },
   "outputs": [
    {
     "data": {
      "text/plain": [
       "0.035425485954962366"
      ]
     },
     "execution_count": 77,
     "metadata": {},
     "output_type": "execute_result"
    }
   ],
   "source": [
    "np.linalg.norm(np.array(sorted(clf_gmm.best_estimator_.weights_)) - np.array(sorted(real_weights)))"
   ]
  },
  {
   "cell_type": "code",
   "execution_count": 78,
   "metadata": {
    "collapsed": false
   },
   "outputs": [
    {
     "data": {
      "text/plain": [
       "[mean: nan, std: nan, params: {'lipz_c': 1, 'lambd': 0.0077404551204098993},\n",
       " mean: 4102.08771, std: 20.24231, params: {'lipz_c': 5, 'lambd': 0.0077404551204098993},\n",
       " mean: nan, std: nan, params: {'lipz_c': 0.5, 'lambd': 0.0077404551204098993},\n",
       " mean: 3855.44659, std: 132.22520, params: {'lipz_c': 1, 'lambd': 0.015480910240819799},\n",
       " mean: 4121.16407, std: 36.22356, params: {'lipz_c': 5, 'lambd': 0.015480910240819799},\n",
       " mean: nan, std: nan, params: {'lipz_c': 0.5, 'lambd': 0.015480910240819799},\n",
       " mean: nan, std: nan, params: {'lipz_c': 1, 'lambd': 0.0232213653612297},\n",
       " mean: nan, std: nan, params: {'lipz_c': 5, 'lambd': 0.0232213653612297},\n",
       " mean: nan, std: nan, params: {'lipz_c': 0.5, 'lambd': 0.0232213653612297},\n",
       " mean: nan, std: nan, params: {'lipz_c': 1, 'lambd': 0.030961820481639597},\n",
       " mean: 3561.67884, std: 140.75773, params: {'lipz_c': 5, 'lambd': 0.030961820481639597},\n",
       " mean: nan, std: nan, params: {'lipz_c': 0.5, 'lambd': 0.030961820481639597},\n",
       " mean: 3006.69911, std: 42.24949, params: {'lipz_c': 1, 'lambd': 0.038702275602049495},\n",
       " mean: nan, std: nan, params: {'lipz_c': 5, 'lambd': 0.038702275602049495},\n",
       " mean: nan, std: nan, params: {'lipz_c': 0.5, 'lambd': 0.038702275602049495},\n",
       " mean: nan, std: nan, params: {'lipz_c': 1, 'lambd': 0.046442730722459399},\n",
       " mean: 3131.43999, std: 226.67491, params: {'lipz_c': 5, 'lambd': 0.046442730722459399},\n",
       " mean: nan, std: nan, params: {'lipz_c': 0.5, 'lambd': 0.046442730722459399},\n",
       " mean: nan, std: nan, params: {'lipz_c': 1, 'lambd': 0.054183185842869297},\n",
       " mean: nan, std: nan, params: {'lipz_c': 5, 'lambd': 0.054183185842869297},\n",
       " mean: nan, std: nan, params: {'lipz_c': 0.5, 'lambd': 0.054183185842869297},\n",
       " mean: nan, std: nan, params: {'lipz_c': 1, 'lambd': 0.061923640963279195},\n",
       " mean: 2311.55785, std: 355.39971, params: {'lipz_c': 5, 'lambd': 0.061923640963279195},\n",
       " mean: nan, std: nan, params: {'lipz_c': 0.5, 'lambd': 0.061923640963279195},\n",
       " mean: 2641.27680, std: 65.40648, params: {'lipz_c': 1, 'lambd': 0.069664096083689092},\n",
       " mean: nan, std: nan, params: {'lipz_c': 5, 'lambd': 0.069664096083689092},\n",
       " mean: nan, std: nan, params: {'lipz_c': 0.5, 'lambd': 0.069664096083689092}]"
      ]
     },
     "execution_count": 78,
     "metadata": {},
     "output_type": "execute_result"
    }
   ],
   "source": [
    "estimator.grid_scores_"
   ]
  },
  {
   "cell_type": "code",
   "execution_count": 79,
   "metadata": {
    "collapsed": false
   },
   "outputs": [
    {
     "data": {
      "text/plain": [
       "{'lambd': 0.0077404551204098993, 'lipz_c': 1}"
      ]
     },
     "execution_count": 79,
     "metadata": {},
     "output_type": "execute_result"
    }
   ],
   "source": [
    "estimator.best_params_"
   ]
  },
  {
   "cell_type": "code",
   "execution_count": 80,
   "metadata": {
    "collapsed": false
   },
   "outputs": [
    {
     "data": {
      "text/plain": [
       "[1.0]"
      ]
     },
     "execution_count": 80,
     "metadata": {},
     "output_type": "execute_result"
    }
   ],
   "source": [
    "estimator.best_estimator_.weights_"
   ]
  },
  {
   "cell_type": "code",
   "execution_count": 81,
   "metadata": {
    "collapsed": false
   },
   "outputs": [
    {
     "data": {
      "text/plain": [
       "array([[ 2.43456635, -2.2760731 ,  0.01279913,  0.25140727,  0.62701118],\n",
       "       [ 1.18558731,  1.87056143, -1.34267514, -0.431886  ,  2.21390635],\n",
       "       [ 2.35418967, -2.30763938, -0.0600869 ,  0.23791944,  0.55498362],\n",
       "       ..., \n",
       "       [ 1.13776036,  1.79686554, -1.33094672, -0.52331088,  2.1957603 ],\n",
       "       [-0.49085826, -0.03784286, -1.79293345, -2.49970595,  1.61619523],\n",
       "       [ 0.89295751, -1.47117666,  1.00203003, -2.1295413 ,  1.40111363]])"
      ]
     },
     "execution_count": 81,
     "metadata": {},
     "output_type": "execute_result"
    }
   ],
   "source": [
    "X"
   ]
  },
  {
   "cell_type": "code",
   "execution_count": 65,
   "metadata": {
    "collapsed": false
   },
   "outputs": [
    {
     "name": "stdout",
     "output_type": "stream",
     "text": [
      "The autoreload extension is already loaded. To reload it, use:\n",
      "  %reload_ext autoreload\n"
     ]
    }
   ],
   "source": [
    "from cluster.sq_root_lasso import sqrt_lasso_gmm\n",
    "%load_ext autoreload\n",
    "%autoreload 2"
   ]
  },
  {
   "cell_type": "code",
   "execution_count": 89,
   "metadata": {
    "collapsed": true
   },
   "outputs": [],
   "source": [
    "from tools.gm_tools import gm_params_generator, gaussian_mixture_sample\n",
    "pi, means, covars = gm_params_generator(2, 3, min_center_dist=0)\n",
    "X, _ = gaussian_mixture_sample(pi, means, covars, 1e3)\n",
    "max_clusters = 5\n",
    "lambd = np.sqrt(2 * np.log(max_clusters) / X.shape[0])\n",
    "clf = sqrt_lasso_gmm(n_iter=200, max_clusters=max_clusters, lambd=lambd)"
   ]
  },
  {
   "cell_type": "code",
   "execution_count": 91,
   "metadata": {
    "collapsed": false
   },
   "outputs": [
    {
     "name": "stdout",
     "output_type": "stream",
     "text": [
      "1 loop, best of 3: 3.17 s per loop\n"
     ]
    }
   ],
   "source": [
    "%timeit clf.fit(X)"
   ]
  },
  {
   "cell_type": "code",
   "execution_count": 63,
   "metadata": {
    "collapsed": false
   },
   "outputs": [
    {
     "name": "stdout",
     "output_type": "stream",
     "text": [
      "The line_profiler extension is already loaded. To reload it, use:\n",
      "  %reload_ext line_profiler\n"
     ]
    }
   ],
   "source": [
    "%load_ext line_profiler"
   ]
  },
  {
   "cell_type": "code",
   "execution_count": 64,
   "metadata": {
    "collapsed": false
   },
   "outputs": [
    {
     "name": "stdout",
     "output_type": "stream",
     "text": [
      "\n",
      "*** Profile printout saved to text file u'lp_results.txt'. \n"
     ]
    }
   ],
   "source": [
    "%lprun -s -f clf.fit -T lp_results.txt clf.fit(X)"
   ]
  },
  {
   "cell_type": "code",
   "execution_count": null,
   "metadata": {
    "collapsed": true
   },
   "outputs": [],
   "source": []
  },
  {
   "cell_type": "code",
   "execution_count": null,
   "metadata": {
    "collapsed": true
   },
   "outputs": [],
   "source": []
  },
  {
   "cell_type": "code",
   "execution_count": null,
   "metadata": {
    "collapsed": true
   },
   "outputs": [],
   "source": []
  },
  {
   "cell_type": "code",
   "execution_count": null,
   "metadata": {
    "collapsed": true
   },
   "outputs": [],
   "source": []
  },
  {
   "cell_type": "code",
   "execution_count": 6,
   "metadata": {
    "collapsed": false
   },
   "outputs": [
    {
     "name": "stdout",
     "output_type": "stream",
     "text": [
      "K_estim_pi_pen_EM.pyc                \u001b[31mgraph_lassov2.pyc\u001b[m\u001b[m*\r\n",
      "Makefile                             \u001b[31mgraph_lassov3.py\u001b[m\u001b[m*\r\n",
      "\u001b[31mNumpy perf.ipynb\u001b[m\u001b[m*                    \u001b[31mgraph_lassov3.pyc\u001b[m\u001b[m*\r\n",
      "Plot.html                            \u001b[31mgraph_lassov4.py\u001b[m\u001b[m*\r\n",
      "\u001b[31mREADME.md\u001b[m\u001b[m*                           \u001b[31mgraph_lassov5.py\u001b[m\u001b[m*\r\n",
      "\u001b[31mRpy.ipynb\u001b[m\u001b[m*                           \u001b[31mgraph_lassov5.pyc\u001b[m\u001b[m*\r\n",
      "\u001b[1m\u001b[36m_build\u001b[m\u001b[m/                              \u001b[31mgraphlassoMain.py\u001b[m\u001b[m*\r\n",
      "\u001b[1m\u001b[36m_static\u001b[m\u001b[m/                             \u001b[31mgraphlassoMain2.py\u001b[m\u001b[m*\r\n",
      "\u001b[1m\u001b[36m_templates\u001b[m\u001b[m/                          \u001b[31mhw.so\u001b[m\u001b[m*\r\n",
      "bar.html                             index.rst\r\n",
      "\u001b[31mbox_qp_f.f90\u001b[m\u001b[m*                        lines.html\r\n",
      "\u001b[1m\u001b[36mcluster\u001b[m\u001b[m/                             lp_results.txt\r\n",
      "\u001b[31mclustering.py\u001b[m\u001b[m*                       make.bat\r\n",
      "conf.py                              results\r\n",
      "\u001b[31mcovsel.py\u001b[m\u001b[m*                           results.aux\r\n",
      "\u001b[31mcovsel.pyc\u001b[m\u001b[m*                          results.fdb_latexmk\r\n",
      "\u001b[31mdpglassomodule.c\u001b[m\u001b[m*                    results.fls\r\n",
      "\u001b[1m\u001b[36mexamples\u001b[m\u001b[m/                            results.html\r\n",
      "\u001b[30m\u001b[43mfista\u001b[m\u001b[m/                               results.log\r\n",
      "\u001b[31mgraph_lasso.py\u001b[m\u001b[m*                      results.pdf\r\n",
      "\u001b[31mgraph_lasso.pyc\u001b[m\u001b[m*                     results.tex\r\n",
      "\u001b[31mgraph_lasso_K_estim_tau_pen.py\u001b[m\u001b[m*      temp-plot.html\r\n",
      "\u001b[31mgraph_lasso_K_estim_tau_pen.pyc\u001b[m\u001b[m*     test tools.ipynb\r\n",
      "\u001b[31mgraph_lasso_K_estim_tau_pen_main.py\u001b[m\u001b[m* \u001b[30m\u001b[43mtools\u001b[m\u001b[m/\r\n",
      "\u001b[31mgraph_lasso_main_v5.py\u001b[m\u001b[m*              visu_simu.ipynb\r\n",
      "\u001b[31mgraph_lassov2.py\u001b[m\u001b[m*                    \u001b[31mviz-bench tools.ipynb\u001b[m\u001b[m*\r\n"
     ]
    }
   ],
   "source": []
  },
  {
   "cell_type": "code",
   "execution_count": 20,
   "metadata": {
    "collapsed": true
   },
   "outputs": [],
   "source": [
    "from tools.gm_tools import gm_params_generator, gaussian_mixture_sample\n",
    "\n",
    "pi, means, covars = gm_params_generator(10, 10, min_center_dist=0)\n",
    "\n",
    "X, _ = gaussian_mixture_sample(pi, means, covars, 1e3)"
   ]
  },
  {
   "cell_type": "code",
   "execution_count": 16,
   "metadata": {
    "collapsed": true
   },
   "outputs": [],
   "source": [
    "from tools.algorithms_benchmark import view2Ddata"
   ]
  },
  {
   "cell_type": "code",
   "execution_count": 29,
   "metadata": {
    "collapsed": false
   },
   "outputs": [],
   "source": [
    "view2Ddata(X[:,2:4])"
   ]
  },
  {
   "cell_type": "code",
   "execution_count": 23,
   "metadata": {
    "collapsed": false
   },
   "outputs": [
    {
     "data": {
      "text/plain": [
       "1.9406489105173983"
      ]
     },
     "execution_count": 23,
     "metadata": {},
     "output_type": "execute_result"
    }
   ],
   "source": []
  },
  {
   "cell_type": "code",
   "execution_count": null,
   "metadata": {
    "collapsed": true
   },
   "outputs": [],
   "source": []
  }
 ],
 "metadata": {
  "kernelspec": {
   "display_name": "Python 2",
   "language": "python",
   "name": "python2"
  },
  "language_info": {
   "codemirror_mode": {
    "name": "ipython",
    "version": 2
   },
   "file_extension": ".py",
   "mimetype": "text/x-python",
   "name": "python",
   "nbconvert_exporter": "python",
   "pygments_lexer": "ipython2",
   "version": "2.7.12"
  }
 },
 "nbformat": 4,
 "nbformat_minor": 0
}
