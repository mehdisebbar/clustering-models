{
 "cells": [
  {
   "cell_type": "code",
   "execution_count": 48,
   "metadata": {
    "collapsed": true
   },
   "outputs": [],
   "source": [
    "import pickle\n",
    "import matplotlib.pyplot as plt\n",
    "from tools.math import bic_scorer\n"
   ]
  },
  {
   "cell_type": "code",
   "execution_count": 49,
   "metadata": {
    "collapsed": true
   },
   "outputs": [],
   "source": [
    "from os import listdir\n",
    "from os.path import isfile, join\n",
    "onlyfiles = [f for f in listdir(\"./cluster\") if (isfile(join(\"./cluster\", f)) and f.startswith(\"res_D\"))]\n",
    "uniq_simus = set([f.split(\".\")[0] for f in onlyfiles])\n",
    "dims = list(set([int(a.split(\"D\")[1].split(\"K\")[0]) for a in uniq_simus]))\n",
    "dims.sort()\n",
    "size = list(set([int(a.split(\"N\")[1]) for a in uniq_simus]))\n",
    "size.sort()\n",
    "real_clus = list(set([int(a.split(\"K\")[1].split(\"N\")[0]) for a in uniq_simus]))\n",
    "real_clus.sort()"
   ]
  },
  {
   "cell_type": "code",
   "execution_count": 50,
   "metadata": {
    "collapsed": false
   },
   "outputs": [],
   "source": [
    "import numpy as np\n",
    "res = {}\n",
    "\n",
    "for d in dims:\n",
    "    for k in real_clus:\n",
    "        res[(d,k)]={\"em\":[],\"algo\":[]}\n",
    "        for s in size:\n",
    "            files = [f for f in listdir(\"./cluster\") if (isfile(join(\"./cluster\", f)) and f.startswith(\"res_D\"+str(d)+\"K\"+str(k)+\"N\"+str(s)))]\n",
    "            r_em = np.array([pickle.load(open(\"./cluster/\"+f))[\"gmm\"][\"score_weights\"] for f in files])\n",
    "            r_algo = np.array([pickle.load(open(\"./cluster/\"+f))[\"sqrt\"][\"score_weights\"] for f in files])\n",
    "            if len(r_em)!=0 and len(r_algo)!=0:\n",
    "                res[(d,k)][\"em\"].append((s, np.median(r_em)))\n",
    "                res[(d,k)][\"algo\"].append((s, np.median(r_algo)))"
   ]
  },
  {
   "cell_type": "code",
   "execution_count": 51,
   "metadata": {
    "collapsed": false
   },
   "outputs": [],
   "source": [
    "for i in dims:\n",
    "    for j in real_clus:\n",
    "        param = (i,j)\n",
    "        x,algo = zip(*(res[param][\"algo\"]))\n",
    "        _,em = zip(*(res[param][\"em\"]))\n",
    "        plt.plot(x, algo, 'g-', x, em, 'r--')\n",
    "        plt.yscale('log')\n",
    "        plt.xscale('log')\n",
    "        plt.xlabel(\"Sample size\")\n",
    "        plt.title('Dim:'+str(param[0])+\" K:\"+str(param[1]))\n",
    "        plt.savefig(\"results/\"+\"D\"+str(param[0])+\"K\"+str(param[1]))\n",
    "        plt.close()"
   ]
  },
  {
   "cell_type": "code",
   "execution_count": 52,
   "metadata": {
    "collapsed": false
   },
   "outputs": [
    {
     "data": {
      "text/plain": [
       "{(2,\n",
       "  5): {'algo': [(10000, 9.150422661981674e-05),\n",
       "   (20000, 1.0367324415978193e-05)], 'em': [(10000, 4.3503524894543649e-05),\n",
       "   (20000, 1.2407602791443351e-05)]}}"
      ]
     },
     "execution_count": 52,
     "metadata": {},
     "output_type": "execute_result"
    }
   ],
   "source": [
    "res"
   ]
  },
  {
   "cell_type": "code",
   "execution_count": null,
   "metadata": {
    "collapsed": true
   },
   "outputs": [],
   "source": []
  }
 ],
 "metadata": {
  "kernelspec": {
   "display_name": "Python 2",
   "language": "python",
   "name": "python2"
  },
  "language_info": {
   "codemirror_mode": {
    "name": "ipython",
    "version": 2
   },
   "file_extension": ".py",
   "mimetype": "text/x-python",
   "name": "python",
   "nbconvert_exporter": "python",
   "pygments_lexer": "ipython2",
   "version": "2.7.6"
  }
 },
 "nbformat": 4,
 "nbformat_minor": 0
}
