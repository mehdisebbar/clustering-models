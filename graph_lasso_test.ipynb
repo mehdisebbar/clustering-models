{
 "cells": [
  {
   "cell_type": "code",
   "execution_count": 84,
   "metadata": {
    "collapsed": false
   },
   "outputs": [
    {
     "name": "stdout",
     "output_type": "stream",
     "text": [
      "The autoreload extension is already loaded. To reload it, use:\n",
      "  %reload_ext autoreload\n"
     ]
    }
   ],
   "source": [
    "%load_ext autoreload\n",
    "%autoreload 2\n",
    "import numpy as np\n",
    "from sklearn.mixture import GaussianMixture\n",
    "from graph_lassov5 import GraphLassoMix\n",
    "from tools.gm_tools_old import gaussian_mixture_sample, gm_params_generator, best_cont_matrix"
   ]
  },
  {
   "cell_type": "code",
   "execution_count": 85,
   "metadata": {
    "collapsed": true
   },
   "outputs": [],
   "source": [
    "def center_gen(dim, k):\n",
    "    centers = []\n",
    "    for i in range(k):\n",
    "        center_id = [int(x) for x in bin(i).split(\"b\")[1]]\n",
    "        complement = [0 for _ in range(dim-len(center_id))]\n",
    "        centers.append(complement+center_id)\n",
    "    return np.array(centers)"
   ]
  },
  {
   "cell_type": "code",
   "execution_count": 86,
   "metadata": {
    "collapsed": true
   },
   "outputs": [],
   "source": [
    "d = 50\n",
    "N = 5000\n",
    "k = 50"
   ]
  },
  {
   "cell_type": "code",
   "execution_count": 87,
   "metadata": {
    "collapsed": false
   },
   "outputs": [],
   "source": [
    "#_, centers, cov = gm_params_generator(d, k)\n",
    "centers = center_gen(d,k)\n",
    "weights = 1./k*np.ones(k)\n",
    "cov = 1e-2*np.array([np.diag(np.ones(d)) for _ in range(k)])\n",
    "X, Y = gaussian_mixture_sample(weights, centers, cov, N)\n"
   ]
  },
  {
   "cell_type": "code",
   "execution_count": 88,
   "metadata": {
    "collapsed": false
   },
   "outputs": [],
   "source": [
    "import matplotlib.pyplot as plt\n",
    "%matplotlib inline"
   ]
  },
  {
   "cell_type": "code",
   "execution_count": 89,
   "metadata": {
    "collapsed": false
   },
   "outputs": [
    {
     "data": {
      "text/plain": [
       "<matplotlib.collections.PathCollection at 0x113588d50>"
      ]
     },
     "execution_count": 89,
     "metadata": {},
     "output_type": "execute_result"
    },
    {
     "data": {
      "image/png": "[encoded data removed]",
      "text/plain": [
       "<matplotlib.figure.Figure at 0x113419450>"
      ]
     },
     "metadata": {},
     "output_type": "display_data"
    }
   ],
   "source": [
    "plt.scatter(X[:,2], X[:,1])"
   ]
  },
  {
   "cell_type": "code",
   "execution_count": 90,
   "metadata": {
    "collapsed": false
   },
   "outputs": [],
   "source": [
    "\n",
    "def algo_score(Y, y_estim, t=0):\n",
    "    mat, permut, diag_sum = best_cont_matrix(Y, y_estim)\n",
    "    return permut"
   ]
  },
  {
   "cell_type": "code",
   "execution_count": null,
   "metadata": {
    "collapsed": false,
    "scrolled": false
   },
   "outputs": [
    {
     "name": "stdout",
     "output_type": "stream",
     "text": [
      "iter  0\n",
      "iter  1\n",
      "iter  2\n",
      "iter  3\n",
      "iter  4\n",
      "iter  5\n",
      "iter  6\n",
      "iter  7\n",
      "iter  8\n",
      "iter  9\n",
      "iter  10\n"
     ]
    }
   ],
   "source": [
    "lasso = GraphLassoMix(n_components=k, n_iter=20)\n",
    "lasso.fit(X)\n",
    "y_lasso = lasso.clusters_assigned\n",
    "\n",
    "gmm = GaussianMixture(n_components=k, covariance_type=\"full\")\n",
    "gmm.fit(X)\n",
    "y_em = gmm.predict(X)\n",
    "\n",
    "# print \"===Glasso result===\"\n",
    "#permut_lasso = algo_score(Y, y_lasso)\n",
    "\n",
    "# print \"\\n===EM result===\"\n",
    "#permut_gmm = algo_score(Y, y_em)"
   ]
  },
  {
   "cell_type": "code",
   "execution_count": 75,
   "metadata": {
    "collapsed": false
   },
   "outputs": [],
   "source": [
    "#permut_lasso"
   ]
  },
  {
   "cell_type": "code",
   "execution_count": 65,
   "metadata": {
    "collapsed": false
   },
   "outputs": [],
   "source": [
    "#permut_gmm"
   ]
  },
  {
   "cell_type": "code",
   "execution_count": 82,
   "metadata": {
    "collapsed": false
   },
   "outputs": [
    {
     "name": "stdout",
     "output_type": "stream",
     "text": [
      "0.0513921108631 0.87644464225\n"
     ]
    }
   ],
   "source": [
    "l = []\n",
    "for idx, val in enumerate(permut_lasso):\n",
    "    l.append(1. / (cov[0].shape[0] ** 2) * np.linalg.norm(np.linalg.inv(cov[0]) - lasso.omegas[val]))\n",
    "    #\n",
    "l2 = []\n",
    "for idx, val in enumerate(permut_gmm):\n",
    "    l2.append(1. / (cov[0].shape[0] ** 2) * np.linalg.norm(np.linalg.inv(cov[0]) - np.linalg.inv(gmm.covariances_[val])))\n",
    "\n",
    "print max(l), max(l2)"
   ]
  },
  {
   "cell_type": "code",
   "execution_count": 55,
   "metadata": {
    "collapsed": false
   },
   "outputs": [
    {
     "data": {
      "text/plain": [
       "array([ 0.099,  0.114,  0.106,  0.09 ,  0.11 ,  0.087,  0.096,  0.102,\n",
       "        0.092,  0.104])"
      ]
     },
     "execution_count": 55,
     "metadata": {},
     "output_type": "execute_result"
    }
   ],
   "source": [
    "lasso.pi"
   ]
  },
  {
   "cell_type": "code",
   "execution_count": 214,
   "metadata": {
    "collapsed": false
   },
   "outputs": [
    {
     "data": {
      "text/plain": [
       "array([[[  8.80011235e-03,  -2.14148520e-04,  -5.25321894e-04],\n",
       "        [ -2.14148520e-04,   8.54414294e-03,  -1.15077310e-03],\n",
       "        [ -5.25321894e-04,  -1.15077310e-03,   1.00768630e-02]],\n",
       "\n",
       "       [[  1.11150140e-02,  -1.03777471e-04,   1.06937855e-03],\n",
       "        [ -1.03777471e-04,   9.44338252e-03,  -4.19325373e-04],\n",
       "        [  1.06937855e-03,  -4.19325373e-04,   1.02681367e-02]],\n",
       "\n",
       "       [[  1.01890554e-02,  -1.14293746e-03,   7.03881339e-05],\n",
       "        [ -1.14293746e-03,   9.39423272e-03,   7.24729768e-04],\n",
       "        [  7.03881339e-05,   7.24729768e-04,   1.08102296e-02]],\n",
       "\n",
       "       [[  1.00416382e-02,   8.38060987e-04,  -6.08434253e-04],\n",
       "        [  8.38060987e-04,   9.58035576e-03,  -6.52337368e-04],\n",
       "        [ -6.08434253e-04,  -6.52337368e-04,   1.13569739e-02]],\n",
       "\n",
       "       [[  8.37649167e-03,   3.45546472e-04,  -1.54526963e-03],\n",
       "        [  3.45546472e-04,   9.99191712e-03,   8.02589877e-04],\n",
       "        [ -1.54526963e-03,   8.02589877e-04,   9.86831004e-03]]])"
      ]
     },
     "execution_count": 214,
     "metadata": {},
     "output_type": "execute_result"
    }
   ],
   "source": [
    "gmm.covariances_"
   ]
  },
  {
   "cell_type": "code",
   "execution_count": 446,
   "metadata": {
    "collapsed": false
   },
   "outputs": [],
   "source": [
    "from os import listdir\n",
    "from os.path import isfile, join\n",
    "import pickle\n",
    "import pandas as pd\n",
    "import seaborn as sns\n",
    "#matplotlib.rc('font', family='serif', serif='cm10')\n",
    "#matplotlib.rc('text', usetex=True)\n",
    "matplotlib.rcParams['text.latex.preamble'] = [r'\\boldmath']\n",
    "\n",
    "simu_folder = \"dg_2017-09-26_12.29.30/\"\n",
    "folder = \"./\"+simu_folder+\"/\"\n",
    "onlyfiles = [f for f in listdir(folder) if (isfile(join(folder, f)) and f.startswith(\"res_\"))]\n",
    "res = []\n",
    "for f in onlyfiles:\n",
    "    res.append(pickle.load(open(folder+f)))"
   ]
  },
  {
   "cell_type": "code",
   "execution_count": 447,
   "metadata": {
    "collapsed": true
   },
   "outputs": [],
   "source": [
    "df = pd.DataFrame(res)"
   ]
  },
  {
   "cell_type": "code",
   "execution_count": 484,
   "metadata": {
    "collapsed": false
   },
   "outputs": [],
   "source": [
    "\n",
    "params = {'legend.fontsize': '16',\n",
    "         'axes.labelsize': '6'}\n",
    "plt.rcParams.update(params)\n",
    "def gen_graph_dict_gen_loss(df, p):\n",
    "    df_temp = df[(df.p==p)]\n",
    "    df_temp2 = df_temp.drop(['p', 'X', 'time_lasso', 'time_em'], axis=1)\n",
    "    df2 = pd.melt(df_temp2, id_vars=[\"N\",\"K\"], var_name=\"Type\", value_name=\"loss\")\n",
    "    df2.loss = df2.loss.apply(max)\n",
    "    df2['Type']=df2['Type'].map({\"error_em\":\"EM\", \"error_lasso\":\"Glasso GMM\"})\n",
    "    print df2.head()\n",
    "    #return df2\n",
    "    ##set(df2[\"Type\"])\n",
    "    ##df3 = pd.melt(df2, id_vars=[\"N\"], var_name=\"comp\", value_name=\"weight\")\n",
    "    #df3 = pd.concat([df2, df2.apply(extract_type, axis =1)], axis=1)\n",
    "    ##df5 = df4.apply(remove_method_comp, axis=1)\n",
    "    #df4 = df3.replace([np.inf, -np.inf], np.nan).dropna(subset=[\"loss\"], how=\"all\")\n",
    "    plt.figure(figsize=(10,5))\n",
    "    boxplot = sns.boxplot(x=\"Type\", y=\"loss\", data=df2[df2.K==4], hue=\"N\",\n",
    "                         palette=[\"#ff6666\", \"#ffd966\", \"#b3ff66\"])\n",
    "    for patch in boxplot.artists:\n",
    "        r, g, b, a = patch.get_facecolor()\n",
    "        patch.set_facecolor((r, g, b, 1))\n",
    "    boxplot.set_yscale(\"log\")\n",
    "    #if metric == 'L2':\n",
    "    boxplot.set_ylabel(r'$\\max_k||\\hat\\Omega_k-\\Omega_k^*||_F$',fontsize=16)\n",
    "    #else:\n",
    "    #    boxplot.set_ylabel(metric+'-Loss')\n",
    "    boxplot.set_xlabel(r'\\textbf{Number of clusters}', fontsize=16)\n",
    "#\n",
    "    sns_plot = boxplot.get_figure()"
   ]
  },
  {
   "cell_type": "code",
   "execution_count": 485,
   "metadata": {
    "collapsed": false
   },
   "outputs": [
    {
     "name": "stdout",
     "output_type": "stream",
     "text": [
      "     N   K Type          loss\n",
      "0  100  10   EM  56512.258350\n",
      "1  100  10   EM  69212.757413\n",
      "2  100  10   EM   4011.330465\n",
      "3  100  10   EM   1952.389973\n",
      "4  100  10   EM  79920.005610\n"
     ]
    },
    {
     "data": {
      "image/png": "[encoded data removed]",
      "text/plain": [
       "<matplotlib.figure.Figure at 0x11a87ccd0>"
      ]
     },
     "metadata": {},
     "output_type": "display_data"
    }
   ],
   "source": [
    "gen_graph_dict_gen_loss(df, 5)"
   ]
  },
  {
   "cell_type": "code",
   "execution_count": 456,
   "metadata": {
    "collapsed": false
   },
   "outputs": [
    {
     "ename": "NameError",
     "evalue": "name 'df3' is not defined",
     "output_type": "error",
     "traceback": [
      "\u001b[0;31m---------------------------------------------------------------------------\u001b[0m",
      "\u001b[0;31mNameError\u001b[0m                                 Traceback (most recent call last)",
      "\u001b[0;32m<ipython-input-456-70805dda4d79>\u001b[0m in \u001b[0;36m<module>\u001b[0;34m()\u001b[0m\n\u001b[0;32m----> 1\u001b[0;31m \u001b[0mdf3\u001b[0m\u001b[0;34m.\u001b[0m\u001b[0mloss\u001b[0m \u001b[0;34m=\u001b[0m \u001b[0mdf3\u001b[0m\u001b[0;34m.\u001b[0m\u001b[0mloss\u001b[0m\u001b[0;34m.\u001b[0m\u001b[0mapply\u001b[0m\u001b[0;34m(\u001b[0m\u001b[0mmax\u001b[0m\u001b[0;34m)\u001b[0m\u001b[0;34m\u001b[0m\u001b[0m\n\u001b[0m",
      "\u001b[0;31mNameError\u001b[0m: name 'df3' is not defined"
     ]
    }
   ],
   "source": [
    "df3.loss = df3.loss.apply(max)"
   ]
  },
  {
   "cell_type": "code",
   "execution_count": 483,
   "metadata": {
    "collapsed": false
   },
   "outputs": [
    {
     "data": {
      "text/plain": [
       "{2, 4, 10}"
      ]
     },
     "execution_count": 483,
     "metadata": {},
     "output_type": "execute_result"
    }
   ],
   "source": [
    "set(df.K)"
   ]
  },
  {
   "cell_type": "code",
   "execution_count": 103,
   "metadata": {
    "collapsed": true
   },
   "outputs": [],
   "source": [
    "a = np.zeros([2,10,2])"
   ]
  },
  {
   "cell_type": "code",
   "execution_count": 147,
   "metadata": {
    "collapsed": false
   },
   "outputs": [
    {
     "data": {
      "text/plain": [
       "(10, 2)"
      ]
     },
     "execution_count": 147,
     "metadata": {},
     "output_type": "execute_result"
    }
   ],
   "source": [
    "a[0].shape"
   ]
  },
  {
   "cell_type": "code",
   "execution_count": null,
   "metadata": {
    "collapsed": true
   },
   "outputs": [],
   "source": []
  }
 ],
 "metadata": {
  "kernelspec": {
   "display_name": "Python 2",
   "language": "python",
   "name": "python2"
  },
  "language_info": {
   "codemirror_mode": {
    "name": "ipython",
    "version": 2
   },
   "file_extension": ".py",
   "mimetype": "text/x-python",
   "name": "python",
   "nbconvert_exporter": "python",
   "pygments_lexer": "ipython2",
   "version": "2.7.13"
  }
 },
 "nbformat": 4,
 "nbformat_minor": 1
}
