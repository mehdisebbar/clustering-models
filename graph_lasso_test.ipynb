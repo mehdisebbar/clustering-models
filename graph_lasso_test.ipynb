{
 "cells": [
  {
   "cell_type": "code",
   "execution_count": 296,
   "metadata": {
    "collapsed": false
   },
   "outputs": [
    {
     "name": "stdout",
     "output_type": "stream",
     "text": [
      "The autoreload extension is already loaded. To reload it, use:\n",
      "  %reload_ext autoreload\n"
     ]
    }
   ],
   "source": [
    "%load_ext autoreload\n",
    "%autoreload 2\n",
    "import numpy as np\n",
    "from sklearn.mixture import GaussianMixture\n",
    "from graph_lassov5 import GraphLassoMix\n",
    "from tools.gm_tools_old import gaussian_mixture_sample, gm_params_generator, best_cont_matrix"
   ]
  },
  {
   "cell_type": "code",
   "execution_count": 297,
   "metadata": {
    "collapsed": true
   },
   "outputs": [],
   "source": [
    "def center_gen(dim, k):\n",
    "    centers = []\n",
    "    for i in range(k):\n",
    "        center_id = [int(x) for x in bin(i).split(\"b\")[1]]\n",
    "        complement = [0 for _ in range(dim-len(center_id))]\n",
    "        centers.append(complement+center_id)\n",
    "    return np.array(centers)"
   ]
  },
  {
   "cell_type": "code",
   "execution_count": 298,
   "metadata": {
    "collapsed": true
   },
   "outputs": [],
   "source": [
    "d = 3\n",
    "N = 1000\n",
    "k = 5"
   ]
  },
  {
   "cell_type": "code",
   "execution_count": 299,
   "metadata": {
    "collapsed": false
   },
   "outputs": [],
   "source": [
    "#_, centers, cov = gm_params_generator(d, k)\n",
    "centers = center_gen(d,k)\n",
    "weights = 1./k*np.ones(k)\n",
    "cov = 1e-2*np.array([np.diag(np.ones(d)) for _ in range(k)])\n",
    "X, Y = gaussian_mixture_sample(weights, centers, cov, N)\n"
   ]
  },
  {
   "cell_type": "code",
   "execution_count": 300,
   "metadata": {
    "collapsed": false
   },
   "outputs": [],
   "source": [
    "import matplotlib.pyplot as plt\n",
    "%matplotlib inline"
   ]
  },
  {
   "cell_type": "code",
   "execution_count": 301,
   "metadata": {
    "collapsed": false
   },
   "outputs": [
    {
     "data": {
      "text/plain": [
       "<matplotlib.collections.PathCollection at 0x116edaa10>"
      ]
     },
     "execution_count": 301,
     "metadata": {},
     "output_type": "execute_result"
    },
    {
     "data": {
      "image/png": "[encoded data removed]",
      "text/plain": [
       "<matplotlib.figure.Figure at 0x116ee9e50>"
      ]
     },
     "metadata": {},
     "output_type": "display_data"
    }
   ],
   "source": [
    "plt.scatter(X[:,2], X[:,1])"
   ]
  },
  {
   "cell_type": "code",
   "execution_count": 302,
   "metadata": {
    "collapsed": false
   },
   "outputs": [],
   "source": [
    "\n",
    "def algo_score(Y, y_estim, t=0):\n",
    "    mat, permut, diag_sum = best_cont_matrix(Y, y_estim)\n",
    "    return permut"
   ]
  },
  {
   "cell_type": "code",
   "execution_count": 303,
   "metadata": {
    "collapsed": false,
    "scrolled": false
   },
   "outputs": [],
   "source": [
    "lasso = GraphLassoMix(n_components=k, n_iter=20)\n",
    "lasso.fit(X)\n",
    "y_lasso = lasso.clusters_assigned\n",
    "\n",
    "gmm = GaussianMixture(n_components=k, covariance_type=\"full\")\n",
    "gmm.fit(X)\n",
    "y_em = gmm.predict(X)\n",
    "\n",
    "# print \"===Glasso result===\"\n",
    "permut_lasso = algo_score(Y, y_lasso)\n",
    "\n",
    "# print \"\\n===EM result===\"\n",
    "permut_gmm = algo_score(Y, y_em)"
   ]
  },
  {
   "cell_type": "code",
   "execution_count": 308,
   "metadata": {
    "collapsed": false
   },
   "outputs": [
    {
     "data": {
      "text/plain": [
       "array([[  3.83336988e-01,   1.30440625e-02,   1.96369572e-02,\n",
       "          2.01685315e-02,   5.63813461e-01],\n",
       "       [  5.14468248e-01,   6.06295877e-03,   1.93223212e-02,\n",
       "          9.79124131e-03,   4.50355231e-01],\n",
       "       [  5.02251290e-01,   3.97026077e-03,   1.89905273e-02,\n",
       "          9.32117986e-03,   4.65466742e-01],\n",
       "       ..., \n",
       "       [  4.74796079e-02,   2.41210416e-03,   2.66895179e-02,\n",
       "          9.17814770e-01,   5.60400034e-03],\n",
       "       [  3.07188314e-04,   9.89647260e-01,   2.69435449e-04,\n",
       "          6.62322241e-03,   3.15289392e-03],\n",
       "       [  9.50242064e-01,   2.18823339e-05,   2.46917048e-02,\n",
       "          1.95980517e-02,   5.44629686e-03]])"
      ]
     },
     "execution_count": 308,
     "metadata": {},
     "output_type": "execute_result"
    }
   ],
   "source": [
    "lasso.t"
   ]
  },
  {
   "cell_type": "code",
   "execution_count": 304,
   "metadata": {
    "collapsed": false
   },
   "outputs": [
    {
     "data": {
      "text/plain": [
       "[1, 4, 3, 0]"
      ]
     },
     "execution_count": 304,
     "metadata": {},
     "output_type": "execute_result"
    }
   ],
   "source": [
    "permut_lasso"
   ]
  },
  {
   "cell_type": "code",
   "execution_count": 305,
   "metadata": {
    "collapsed": false
   },
   "outputs": [
    {
     "data": {
      "text/plain": [
       "[0, 4, 1, 3, 2]"
      ]
     },
     "execution_count": 305,
     "metadata": {},
     "output_type": "execute_result"
    }
   ],
   "source": [
    "permut_gmm"
   ]
  },
  {
   "cell_type": "code",
   "execution_count": 306,
   "metadata": {
    "collapsed": false
   },
   "outputs": [
    {
     "name": "stdout",
     "output_type": "stream",
     "text": [
      "18.0008559838 3.87834055268\n"
     ]
    }
   ],
   "source": [
    "l = []\n",
    "for idx, val in enumerate(permut_lasso):\n",
    "    l.append(1. / (cov[idx].shape[0] ** 2) * np.linalg.norm(np.linalg.inv(cov[idx]) - lasso.omegas[val]))\n",
    "    #\n",
    "l2 = []\n",
    "for idx, val in enumerate(permut_gmm):\n",
    "    l2.append(1. / (cov[idx].shape[0] ** 2) * np.linalg.norm(np.linalg.inv(cov[idx]) - np.linalg.inv(gmm.covariances_[val])))\n",
    "\n",
    "print max(l), max(l2)"
   ]
  },
  {
   "cell_type": "code",
   "execution_count": 307,
   "metadata": {
    "collapsed": false
   },
   "outputs": [
    {
     "data": {
      "text/plain": [
       "array([[[ 0.11128854,  0.        ,  0.        ],\n",
       "        [ 0.        ,  0.32869712,  0.        ],\n",
       "        [ 0.        ,  0.        ,  0.1256265 ]],\n",
       "\n",
       "       [[ 0.3063149 ,  0.        ,  0.        ],\n",
       "        [ 0.        ,  0.1140902 ,  0.        ],\n",
       "        [ 0.        ,  0.        ,  0.11433864]],\n",
       "\n",
       "       [[ 0.11298404,  0.        ,  0.        ],\n",
       "        [ 0.        ,  0.34095978,  0.        ],\n",
       "        [ 0.        ,  0.        ,  0.35384975]],\n",
       "\n",
       "       [[ 0.11367271,  0.        ,  0.        ],\n",
       "        [ 0.        ,  0.28509798,  0.        ],\n",
       "        [ 0.        ,  0.        ,  0.12809217]],\n",
       "\n",
       "       [[ 0.11443024,  0.        ,  0.        ],\n",
       "        [ 0.        ,  0.13713616,  0.        ],\n",
       "        [ 0.        ,  0.        ,  0.29039777]]])"
      ]
     },
     "execution_count": 307,
     "metadata": {},
     "output_type": "execute_result"
    }
   ],
   "source": [
    "np.linalg.inv(lasso.omegas)"
   ]
  },
  {
   "cell_type": "code",
   "execution_count": 214,
   "metadata": {
    "collapsed": false
   },
   "outputs": [
    {
     "data": {
      "text/plain": [
       "array([[[  8.80011235e-03,  -2.14148520e-04,  -5.25321894e-04],\n",
       "        [ -2.14148520e-04,   8.54414294e-03,  -1.15077310e-03],\n",
       "        [ -5.25321894e-04,  -1.15077310e-03,   1.00768630e-02]],\n",
       "\n",
       "       [[  1.11150140e-02,  -1.03777471e-04,   1.06937855e-03],\n",
       "        [ -1.03777471e-04,   9.44338252e-03,  -4.19325373e-04],\n",
       "        [  1.06937855e-03,  -4.19325373e-04,   1.02681367e-02]],\n",
       "\n",
       "       [[  1.01890554e-02,  -1.14293746e-03,   7.03881339e-05],\n",
       "        [ -1.14293746e-03,   9.39423272e-03,   7.24729768e-04],\n",
       "        [  7.03881339e-05,   7.24729768e-04,   1.08102296e-02]],\n",
       "\n",
       "       [[  1.00416382e-02,   8.38060987e-04,  -6.08434253e-04],\n",
       "        [  8.38060987e-04,   9.58035576e-03,  -6.52337368e-04],\n",
       "        [ -6.08434253e-04,  -6.52337368e-04,   1.13569739e-02]],\n",
       "\n",
       "       [[  8.37649167e-03,   3.45546472e-04,  -1.54526963e-03],\n",
       "        [  3.45546472e-04,   9.99191712e-03,   8.02589877e-04],\n",
       "        [ -1.54526963e-03,   8.02589877e-04,   9.86831004e-03]]])"
      ]
     },
     "execution_count": 214,
     "metadata": {},
     "output_type": "execute_result"
    }
   ],
   "source": [
    "gmm.covariances_"
   ]
  },
  {
   "cell_type": "code",
   "execution_count": 185,
   "metadata": {
    "collapsed": false
   },
   "outputs": [],
   "source": [
    "from os import listdir\n",
    "from os.path import isfile, join\n",
    "import pickle\n",
    "simu_folder = \"graph_res/\"\n",
    "folder = \"./\"+simu_folder+\"/\"\n",
    "onlyfiles = [f for f in listdir(folder) if (isfile(join(folder, f)) and f.startswith(\"res_\"))]\n",
    "res = []\n",
    "for f in onlyfiles:\n",
    "    res.append(pickle.load(open(folder+f)))"
   ]
  },
  {
   "cell_type": "code",
   "execution_count": 115,
   "metadata": {
    "collapsed": false
   },
   "outputs": [],
   "source": [
    "import pandas as pd"
   ]
  },
  {
   "cell_type": "code",
   "execution_count": 116,
   "metadata": {
    "collapsed": true
   },
   "outputs": [],
   "source": [
    "df = pd.DataFrame(res)"
   ]
  },
  {
   "cell_type": "code",
   "execution_count": 139,
   "metadata": {
    "collapsed": false
   },
   "outputs": [],
   "source": [
    "import seaborn as sns\n",
    "def gen_graph_dict_gen_loss(df, p):\n",
    "    df_temp = df[(df.p==p)]\n",
    "    df_temp2 = df_temp.drop(['p', 'X', 'time_lasso', 'time_em'], axis=1)\n",
    "    df2 = pd.melt(df_temp2, id_vars=[\"N\",\"K\"], var_name=\"Type\", value_name=\"loss\")\n",
    "    df2.loss = df2.loss.apply(max)\n",
    "    #return df2\n",
    "    ##set(df2[\"Type\"])\n",
    "    ##df3 = pd.melt(df2, id_vars=[\"N\"], var_name=\"comp\", value_name=\"weight\")\n",
    "    #df3 = pd.concat([df2, df2.apply(extract_type, axis =1)], axis=1)\n",
    "    ##df5 = df4.apply(remove_method_comp, axis=1)\n",
    "    #df4 = df3.replace([np.inf, -np.inf], np.nan).dropna(subset=[\"loss\"], how=\"all\")\n",
    "    plt.figure(figsize=(10,5))\n",
    "    boxplot = sns.boxplot(x=\"K\", y=\"loss\", data=df2, hue=\"Type\",\n",
    "                         palette=[\"#ff6666\", \"#ffd966\", \"#b3ff66\"])\n",
    "    for patch in boxplot.artists:\n",
    "        r, g, b, a = patch.get_facecolor()\n",
    "        patch.set_facecolor((r, g, b, 1))\n",
    "    boxplot.set_yscale(\"log\")\n",
    "    #if metric == 'L2':\n",
    "    #    boxplot.set_ylabel(r'$L_2$-Loss')\n",
    "    #else:\n",
    "    #    boxplot.set_ylabel(metric+'-Loss')\n",
    "    boxplot.set_xlabel('')\n",
    "#\n",
    "    sns_plot = boxplot.get_figure()"
   ]
  },
  {
   "cell_type": "code",
   "execution_count": 140,
   "metadata": {
    "collapsed": false
   },
   "outputs": [
    {
     "data": {
      "image/png": "[encoded data removed]",
      "text/plain": [
       "<matplotlib.figure.Figure at 0x1141b72d0>"
      ]
     },
     "metadata": {},
     "output_type": "display_data"
    }
   ],
   "source": [
    "gen_graph_dict_gen_loss(df, 2)"
   ]
  },
  {
   "cell_type": "code",
   "execution_count": 92,
   "metadata": {
    "collapsed": false
   },
   "outputs": [],
   "source": [
    "df3.loss = df3.loss.apply(max)"
   ]
  },
  {
   "cell_type": "code",
   "execution_count": 126,
   "metadata": {
    "collapsed": false
   },
   "outputs": [
    {
     "data": {
      "text/plain": [
       "0       100\n",
       "1       100\n",
       "2      1000\n",
       "3      1000\n",
       "4      1000\n",
       "5      1000\n",
       "6      1000\n",
       "7      1000\n",
       "8      1000\n",
       "9      1000\n",
       "10     1000\n",
       "11     1000\n",
       "12     1000\n",
       "13     1000\n",
       "14     1000\n",
       "15     1000\n",
       "16     1000\n",
       "17     1000\n",
       "18     1000\n",
       "19     1000\n",
       "20     1000\n",
       "21     1000\n",
       "22     1000\n",
       "23     1000\n",
       "24     1000\n",
       "25     1000\n",
       "26     1000\n",
       "27     1000\n",
       "28     1000\n",
       "29     1000\n",
       "       ... \n",
       "403     100\n",
       "404     100\n",
       "405     100\n",
       "406     100\n",
       "407     100\n",
       "408     100\n",
       "409     100\n",
       "410     100\n",
       "411     100\n",
       "412     100\n",
       "413     100\n",
       "414     100\n",
       "415     100\n",
       "416     100\n",
       "417     100\n",
       "418     100\n",
       "419     100\n",
       "420     100\n",
       "421     100\n",
       "422     100\n",
       "423     100\n",
       "424     100\n",
       "425     100\n",
       "426     100\n",
       "427     100\n",
       "428     100\n",
       "429     100\n",
       "430     100\n",
       "431     100\n",
       "432     100\n",
       "Name: N, dtype: int64"
      ]
     },
     "execution_count": 126,
     "metadata": {},
     "output_type": "execute_result"
    }
   ],
   "source": [
    "df.N"
   ]
  },
  {
   "cell_type": "code",
   "execution_count": 103,
   "metadata": {
    "collapsed": true
   },
   "outputs": [],
   "source": [
    "a = np.zeros([2,10,2])"
   ]
  },
  {
   "cell_type": "code",
   "execution_count": 147,
   "metadata": {
    "collapsed": false
   },
   "outputs": [
    {
     "data": {
      "text/plain": [
       "(10, 2)"
      ]
     },
     "execution_count": 147,
     "metadata": {},
     "output_type": "execute_result"
    }
   ],
   "source": [
    "a[0].shape"
   ]
  },
  {
   "cell_type": "code",
   "execution_count": null,
   "metadata": {
    "collapsed": true
   },
   "outputs": [],
   "source": []
  }
 ],
 "metadata": {
  "kernelspec": {
   "display_name": "Python 2",
   "language": "python",
   "name": "python2"
  },
  "language_info": {
   "codemirror_mode": {
    "name": "ipython",
    "version": 2
   },
   "file_extension": ".py",
   "mimetype": "text/x-python",
   "name": "python",
   "nbconvert_exporter": "python",
   "pygments_lexer": "ipython2",
   "version": "2.7.13"
  }
 },
 "nbformat": 4,
 "nbformat_minor": 1
}
